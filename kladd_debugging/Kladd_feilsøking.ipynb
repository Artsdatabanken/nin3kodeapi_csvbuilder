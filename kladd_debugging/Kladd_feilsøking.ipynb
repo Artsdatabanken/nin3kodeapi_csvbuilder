{
 "cells": [
  {
   "cell_type": "code",
   "execution_count": null,
   "metadata": {},
   "outputs": [],
   "source": [
    "import json\n",
    "\n",
    "klids_m_gt = []\n",
    "klids=[]\n",
    "\n",
    "with open('inn_data/klidsFraGT.json', 'r') as f:\n",
    "    klids_m_gt_json = json.load(f)\n",
    "    for element in klids_m_gt_json:\n",
    "        klids_m_gt.append(element['KartleggingsenhetId'])\n",
    "\n",
    "with open('inn_data/alle_m005_ids.csv', 'r') as f:\n",
    "    klids_tmp = f.read().splitlines()[1:]\n",
    "    for v in klids_tmp:\n",
    "        klids.append(int(v))\n",
    "klids\n",
    "#klids_m_gt\n",
    "klids_no_gt = list(set(klids) - set(klids_m_gt))\n",
    "klids_no_gt\n",
    "#print(klids_no_gt.sort())"
   ]
  },
  {
   "cell_type": "markdown",
   "metadata": {},
   "source": [
    "# (#185: Sjekker langkoder på Hovedtyper)"
   ]
  },
  {
   "cell_type": "code",
   "execution_count": null,
   "metadata": {},
   "outputs": [],
   "source": [
    " # Fetching hovedtype-kortkode and langkode from database\n",
    "import pandas as pd\n",
    "import sqlite3\n",
    "\n",
    "# Connect to the SQLite database\n",
    "conn = sqlite3.connect(\"C:/Projects/nin3-kode-api/NiN3.WebApi/nin3kodeapi.db\")\n",
    "query = \"SELECT Langkode, Kode as HTKode FROM Hovedtype\"  # Write your SQLite query\n",
    "df_db = pd.read_sql_query(query, conn)  # Execute the query and store the result in a DataFrame\n",
    "conn.close()  # Close the database connection\n",
    "\n",
    "# Create a new column langkode_parent\n",
    "df_db['langkode_parent'] = df_db['Langkode'].str.split('-', n=6).str[:6].str.join('-')\n",
    "\n",
    "#print(df_db)  # Print the DataFrame\n",
    "\n",
    "\n",
    "## Fetching hovedtype-kortkode(splitted on parent) and langkode from excel \n",
    "plk_htk = nin3_typer[['Langkode', 'HTKode']] \n",
    "plk_htk = plk_htk.astype(str) # setting all columns to string\n",
    "plk_htk = plk_htk.applymap(lambda x: x.strip() if isinstance(x, str) else x) # removing whitespace\n",
    "plk_htk['langkode_parent_xl'] = plk_htk['Langkode'].str.split('-', n=6).str[:6].str.join('-')\n",
    "plk_htk['HTKode'] = plk_htk['HTKode'].str.replace('_', '-')\n",
    "plk_htk = plk_htk.drop('Langkode', axis=1)\n",
    "plk_htk = plk_htk.drop_duplicates(subset=['HTKode', 'langkode_parent_xl'])\n",
    "\n",
    "ht_kode_parentCheck = df_db.merge(plk_htk, on='HTKode', how='left') # dette resultatet gir en del miss fra Excel-siden\n",
    "ht_kode_parentCheck # (Langkode     HTKode\t    langkode_parent\t    langkode_parent_xl)\n",
    "ht_kode_parentCheck.to_csv('kladd_debugging/htk_langkode_parent_matchCheck.csv', sep=';', index=False)\n",
    "\n",
    "\n",
    "#plk_htk = "
   ]
  },
  {
   "cell_type": "code",
   "execution_count": 1,
   "metadata": {},
   "outputs": [
    {
     "name": "stdout",
     "output_type": "stream",
     "text": [
      "- [ ] grunntyper.csv\n",
      "- [ ] grunntype_variabeltrinn_mapping.csv\n",
      "- [ ] hovedtype.csv\n",
      "- [ ] hovedtypegrupper.csv\n",
      "- [ ] hovedtypegruppe_hovedtype_mapping.csv\n",
      "- [ ] hovedtype_grunntype_mapping.csv\n",
      "- [ ] hovedtype_variabeltrinn_mapping.csv\n",
      "- [ ] htg_ht_gt_mapping.csv\n",
      "- [ ] konvertering_gt_v30.csv\n",
      "- [ ] konvertering_htg_v30.csv\n",
      "- [ ] konvertering_ht_v30.csv\n",
      "- [ ] M005.csv\n",
      "- [ ] m005_grunntype_mapping.csv\n",
      "- [ ] m005_hovedtype_mapping.csv\n",
      "- [ ] m020.csv\n",
      "- [ ] m020_grunntype_mapping.csv\n",
      "- [ ] m020_hovedtype_mapping.csv\n",
      "- [ ] m050.csv\n",
      "- [ ] m050_grunntype_mapping.csv\n",
      "- [ ] m050_hovedtype_mapping.csv\n",
      "- [ ] maaleskala_enhet.csv\n",
      "- [ ] maaleskala_trinn.csv\n",
      "- [ ] type.csv\n",
      "- [ ] typeklasser_langkode_mapping.csv\n",
      "- [ ] type_htg_mapping.csv\n",
      "- [ ] variabel.csv\n",
      "- [ ] variabelnavn.csv\n",
      "- [ ] variabelnavn_maaleskala_mapping.csv\n",
      "- [ ] variabelnavn_variabel_mapping.csv\n",
      "\n"
     ]
    }
   ],
   "source": [
    "csv = \"\"\"grunntyper.csv\n",
    "grunntype_variabeltrinn_mapping.csv\n",
    "hovedtype.csv\n",
    "hovedtypegrupper.csv\n",
    "hovedtypegruppe_hovedtype_mapping.csv\n",
    "hovedtype_grunntype_mapping.csv\n",
    "hovedtype_variabeltrinn_mapping.csv\n",
    "htg_ht_gt_mapping.csv\n",
    "konvertering_gt_v30.csv\n",
    "konvertering_htg_v30.csv\n",
    "konvertering_ht_v30.csv\n",
    "M005.csv\n",
    "m005_grunntype_mapping.csv\n",
    "m005_hovedtype_mapping.csv\n",
    "m020.csv\n",
    "m020_grunntype_mapping.csv\n",
    "m020_hovedtype_mapping.csv\n",
    "m050.csv\n",
    "m050_grunntype_mapping.csv\n",
    "m050_hovedtype_mapping.csv\n",
    "maaleskala_enhet.csv\n",
    "maaleskala_trinn.csv\n",
    "type.csv\n",
    "typeklasser_langkode_mapping.csv\n",
    "type_htg_mapping.csv\n",
    "variabel.csv\n",
    "variabelnavn.csv\n",
    "variabelnavn_maaleskala_mapping.csv\n",
    "variabelnavn_variabel_mapping.csv\"\"\"\n",
    "lines = csv.split(\"\\n\")\n",
    "markdown = \"\"\n",
    "for line in lines:\n",
    "    markdown += f\"- [ ] {line}\\n\"\n",
    "\n",
    "print(markdown)\n"
   ]
  }
 ],
 "metadata": {
  "kernelspec": {
   "display_name": "base",
   "language": "python",
   "name": "python3"
  },
  "language_info": {
   "codemirror_mode": {
    "name": "ipython",
    "version": 3
   },
   "file_extension": ".py",
   "mimetype": "text/x-python",
   "name": "python",
   "nbconvert_exporter": "python",
   "pygments_lexer": "ipython3",
   "version": "3.11.5"
  }
 },
 "nbformat": 4,
 "nbformat_minor": 2
}
