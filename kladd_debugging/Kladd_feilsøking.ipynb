{
 "cells": [
  {
   "cell_type": "code",
   "execution_count": null,
   "metadata": {},
   "outputs": [],
   "source": [
    "import json\n",
    "\n",
    "klids_m_gt = []\n",
    "klids=[]\n",
    "\n",
    "with open('inn_data/klidsFraGT.json', 'r') as f:\n",
    "    klids_m_gt_json = json.load(f)\n",
    "    for element in klids_m_gt_json:\n",
    "        klids_m_gt.append(element['KartleggingsenhetId'])\n",
    "\n",
    "with open('inn_data/alle_m005_ids.csv', 'r') as f:\n",
    "    klids_tmp = f.read().splitlines()[1:]\n",
    "    for v in klids_tmp:\n",
    "        klids.append(int(v))\n",
    "klids\n",
    "#klids_m_gt\n",
    "klids_no_gt = list(set(klids) - set(klids_m_gt))\n",
    "klids_no_gt\n",
    "#print(klids_no_gt.sort())"
   ]
  },
  {
   "cell_type": "markdown",
   "metadata": {},
   "source": [
    "# (#185: Sjekker langkoder på Hovedtyper)"
   ]
  },
  {
   "cell_type": "code",
   "execution_count": null,
   "metadata": {},
   "outputs": [],
   "source": [
    " # Fetching hovedtype-kortkode and langkode from database\n",
    "import pandas as pd\n",
    "import sqlite3\n",
    "\n",
    "# Connect to the SQLite database\n",
    "conn = sqlite3.connect(\"C:/Projects/nin3-kode-api/NiN3.WebApi/nin3kodeapi.db\")\n",
    "query = \"SELECT Langkode, Kode as HTKode FROM Hovedtype\"  # Write your SQLite query\n",
    "df_db = pd.read_sql_query(query, conn)  # Execute the query and store the result in a DataFrame\n",
    "conn.close()  # Close the database connection\n",
    "\n",
    "# Create a new column langkode_parent\n",
    "df_db['langkode_parent'] = df_db['Langkode'].str.split('-', n=6).str[:6].str.join('-')\n",
    "\n",
    "#print(df_db)  # Print the DataFrame\n",
    "\n",
    "\n",
    "## Fetching hovedtype-kortkode(splitted on parent) and langkode from excel \n",
    "plk_htk = nin3_typer[['Langkode', 'HTKode']] \n",
    "plk_htk = plk_htk.astype(str) # setting all columns to string\n",
    "plk_htk = plk_htk.applymap(lambda x: x.strip() if isinstance(x, str) else x) # removing whitespace\n",
    "plk_htk['langkode_parent_xl'] = plk_htk['Langkode'].str.split('-', n=6).str[:6].str.join('-')\n",
    "plk_htk['HTKode'] = plk_htk['HTKode'].str.replace('_', '-')\n",
    "plk_htk = plk_htk.drop('Langkode', axis=1)\n",
    "plk_htk = plk_htk.drop_duplicates(subset=['HTKode', 'langkode_parent_xl'])\n",
    "\n",
    "ht_kode_parentCheck = df_db.merge(plk_htk, on='HTKode', how='left') # dette resultatet gir en del miss fra Excel-siden\n",
    "ht_kode_parentCheck # (Langkode     HTKode\t    langkode_parent\t    langkode_parent_xl)\n",
    "ht_kode_parentCheck.to_csv('kladd_debugging/htk_langkode_parent_matchCheck.csv', sep=';', index=False)\n",
    "\n",
    "\n",
    "#plk_htk = "
   ]
  },
  {
   "cell_type": "code",
   "execution_count": 1,
   "metadata": {},
   "outputs": [
    {
     "name": "stdout",
     "output_type": "stream",
     "text": [
      "- [ ] grunntyper.csv\n",
      "- [ ] grunntype_variabeltrinn_mapping.csv\n",
      "- [ ] hovedtype.csv\n",
      "- [ ] hovedtypegrupper.csv\n",
      "- [ ] hovedtypegruppe_hovedtype_mapping.csv\n",
      "- [ ] hovedtype_grunntype_mapping.csv\n",
      "- [ ] hovedtype_variabeltrinn_mapping.csv\n",
      "- [ ] htg_ht_gt_mapping.csv\n",
      "- [ ] konvertering_gt_v30.csv\n",
      "- [ ] konvertering_htg_v30.csv\n",
      "- [ ] konvertering_ht_v30.csv\n",
      "- [ ] M005.csv\n",
      "- [ ] m005_grunntype_mapping.csv\n",
      "- [ ] m005_hovedtype_mapping.csv\n",
      "- [ ] m020.csv\n",
      "- [ ] m020_grunntype_mapping.csv\n",
      "- [ ] m020_hovedtype_mapping.csv\n",
      "- [ ] m050.csv\n",
      "- [ ] m050_grunntype_mapping.csv\n",
      "- [ ] m050_hovedtype_mapping.csv\n",
      "- [ ] maaleskala_enhet.csv\n",
      "- [ ] maaleskala_trinn.csv\n",
      "- [ ] type.csv\n",
      "- [ ] typeklasser_langkode_mapping.csv\n",
      "- [ ] type_htg_mapping.csv\n",
      "- [ ] variabel.csv\n",
      "- [ ] variabelnavn.csv\n",
      "- [ ] variabelnavn_maaleskala_mapping.csv\n",
      "- [ ] variabelnavn_variabel_mapping.csv\n",
      "\n"
     ]
    }
   ],
   "source": [
    "csv = \"\"\"grunntyper.csv\n",
    "grunntype_variabeltrinn_mapping.csv\n",
    "hovedtype.csv\n",
    "hovedtypegrupper.csv\n",
    "hovedtypegruppe_hovedtype_mapping.csv\n",
    "hovedtype_grunntype_mapping.csv\n",
    "hovedtype_variabeltrinn_mapping.csv\n",
    "htg_ht_gt_mapping.csv\n",
    "konvertering_gt_v30.csv\n",
    "konvertering_htg_v30.csv\n",
    "konvertering_ht_v30.csv\n",
    "M005.csv\n",
    "m005_grunntype_mapping.csv\n",
    "m005_hovedtype_mapping.csv\n",
    "m020.csv\n",
    "m020_grunntype_mapping.csv\n",
    "m020_hovedtype_mapping.csv\n",
    "m050.csv\n",
    "m050_grunntype_mapping.csv\n",
    "m050_hovedtype_mapping.csv\n",
    "maaleskala_enhet.csv\n",
    "maaleskala_trinn.csv\n",
    "type.csv\n",
    "typeklasser_langkode_mapping.csv\n",
    "type_htg_mapping.csv\n",
    "variabel.csv\n",
    "variabelnavn.csv\n",
    "variabelnavn_maaleskala_mapping.csv\n",
    "variabelnavn_variabel_mapping.csv\"\"\"\n",
    "lines = csv.split(\"\\n\")\n",
    "markdown = \"\"\n",
    "for line in lines:\n",
    "    markdown += f\"- [ ] {line}\\n\"\n",
    "\n",
    "print(markdown)\n"
   ]
  },
  {
   "cell_type": "markdown",
   "metadata": {},
   "source": [
    "## (#197) Sjekker for manglende GT: Alle unike Grunntype navn from excel"
   ]
  },
  {
   "cell_type": "code",
   "execution_count": 2,
   "metadata": {},
   "outputs": [
    {
     "data": {
      "text/plain": [
       "1395"
      ]
     },
     "execution_count": 2,
     "metadata": {},
     "output_type": "execute_result"
    }
   ],
   "source": [
    "# \n",
    "file_path = '../tmp/GTnavn.txt'\n",
    "\n",
    "# Read the file and store each line as an element in a list\n",
    "with open(file_path, 'r') as file:\n",
    "    lines = file.read().splitlines()\n",
    "\n",
    "# Count the number of unique elements in the list\n",
    "unique_elements = len(set(lines))\n",
    "\n",
    "unique_elements\n"
   ]
  },
  {
   "cell_type": "markdown",
   "metadata": {},
   "source": [
    "## Henter alle navn fra sqlite databasen"
   ]
  },
  {
   "cell_type": "code",
   "execution_count": 39,
   "metadata": {},
   "outputs": [
    {
     "name": "stdout",
     "output_type": "stream",
     "text": [
      "Antall unike grunntypenavn fra excelark: 1395\n",
      "\n",
      "Antall unike grunntype navn i basen:\n"
     ]
    },
    {
     "data": {
      "text/html": [
       "<div>\n",
       "<style scoped>\n",
       "    .dataframe tbody tr th:only-of-type {\n",
       "        vertical-align: middle;\n",
       "    }\n",
       "\n",
       "    .dataframe tbody tr th {\n",
       "        vertical-align: top;\n",
       "    }\n",
       "\n",
       "    .dataframe thead th {\n",
       "        text-align: right;\n",
       "    }\n",
       "</style>\n",
       "<table border=\"1\" class=\"dataframe\">\n",
       "  <thead>\n",
       "    <tr style=\"text-align: right;\">\n",
       "      <th></th>\n",
       "      <th>AntUnikeNavn</th>\n",
       "      <th>AntNavn</th>\n",
       "    </tr>\n",
       "  </thead>\n",
       "  <tbody>\n",
       "    <tr>\n",
       "      <th>0</th>\n",
       "      <td>1395</td>\n",
       "      <td>1401</td>\n",
       "    </tr>\n",
       "  </tbody>\n",
       "</table>\n",
       "</div>"
      ],
      "text/plain": [
       "   AntUnikeNavn  AntNavn\n",
       "0          1395     1401"
      ]
     },
     "metadata": {},
     "output_type": "display_data"
    },
    {
     "name": "stdout",
     "output_type": "stream",
     "text": [
      "Dupilkate grunntype navn i basen:\n"
     ]
    },
    {
     "data": {
      "text/plain": [
       "133     nedskåret hei- og fjellskog-dallandskap med by...\n",
       "135             nedskåret fjellhei-dallandskap med innsjø\n",
       "250     middels eksponert og middels kupert kystslette...\n",
       "251     middels eksponert og middels kupert våtmarkspr...\n",
       "1094    temmelig til ekstremt kalkrikt nedre tuenivå i...\n",
       "1335                                            vedrester\n",
       "Name: navn, dtype: object"
      ]
     },
     "metadata": {},
     "output_type": "display_data"
    },
    {
     "name": "stdout",
     "output_type": "stream",
     "text": [
      "*** Koder til duplikatene:\n"
     ]
    },
    {
     "data": {
      "text/html": [
       "<div>\n",
       "<style scoped>\n",
       "    .dataframe tbody tr th:only-of-type {\n",
       "        vertical-align: middle;\n",
       "    }\n",
       "\n",
       "    .dataframe tbody tr th {\n",
       "        vertical-align: top;\n",
       "    }\n",
       "\n",
       "    .dataframe thead th {\n",
       "        text-align: right;\n",
       "    }\n",
       "</style>\n",
       "<table border=\"1\" class=\"dataframe\">\n",
       "  <thead>\n",
       "    <tr style=\"text-align: right;\">\n",
       "      <th></th>\n",
       "      <th>Kode</th>\n",
       "      <th>Navn</th>\n",
       "    </tr>\n",
       "  </thead>\n",
       "  <tbody>\n",
       "    <tr>\n",
       "      <th>0</th>\n",
       "      <td>I-0-02-071</td>\n",
       "      <td>Nedskåret hei- og fjellskog-dallandskap med by...</td>\n",
       "    </tr>\n",
       "    <tr>\n",
       "      <th>1</th>\n",
       "      <td>I-0-02-080</td>\n",
       "      <td>Nedskåret hei- og fjellskog-dallandskap med by...</td>\n",
       "    </tr>\n",
       "    <tr>\n",
       "      <th>2</th>\n",
       "      <td>I-0-02-081</td>\n",
       "      <td>Nedskåret fjellhei-dallandskap med innsjø</td>\n",
       "    </tr>\n",
       "    <tr>\n",
       "      <th>3</th>\n",
       "      <td>I-0-02-082</td>\n",
       "      <td>Nedskåret fjellhei-dallandskap med innsjø</td>\n",
       "    </tr>\n",
       "    <tr>\n",
       "      <th>4</th>\n",
       "      <td>K-0-03-025</td>\n",
       "      <td>Middels eksponert og middels kupert kystslette...</td>\n",
       "    </tr>\n",
       "    <tr>\n",
       "      <th>5</th>\n",
       "      <td>K-0-03-026</td>\n",
       "      <td>Middels eksponert og middels kupert våtmarkspr...</td>\n",
       "    </tr>\n",
       "    <tr>\n",
       "      <th>6</th>\n",
       "      <td>K-0-03-031</td>\n",
       "      <td>Middels eksponert og middels kupert kystslette...</td>\n",
       "    </tr>\n",
       "    <tr>\n",
       "      <th>7</th>\n",
       "      <td>K-0-03-032</td>\n",
       "      <td>Middels eksponert og middels kupert våtmarkspr...</td>\n",
       "    </tr>\n",
       "    <tr>\n",
       "      <th>8</th>\n",
       "      <td>V-A-01-20</td>\n",
       "      <td>Temmelig til ekstremt kalkrikt nedre tuenivå i...</td>\n",
       "    </tr>\n",
       "    <tr>\n",
       "      <th>9</th>\n",
       "      <td>V-A-01-29</td>\n",
       "      <td>Temmelig til ekstremt kalkrikt nedre tuenivå i...</td>\n",
       "    </tr>\n",
       "    <tr>\n",
       "      <th>10</th>\n",
       "      <td>MS-0-07-01</td>\n",
       "      <td>Vedrester</td>\n",
       "    </tr>\n",
       "    <tr>\n",
       "      <th>11</th>\n",
       "      <td>FS-0-05-03</td>\n",
       "      <td>Vedrester</td>\n",
       "    </tr>\n",
       "  </tbody>\n",
       "</table>\n",
       "</div>"
      ],
      "text/plain": [
       "          Kode                                               Navn\n",
       "0   I-0-02-071  Nedskåret hei- og fjellskog-dallandskap med by...\n",
       "1   I-0-02-080  Nedskåret hei- og fjellskog-dallandskap med by...\n",
       "2   I-0-02-081          Nedskåret fjellhei-dallandskap med innsjø\n",
       "3   I-0-02-082          Nedskåret fjellhei-dallandskap med innsjø\n",
       "4   K-0-03-025  Middels eksponert og middels kupert kystslette...\n",
       "5   K-0-03-026  Middels eksponert og middels kupert våtmarkspr...\n",
       "6   K-0-03-031  Middels eksponert og middels kupert kystslette...\n",
       "7   K-0-03-032  Middels eksponert og middels kupert våtmarkspr...\n",
       "8    V-A-01-20  Temmelig til ekstremt kalkrikt nedre tuenivå i...\n",
       "9    V-A-01-29  Temmelig til ekstremt kalkrikt nedre tuenivå i...\n",
       "10  MS-0-07-01                                          Vedrester\n",
       "11  FS-0-05-03                                          Vedrester"
      ]
     },
     "metadata": {},
     "output_type": "display_data"
    }
   ],
   "source": [
    "import pandas as pd\n",
    "import sqlite3\n",
    "file_path = '../tmp/GTnavn.txt'\n",
    "\n",
    "# Read the file and store each line as an element in a list\n",
    "with open(file_path, 'r') as file:\n",
    "    lines = file.read().splitlines()\n",
    "\n",
    "# Count the number of unique elements in the list\n",
    "unique_elements = len(set(lines))\n",
    "\n",
    "print(\"Antall unike grunntypenavn fra excelark: \"+str(unique_elements))\n",
    "\n",
    "conn = sqlite3.connect(\"C:/Projects/nin3-kode-api/NiN3.WebApi/nin3kodeapi.db\")\n",
    "#conn = sqlite3.connect(\"C:/temp/nin3kodeapi.db\")\n",
    "query = \"SELECT lower(navn) as navn FROM Grunntype\"  # Write your SQLite query\n",
    "df_gtnavn = pd.read_sql_query(query, conn)  # Execute the query and store the result in a DataFrame\n",
    "#df_gtnavn = df_gtnavn.astype(str) \n",
    "  # Close the database connection\n",
    "#print(\"Antall navn i basen:\"+df_gtnavn.size)\n",
    "#print(\"Antall navn i basen: \" + df_gtnavn.shape[0])\n",
    "query = \"select count(distinct(Navn)) as AntUnikeNavn, count(navn) as AntNavn from Grunntype\"\n",
    "df_gtnavn_count = pd.read_sql_query(query, conn)  # Execute the query and store the result in a DataFrame\n",
    "print(\"\\nAntall unike grunntype navn i basen:\")\n",
    "display(df_gtnavn_count)\n",
    "query \n",
    "#print(\"Antall unike navn i basen:\"+df_gtnavn['navn'].nunique())\n",
    "duplicate_names = df_gtnavn[df_gtnavn.duplicated('navn')]['navn']\n",
    "print(\"Dupilkate grunntype navn i basen:\")\n",
    "display(duplicate_names)\n",
    "duplicate_names_str = ', '.join([\"'\" + name + \"'\" for name in duplicate_names])\n",
    "#display(duplicate_names_str)\n",
    "query = f\"select Kode, Navn from Grunntype where lower(Navn) in ({duplicate_names_str})\"\n",
    "df_koderDuplikat = pd.read_sql_query(query, conn)  # Execute the query and store the result in a DataFrame\n",
    "df_koderDuplikat.to_html(\"../tmp/gt_duplikat.html\", index=False)\n",
    "print(\"*** Koder til duplikatene:\")\n",
    "display(df_koderDuplikat)\n",
    "df_gtnavn.to_csv('../tmp/GTnavnFraDB.csv', index=False)\n",
    "df_gtnavn.shape\n",
    "conn.close()"
   ]
  }
 ],
 "metadata": {
  "kernelspec": {
   "display_name": "base",
   "language": "python",
   "name": "python3"
  },
  "language_info": {
   "codemirror_mode": {
    "name": "ipython",
    "version": 3
   },
   "file_extension": ".py",
   "mimetype": "text/x-python",
   "name": "python",
   "nbconvert_exporter": "python",
   "pygments_lexer": "ipython3",
   "version": "3.11.5"
  }
 },
 "nbformat": 4,
 "nbformat_minor": 2
}
