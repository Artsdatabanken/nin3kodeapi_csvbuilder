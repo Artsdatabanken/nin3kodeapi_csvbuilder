{
 "cells": [
  {
   "cell_type": "code",
   "execution_count": null,
   "metadata": {},
   "outputs": [],
   "source": [
    "import pandas as pd\n",
    "import sqlite3\n",
    "# Connect to the SQLite database and read data from a table\n",
    "conn = None\n",
    "def connect():\n",
    "    conn = sqlite3.connect('inn_data/nin3kodeapi.db')"
   ]
  },
  {
   "cell_type": "code",
   "execution_count": null,
   "metadata": {},
   "outputs": [],
   "source": [
    "\n",
    "query = \"\"\"SELECT Kortkode\n",
    "           FROM Type,AlleKortkoderForType where TypeKlasseEnum=0 and\n",
    "           Type.Kode=AlleKortkoderForType.Kortkode\"\"\"\n",
    "df = pd.read_sql_query(query, conn)\n",
    "\n",
    "# Close the connection to the database\n",
    "conn.close()\n",
    "\n",
    "# Print the first few rows of the DataFrame\n",
    "print(df.head())\n",
    "\n"
   ]
  },
  {
   "cell_type": "markdown",
   "metadata": {},
   "source": [
    "## Hente csv med Alle langkoder for Variabel og Variabelnavn (<i> inn_data/variabel_alle_langkoder.csv </i>)"
   ]
  },
  {
   "cell_type": "code",
   "execution_count": null,
   "metadata": {},
   "outputs": [],
   "source": [
    "conn = sqlite3.connect('inn_data/nin3kodeapi.db')\n",
    "query = \"\"\"select 'Variabel' as klasse, langkode,kode from variabel\n",
    "          union\n",
    "          select 'Variabelnavn' as klasse, langkode,kode from variabelnavn\"\"\"\n",
    "df = pd.read_sql_query(query, conn)\n",
    "conn.close()\n",
    "print(df.head())\n",
    "df.to_csv('inn_data/variabel_alle_langkoder.csv', index=False, sep=';')\n"
   ]
  },
  {
   "cell_type": "code",
   "execution_count": null,
   "metadata": {},
   "outputs": [],
   "source": [
    "\n",
    "df = pd.read_sql_query('', conn)"
   ]
  }
 ],
 "metadata": {
  "kernelspec": {
   "display_name": "base",
   "language": "python",
   "name": "python3"
  },
  "language_info": {
   "codemirror_mode": {
    "name": "ipython",
    "version": 3
   },
   "file_extension": ".py",
   "mimetype": "text/x-python",
   "name": "python",
   "nbconvert_exporter": "python",
   "pygments_lexer": "ipython3",
   "version": "3.9.12"
  },
  "orig_nbformat": 4
 },
 "nbformat": 4,
 "nbformat_minor": 2
}
