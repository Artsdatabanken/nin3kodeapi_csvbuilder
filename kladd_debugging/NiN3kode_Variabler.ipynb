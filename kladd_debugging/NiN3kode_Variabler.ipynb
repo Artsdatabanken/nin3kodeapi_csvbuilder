{
 "cells": [
  {
   "cell_type": "markdown",
   "id": "ad0e689d",
   "metadata": {},
   "source": [
    "# Indeks\n"
   ]
  },
  {
   "cell_type": "markdown",
   "metadata": {},
   "source": [
    "\n",
    "- [CELL INDEX: 0](#Laster variabel-fanen fra regneark)\n",
    "...\n",
    "\n"
   ]
  },
  {
   "cell_type": "markdown",
   "metadata": {},
   "source": [
    "# Laster variabel-fanen fra regneark\n",
    "nin3_variabler bør bare leses eller kopieres, ikke endre dataframe 'nin3_variabler' etter denne kodeblokken"
   ]
  },
  {
   "cell_type": "code",
   "execution_count": null,
   "id": "00091dff-c96d-45c3-bba2-ef79c948c769",
   "metadata": {},
   "outputs": [],
   "source": [
    "import pandas as pd\n",
    "pd.set_option('display.max_rows', 500)\n",
    "pd.set_option('display.max_columns', 500)\n",
    "pd.set_option('display.width', 1000)\n",
    "nin3_variabler = pd.read_excel('inn_data/NiN3.0_Tot_e15_20231123_import_kodebase_NKfix.xlsx', sheet_name='Variabler')\n",
    "nin3_variabler = nin3_variabler.applymap(lambda x: x.strip() if isinstance(x, str) else x) # removing whitespace\n",
    "nin3_variabler = nin3_variabler.astype(str) # setting all columns to string"
   ]
  },
  {
   "attachments": {},
   "cell_type": "markdown",
   "id": "8dda888f",
   "metadata": {},
   "source": [
    "## Variabel CSV"
   ]
  },
  {
   "cell_type": "code",
   "execution_count": null,
   "id": "69971242",
   "metadata": {},
   "outputs": [],
   "source": [
    "# hent unike kombinasjoner av kolonnene '3 ABC' og '4 NM'\n",
    "#variabler = nin3_variabler[['3 ABC', '4 NM']].drop_duplicates().sort_values(by=['3 ABC', '4 NM'])\n",
    "# above line but also drop nan values\n",
    "variabler = nin3_variabler[['3 ABC', '4 NM']].drop_duplicates().dropna().sort_values(by=['3 ABC', '4 NM'])\n",
    "variabler['Variabel_kode'] = variabler[['3 ABC', '4 NM']].apply(lambda x: '-'.join(x), axis=1)\n",
    "\n",
    "variabler.to_csv('ut_data/variabel.csv', index=False, sep=\";\")\n",
    "variabler.head(10)\n"
   ]
  },
  {
   "attachments": {},
   "cell_type": "markdown",
   "id": "af5b2c8f",
   "metadata": {},
   "source": [
    "## Variabelnavn <> Variabel mapping CSV"
   ]
  },
  {
   "cell_type": "code",
   "execution_count": null,
   "id": "4838e8a8",
   "metadata": {},
   "outputs": [],
   "source": [
    "#nin3_variabler.columns\n",
    "vvm = nin3_variabler[nin3_variabler['11 Tr/Kl'] == 'W'][['Langkode', 'Kortkode','3 ABC', '4 NM', '5 kat', '6 FG/EK', '7 Varkode1', '8 VarKode2', 'VarNavn']].drop_duplicates()\n",
    "vvm = vvm.rename(columns={'5 kat': 'Variabelkategori2', \n",
    "                        '6 FG/EK': 'Variabeltype', '7 Varkode1': 'Variabelgruppe', '8 VarKode2': 'Variabelnavn_kode', 'VarNavn': 'Variabelnavn_navn'})\n",
    "vvm['Variabel_kode'] = vvm[['3 ABC', '4 NM']].apply(lambda x: '-'.join(x), axis=1)\n",
    "#dupl = vvm['Variabelnavn_kode'].duplicated().any()\n",
    "vvm.to_csv('ut_data/variabelnavn_variabel_mapping.csv', index=False, sep=\";\")\n",
    "#vvm"
   ]
  },
  {
   "cell_type": "markdown",
   "id": "417f82b9",
   "metadata": {},
   "source": [
    "## Måleskala_enhet_1: Opprett dataframe data SO og SI (fra regneark)\n",
    "Del 1 av 2"
   ]
  },
  {
   "cell_type": "code",
   "execution_count": null,
   "id": "268f93eb",
   "metadata": {},
   "outputs": [],
   "source": [
    "nin3_variabler_so_si = nin3_variabler[nin3_variabler['11 Tr/Kl'] != 'W']\n",
    "me_1 = nin3_variabler_so_si[['8 VarKode2', '10 Målesk']].copy()\n",
    "me_1 = me_1.rename(columns={'10 Målesk': 'Måleskala'})\n",
    "me_1 = me_1.dropna(subset=['Måleskala'])\n",
    "me_1['Enhet'] = None\n",
    "me_1.loc[me_1['Måleskala'] == 'SO', 'Enhet'] = 'VSO'\n",
    "me_1.loc[me_1['Måleskala'] == 'SI', 'Enhet'] = 'VSI'\n",
    "me_1['MåleskalaNavn'] = me_1['8 VarKode2'] + '-' + me_1['Måleskala']\n",
    "me_1 = me_1.drop('8 VarKode2', axis=1)\n",
    "me_1 = me_1.drop_duplicates()\n",
    "me_1.head(5)"
   ]
  },
  {
   "cell_type": "markdown",
   "id": "c587e6da",
   "metadata": {},
   "source": [
    "## Måleskala_enhet_2: fra markdown,  join med Måleskala_enhet_1\n",
    "Del 2 av 2"
   ]
  },
  {
   "cell_type": "code",
   "execution_count": null,
   "id": "49e21bcc",
   "metadata": {},
   "outputs": [],
   "source": [
    "from tabulate import tabulate\n",
    "from io import StringIO\n",
    "with open('inn_data/maaleskala_trinn_enhet.md', 'r') as file:\n",
    "    file_string = file.read()\n",
    "# Remove leading/trailing white spaces and split the string into lines\n",
    "lines = [line.strip() for line in file_string.strip().split('\\n')]\n",
    "# Join the lines back together, this time separating them with '\\n', and read the result into a DataFrame\n",
    "me_2 = pd.read_csv(StringIO('\\n'.join(lines)), sep='|',engine='python')\n",
    "# Remove any leading/trailing white spaces from the column names and drop any empty rows\n",
    "me_2.columns = me_2.columns.str.strip()\n",
    "me_2 = me_2.dropna(how='all')\n",
    "me_2 = me_2.drop(['Trinn', 'Trinnverdi'], axis=1)\n",
    "me_2 = me_2[me_2['Måleskala'].str.strip() != '--'] #removing rows where Måleskala = \"--\"\n",
    "me_2 = me_2.rename(columns={'Enhet': 'Everdi'})\n",
    "me_2['Enhet'] = None\n",
    "me_2.loc[me_2['Everdi'].str.strip() == 'Prosent', 'Enhet'] = 'P'\n",
    "me_2.loc[me_2['Everdi'].str.strip() == 'Observert antall', 'Enhet'] = 'OA'\n",
    "me_2.loc[me_2['Everdi'].str.strip() == 'Tetthet', 'Enhet'] = 'T'\n",
    "me_2.loc[me_2['Everdi'].str.strip() == 'Binær', 'Enhet'] = 'B'\n",
    "me_2 = me_2.drop(['Everdi'], axis=1)\n",
    "# make all rows unique\n",
    "me_2 = me_2.drop_duplicates()\n",
    "me_2['Måleskala'] = me_2['Måleskala'].str.strip()\n",
    "me_2['MåleskalaNavn'] = me_2['Måleskala']\n",
    "me = pd.concat([me_1, me_2], ignore_index=True)\n",
    "me.to_csv('ut_data/maaleskala_enhet.csv', index=False, sep=\";\")\n",
    "me.head(3)\n"
   ]
  },
  {
   "cell_type": "markdown",
   "id": "838811aa",
   "metadata": {},
   "source": [
    "## Måleskala_trinn, del 1 av 2 (SO & SI)\n",
    "Leser måleskala sammen med trinn for SO og SI deretter leses måleskala trinn fra MD fil\n",
    "Del 2 produserer den resulterende filen 'ut_data/maaleskala_trinn.csv'"
   ]
  },
  {
   "cell_type": "code",
   "execution_count": null,
   "id": "24c7d3d6",
   "metadata": {},
   "outputs": [],
   "source": [
    "mt1 = nin3_variabler[['Kortkode', '8 VarKode2', '10 Målesk', '11 Tr/Kl', 'Trinn/klassebetegnelse']].copy()\n",
    "mt1 = mt1[mt1['11 Tr/Kl'] != 'W']\n",
    "mt1 = mt1.dropna(subset=['10 Målesk'])\n",
    "mt1['MåleskalaNavn'] = mt1['8 VarKode2'].astype(str) + '-' + mt1['10 Målesk'].astype(str).str.strip()\n",
    "mt1 = mt1.rename(columns={'11 Tr/Kl': 'Trinn', 'Trinn/klassebetegnelse': 'Trinnverdi'})\n",
    "mt1['Trinn'] = mt1['8 VarKode2'].astype(str) + '_' + mt1['Trinn'].astype(str)\n",
    "mt1 = mt1.drop(['Kortkode', '8 VarKode2', '10 Målesk'], axis=1)\n",
    "mt1.head(3)"
   ]
  },
  {
   "cell_type": "markdown",
   "id": "e96c726f",
   "metadata": {},
   "source": [
    "## Måleskala_trinn, del 2 av 2"
   ]
  },
  {
   "cell_type": "code",
   "execution_count": null,
   "id": "93395ce4",
   "metadata": {},
   "outputs": [],
   "source": [
    "# TODO-Fetch variabelnavnkode and måleskalakode\n",
    "# hent trinn fra md-fil\n",
    "# tilpass og concat med del1 dataframe\n",
    "from tabulate import tabulate\n",
    "from io import StringIO\n",
    "with open('inn_data/maaleskala_trinn_enhet.md', 'r') as file:\n",
    "    file_string = file.read()\n",
    "# Remove leading/trailing white spaces and split the string into lines\n",
    "lines = [line.strip() for line in file_string.strip().split('\\n')]\n",
    "# Join the lines back together, this time separating them with '\\n', and read the result into a DataFrame\n",
    "mt2 = pd.read_csv(StringIO('\\n'.join(lines)), sep='|',engine='python')\n",
    "# Remove any leading/trailing white spaces from the column names and drop any empty rows\n",
    "mt2.columns = mt2.columns.str.strip()\n",
    "mt2 = mt2.dropna(how='all')\n",
    "\n",
    "mt2['Trinnverdi'] = mt2['Trinnverdi'].str.replace(' ', '')\n",
    "mt2['MåleskalaNavn'] = mt2['Måleskala'].str.strip()\n",
    "mt2 = mt2.drop(['Enhet', 'Måleskala'], axis=1)\n",
    "mt2['Trinnverdi'] = mt2['Trinnverdi'].fillna(0)\n",
    "mt2\n",
    "mt = pd.concat([mt1, mt2], ignore_index=True)\n",
    "# Strip Trinn for white spaces\n",
    "mt['Trinn'] = mt['Trinn'].str.strip()\n",
    "# Drop rows where Trinn = '--'\n",
    "mt = mt[mt['Trinn'] != '--']\n",
    "# Set first letter in trinnverdi to upper case\n",
    "mt.loc[mt['Trinnverdi'].str.len() > 0, 'Trinnverdi'] = mt.loc[mt['Trinnverdi'].str.len() > 0, 'Trinnverdi'].str.replace(';', ':')\n",
    "mt['Trinnverdi'] = mt['Trinnverdi'].str.capitalize() # capitalize first letter\n",
    "mt = mt[mt['Trinn'] != 'nan_nan']\n",
    "mt.to_csv('ut_data/maaleskala_trinn.csv', index=False, sep=\";\")\n",
    "display(mt.head(3))\n",
    "mt.tail(10)"
   ]
  },
  {
   "cell_type": "markdown",
   "id": "65002958",
   "metadata": {},
   "source": [
    "## Variabelnavn <> Måleskala mapping"
   ]
  },
  {
   "cell_type": "code",
   "execution_count": null,
   "id": "c5a9f03a",
   "metadata": {},
   "outputs": [],
   "source": [
    "import pandas as pd\n",
    "vn_ms = nin3_variabler[nin3_variabler['11 Tr/Kl'] == 'W'][['Kortkode', '8 VarKode2', '10 Målesk']].drop_duplicates()\n",
    "#display(vn_ms)\n",
    "#display(vn_ms[vn_ms['Kortkode'] == 'LM-KI_e'])\n",
    "vn_ms = vn_ms.dropna(subset=['10 Målesk'])  # drop rows where '10 Målesk' has no value\n",
    "vn_ms = vn_ms.dropna(subset=['8 VarKode2']) # drop rows where '8 VarKode2' has no value\n",
    "# create a new dataframe to store the replicated rows\n",
    "new_rows = []\n",
    "\n",
    "\n",
    "# iterate over each row in the dataframe\n",
    "for index, row in vn_ms.iterrows():\n",
    "    # check if the '10 Målesk' column has multiple values separated by comma\n",
    "    if ',' in row['10 Målesk']:\n",
    "        # if yes, split the values and create a new row for each value\n",
    "        values = row['10 Målesk'].split(',')\n",
    "        for value in values:\n",
    "            new_row = row.copy()\n",
    "            new_row['10 Målesk'] = value.strip()\n",
    "            new_rows.append(new_row)\n",
    "    else:\n",
    "        # if no, just append the original row to the new dataframe\n",
    "        new_rows.append(row)    \n",
    "\n",
    "# create a new dataframe from the list of new rows\n",
    "vn_ms_new = pd.DataFrame(new_rows)\n",
    "\n",
    "# add Varkode2+\"-\" in front of [10 Målesk]-value if [10 Målesk] is \"SO\" or \"SI\"\n",
    "mask = (vn_ms_new['10 Målesk'] == 'SO') | (vn_ms_new['10 Målesk'] == 'SI')\n",
    "vn_ms_new.loc[mask, '10 Målesk'] = vn_ms_new.loc[mask, '8 VarKode2'] + '-' + vn_ms_new.loc[mask, '10 Målesk']\n",
    "# replace underscores with dash in Kortkode column\n",
    "vn_ms_new['Kortkode'] = vn_ms_new['Kortkode'].str.replace('_', '-')\n",
    "# make all rows unique\n",
    "vn_ms_new = vn_ms_new.drop_duplicates()\n",
    "vn_ms_new = vn_ms_new.drop(['8 VarKode2'], axis=1)\n",
    "# display the new dataframe\n",
    "vn_ms_new.rename(columns={'Kortkode':'Variabelnavn_kortkode', '10 Målesk': 'Måleskala'}, inplace=True)\n",
    "vn_ms_new.to_csv('ut_data/variabelnavn_maaleskala_mapping.csv', index=False, sep=\";\")\n",
    "vn_ms_new.head(3)"
   ]
  },
  {
   "cell_type": "markdown",
   "id": "a5c97e7c",
   "metadata": {},
   "source": [
    "## variabelnavn_kode, varkode2, oppslagsfil til inn_data"
   ]
  },
  {
   "cell_type": "code",
   "execution_count": null,
   "id": "a9505502",
   "metadata": {},
   "outputs": [],
   "source": [
    "import pandas as pd\n",
    "vnkode_varkode2 = nin3_variabler[nin3_variabler['11 Tr/Kl'] == 'W'][['Kortkode', '8 VarKode2', '10 Målesk']]\n",
    "#display(vnkode_varkode2)\n",
    "vnkode_varkode2 = vnkode_varkode2.rename(columns={'8 VarKode2': 'Varkode2_kopi'})\n",
    "#vnkode_varkode2 = vnkode_varkode2[vnkode_varkode2['10 Målesk'].isin(['SO', 'SI','SO,K'])]\n",
    "vnkode_varkode2 = vnkode_varkode2[vnkode_varkode2['10 Målesk'].str.contains('SO|SI')]\n",
    "vnkode_varkode2 = vnkode_varkode2.drop_duplicates()\n",
    "vnkode_varkode2 = vnkode_varkode2.drop(['10 Målesk'], axis=1)\n",
    "vnkode_varkode2.to_csv('inn_data/variabelnavnkode_varkode2.csv', index=False, sep=\";\")\n",
    "vnkode_varkode2.info()"
   ]
  },
  {
   "cell_type": "markdown",
   "id": "bba583b0",
   "metadata": {},
   "source": [
    "## Koder, Objekttyper v2.3 (hjelpemetoder for konvertering v3.0 -> v2.3)\n",
    "--> Function: get_23_koder() -> dict"
   ]
  },
  {
   "cell_type": "code",
   "execution_count": null,
   "id": "a39d7023",
   "metadata": {},
   "outputs": [],
   "source": [
    "import pandas as pd\n",
    "import sqlite3\n",
    "import csv\n",
    "import os\n",
    "import urllib.parse\n",
    "\n",
    "# Read sqlite query results into a pandas DataFrame\n",
    "con = sqlite3.connect(\"nin2prod.db\")\n",
    "query = \"\"\"\n",
    "    Select distinct KodeName, 'Type' as Klasse from Kode where VersionId in (select id from NiNVersion where Navn ='2.3')\n",
    "    UNION\n",
    "    Select distinct KodeName, 'Variabel' as Klasse from VariasjonKode where VersionId in (select id from NiNVersion where Navn ='2.3')\n",
    "    Order by Klasse\"\"\"\n",
    "df = pd.read_sql_query(query, con)\n",
    "\n",
    "# Verify that result of SQL query is stored in the dataframe\n",
    "\n",
    "con.close()\n",
    "df.to_csv('inn_data/2_3_koder_fra_sqlite_prod.csv', sep=';', index=False)\n",
    "\n",
    "# Load v2.3 koder to dict\n",
    "koder23 = {}\n",
    "with open('inn_data/2_3_koder_fra_sqlite_prod.csv', newline='') as csvfile:\n",
    "    reader = csv.DictReader(csvfile, delimiter=';', quotechar='\"')\n",
    "    koder = []\n",
    "    for row in reader:\n",
    "        if ',' in row['KodeName']:\n",
    "            # do something if the string contains a comma\n",
    "            kode_list = row['KodeName'].split(',')\n",
    "            for kode in kode_list:\n",
    "                lookupkode = kode.lower().strip() #lager lookupkolonne som lowercase siden kode fra excel er ..\n",
    "                # ..ukorrekt i bruk av  i bruk små og store bokstaver\n",
    "                if lookupkode.startswith(\"na \"):\n",
    "                    lookupkode = lookupkode.replace(\"na \", \"\")\n",
    "                koder23[lookupkode.strip()] = {\"KondeName\":row['KodeName'].strip(), \"Klasse\":row['Klasse']}\n",
    "                #koder23[kode.strip()] = row['Klasse']\n",
    "        else:\n",
    "            # do something else if the string does not contain a comma\n",
    "            lookupkode = row['KodeName'].lower().strip() #lager lookupkolonne som lowercase siden kode fra excel er ..\n",
    "                # ..ukorrekt i bruk av  i bruk små og store bokstaver\n",
    "            if lookupkode.startswith(\"na \"):\n",
    "                lookupkode = lookupkode.replace(\"na \", \"\")\n",
    "            koder23[lookupkode.strip()] = {\"KodeName\":row['KodeName'].strip(), \"Klasse\":row['Klasse']}\n",
    "\n",
    "# Write koder23 to a text file in the tmp directory\n",
    "with open(os.path.join('tmp', 'koder23.txt'), 'w') as f:\n",
    "    output = []\n",
    "    for key, value in koder23.items():\n",
    "        output.append(f\"{key}: {value}\\n\")\n",
    "    f.write(\"\".join(output))\n",
    "\n",
    "\n",
    "# TODO: Hvis koden ikke får tregg forsøk oppslag med å bytt \"-\" med \n",
    "def create_v23_variabel_url(kode):\n",
    "    if(kode==\"V12\"):\n",
    "        print(\"V12\")\n",
    "    kode = kode.lower()\n",
    "    var_url = 'https://nin-kode-api.artsdatabanken.no/v2.3/variasjon/hentkode/'\n",
    "    type_url = 'https://nin-kode-api.artsdatabanken.no/v2.3/koder/hentkode/'\n",
    "    result = {}\n",
    "    if koder23.get(kode):\n",
    "        kodeentry = koder23.get(kode)\n",
    "        if kodeentry[\"Klasse\"] == 'Variabel':\n",
    "            result[\"kode23\"]=kodeentry['KodeName']\n",
    "            result[\"url\"]=f\"{var_url}{urllib.parse.quote(kodeentry['KodeName'])}\" \n",
    "            return result\n",
    "        elif kodeentry[\"Klasse\"] == 'Type':\n",
    "            result[\"kode23\"]=kodeentry['KodeName']\n",
    "            result[\"url\"]=f\"{type_url}{urllib.parse.quote(kodeentry['KodeName'])}\" \n",
    "            return result\n",
    "        else:\n",
    "            return {}\n",
    "    else:\n",
    "        return {}\n",
    "    \n",
    "def make_list_nin2kode(nin2kode):\n",
    "    reslist = []\n",
    "    n2list = nin2kode.split(',')\n",
    "    first = n2list[0]\n",
    "    for n2 in n2list:\n",
    "        if n2.isdigit():\n",
    "            reslist.append(first.split('-')[0]+'-'+n2)\n",
    "        else:\n",
    "            reslist.append(n2)\n",
    "    return reslist"
   ]
  },
  {
   "cell_type": "markdown",
   "id": "bdd459b4",
   "metadata": {},
   "source": [
    "# Variabelnavn, konvertering (Under arbeid, kjørte på siste forsøk, men noen ikke funnet feil)\n",
    "sample:\n",
    "\n",
    "Fant ikke url for NiN2kode:KY\n",
    "\n",
    "Fant ikke url for NiN2kode:DM\n",
    "\n",
    "Fant ikke url for NiN2kode:KLG-IYK3\n",
    "\n",
    "Fant ikke url for NiN2kode:KLG-4\n",
    "\n",
    "... (m.fl.)"
   ]
  },
  {
   "cell_type": "code",
   "execution_count": null,
   "id": "346a0528",
   "metadata": {},
   "outputs": [],
   "source": [
    "# hent alle nødvendige kolonner\n",
    "# kjør string trim på alle kolonner\n",
    "\n",
    "konv = nin3_variabler[['Kortkode', 'NiN 2 kode', 'FP', 'SP']].copy()\n",
    "konv = konv.drop(konv[(konv['NiN 2 kode'] == '') | (konv['NiN 2 kode'] == '-')].index) # remove rows where 'NiN 2 kode' is empty\n",
    "konv = konv.drop(konv[(konv['Kortkode'] == '') | (konv['Kortkode'] == '-') |(konv['Kortkode'] == 'nan')].index) # remove rows where 'Kortkode' is empty\n",
    "konv = konv.dropna(subset=['Kortkode'])\n",
    "konv = konv.drop(konv[(konv['NiN 2 kode'] == 'nan')].index)\n",
    "konv['NiN 2 kode'] = konv['NiN 2 kode'].str.replace('&', ',') # '&' means ',' so change to ','\n",
    "konv['NiN 2 kode'] = konv['NiN 2 kode'].str.replace(' ', '') # remove whitespace in 'NiN 2 kode'\n",
    "konv = konv.drop(konv[(konv['Kortkode'] == '') | (konv['Kortkode'] == '-') |(konv['Kortkode'] == 'nan')].index)\n",
    "konv['SP'] = konv['SP'].str.replace('.0', '').str.replace('nan', '')\n",
    "konv['FP'] = konv['SP'].str.replace('.0', '').str.replace('nan', '')\n",
    "konv['NiN 2 kode'] = konv['NiN 2 kode'].str.replace('·', '-')\n",
    "konv = konv.rename(columns={'NiN 2 kode': 'forrigekode'})\n",
    "konv['Klasse'] = 'VN'# setter alle rader i kolonnen 'Klasse' til 'VN'\n",
    "konv.to_csv('tmp/variabelnavn_konv_tmp.csv', index=False, sep=\";\")\n",
    "#konv.info() \n",
    "# store to temp csv file\n",
    "\n",
    "# FROM GT<>KONV example\n",
    "gt_rows = []\n",
    "with open('tmp/variabelnavn_konv_tmp.csv', newline='') as csvfile:\n",
    "    reader = csv.DictReader(csvfile, delimiter=';')\n",
    "    all_rows = []\n",
    "    #check rows for multiple nin2koder\n",
    "    for r in reader:\n",
    "        if \",\" in r.get(\"forrigekode\"):\n",
    "            n2list = make_list_nin2kode(r.get(\"forrigekode\"))\n",
    "            for n2 in n2list:\n",
    "                new_row = r.copy()\n",
    "                new_row[\"forrigekode\"] = n2.strip()\n",
    "                all_rows.append(new_row)\n",
    "    \n",
    "    #loop over rows\n",
    "    for row in all_rows:\n",
    "        new = {} # new dict to store the new row\n",
    "        new['VNKode']=row['Kortkode']\n",
    "        new['FP']=row['FP']\n",
    "        new['SP']=row['SP']\n",
    "        new['Klasse']=row['Klasse']\n",
    "        result = create_v23_variabel_url(row['forrigekode'])\n",
    "        new['forrigekode']=result.get('kode23')\n",
    "        new['url']=result.get('url')\n",
    "        if not new.get('url'):# bytter siste \"-\" med \"_\" og prøver igjen\n",
    "            kode = row['forrigekode'].rsplit('-', 1)\n",
    "            kode = '_'.join(kode)\n",
    "            result = create_v23_variabel_url(kode)\n",
    "            new['forrigekode']=result.get('kode23')\n",
    "            new['url']=result.get('url')\n",
    "        # Sjekker om excel-kolonnen forrigekode (nin 2 koden) hadde match i koder23-dictonary \n",
    "        if not new.get('url'):\n",
    "            new['forrigekode']=row['forrigekode'] \n",
    "            print(f\"Fant ikke url for NiN2kode:{row['forrigekode']}\")\n",
    "        gt_rows.append(new)\n",
    "\n",
    "# Creating konvertering csv for GT\n",
    "with open('ut_data/konvertering_vn_v30.csv', 'w', newline='') as csvfile:\n",
    "    fieldnames = ['VNKode','forrigekode','FP','SP','Klasse', 'url']\n",
    "    writer = csv.DictWriter(csvfile, fieldnames=fieldnames, delimiter=';')\n",
    "    writer.writeheader()\n",
    "    writer.writerows(gt_rows)\n",
    "    print(f\"\\n\\nFile written to {csvfile.name}\")    "
   ]
  }
 ],
 "metadata": {
  "kernelspec": {
   "display_name": "Python 3 (ipykernel)",
   "language": "python",
   "name": "python3"
  },
  "language_info": {
   "codemirror_mode": {
    "name": "ipython",
    "version": 3
   },
   "file_extension": ".py",
   "mimetype": "text/x-python",
   "name": "python",
   "nbconvert_exporter": "python",
   "pygments_lexer": "ipython3",
   "version": "3.11.5"
  }
 },
 "nbformat": 4,
 "nbformat_minor": 5
}
