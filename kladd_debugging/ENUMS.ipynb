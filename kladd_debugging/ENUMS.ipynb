{
 "cells": [
  {
   "cell_type": "markdown",
   "id": "381a7819-39c9-43d8-8147-cc4e175c10f8",
   "metadata": {},
   "source": [
    "# Opprett ENUMS\n",
    "Oppretting av enum-klasser"
   ]
  },
  {
   "cell_type": "code",
   "execution_count": null,
   "id": "d71ae323-5058-4da1-a80e-d29a7914769e",
   "metadata": {},
   "outputs": [],
   "source": [
    "# The data\n",
    "enumdata = \"\"\"B = binær\n",
    "D = telleskala, observert antall\n",
    "D0 = telleskala, observert antall\n",
    "D1a = telleskala, observert antall\n",
    "D1b = telleskala, observert antall\n",
    "K = kontinuerlig, observert verdi\n",
    "P* = generisk måleskala for andelsvariabel\n",
    "P6a = generisk måleskala for andelsvariabel\n",
    "P6c = generisk måleskala for andelsvariabel\n",
    "Pnm = generisk måleskala for andelsvariabel, der n angir trinn om m angir variant\n",
    "SI = Variabelspesifikk, ikke-ordnet faktorverdi\n",
    "SO = Variabelspesifikk, ordnet faktorverdi\n",
    "T* = tetthetsskala, 2-logaritmisk\n",
    "T0 = tetthetsskala, 2-logaritmisk\n",
    "T1a = tetthetsskala, 2-logaritmisk\n",
    "T1b = tetthetsskala, 2-logaritmisk\n",
    "T1c = tetthetsskala, 2-logaritmisk\n",
    "\"\"\"\n",
    "classname = \"Maaleskalatype\""
   ]
  },
  {
   "cell_type": "code",
   "execution_count": null,
   "id": "19afd159-2b32-4f21-ac32-7693f17b988b",
   "metadata": {},
   "outputs": [],
   "source": [
    "# creating csharp enum with display attribute\n",
    "# en verdi :format\n",
    "all = \"\"\n",
    "#all+=\"123\"\n",
    "enumhead = f\"public enum {classname}Enum\\n\"\n",
    "middel = []\n",
    "for line in enumdata.splitlines():\n",
    "    arr = line.split(\"=\")\n",
    "    #print(val)\n",
    "    if len(arr) == 1:\n",
    "        val = arr[0].strip()\n",
    "    else:\n",
    "        val = arr[1].strip()\n",
    "    pair =f'\\t[Description(\"{val}\")]\\n'\n",
    "    pair +=f'\\t{arr[0].strip()}'\n",
    "    middel.append(pair)\n",
    "    #all +=f'[Display(Name = \"{val}\")]\\r\\n'\n",
    "fmiddel = ',\\n'.join(middel)\n",
    "print()\n",
    "res = f\"{enumhead}{{\\n{fmiddel}\\n}}\"    \n",
    "print(res)"
   ]
  },
  {
   "cell_type": "markdown",
   "id": "938c369d",
   "metadata": {},
   "source": [
    "# Chane enum dok to capital first letter in description"
   ]
  },
  {
   "cell_type": "code",
   "execution_count": 14,
   "id": "c226f022",
   "metadata": {},
   "outputs": [
    {
     "name": "stdout",
     "output_type": "stream",
     "text": [
      "M = Mennekebetinget\n",
      "N = Naturgitt\n"
     ]
    }
   ],
   "source": [
    "data = \"\"\"M = mennekebetinget\n",
    "N = naturgitt\n",
    "\"\"\"\n",
    "def modify_enum_data(enum_data):\n",
    "    # remove empty lines from the string\n",
    "    data = '\\n'.join([line for line in enum_data.split('\\n') if line.strip()])\n",
    "    # split the string into lines\n",
    "    lines = data.split('\\n')\n",
    "    # iterate over each line\n",
    "    for i in range(len(lines)):\n",
    "        # split the line into key and value\n",
    "        key, value = lines[i].split('=')\n",
    "        # capitalize the first letter of the value\n",
    "        value = value.strip().capitalize()\n",
    "        # join the key and the modified value with an equal sign\n",
    "        lines[i] = f\"{key.strip()} = {value}\"\n",
    "\n",
    "    # join the lines back into a string\n",
    "    data = '\\n'.join(lines)\n",
    "\n",
    "    # return the modified string\n",
    "    return data\n",
    "print(modify_enum_data(data))"
   ]
  }
 ],
 "metadata": {
  "kernelspec": {
   "display_name": "base",
   "language": "python",
   "name": "python3"
  },
  "language_info": {
   "codemirror_mode": {
    "name": "ipython",
    "version": 3
   },
   "file_extension": ".py",
   "mimetype": "text/x-python",
   "name": "python",
   "nbconvert_exporter": "python",
   "pygments_lexer": "ipython3",
   "version": "3.9.12"
  },
  "polyglot_notebook": {
   "kernelInfo": {
    "defaultKernelName": "csharp",
    "items": [
     {
      "aliases": [],
      "name": "csharp"
     }
    ]
   }
  }
 },
 "nbformat": 4,
 "nbformat_minor": 5
}
