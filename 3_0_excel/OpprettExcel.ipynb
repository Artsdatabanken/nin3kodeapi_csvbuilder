{
 "cells": [
  {
   "cell_type": "markdown",
   "metadata": {},
   "source": [
    "## Hent 'fersk' Databasefil\n",
    "(Tips: https://www.geeksforgeeks.org/how-to-write-pandas-dataframes-to-multiple-excel-sheets/)"
   ]
  },
  {
   "cell_type": "code",
   "execution_count": null,
   "metadata": {},
   "outputs": [],
   "source": [
    "from spreadsheet_functions import fetchDB\n",
    "fetchDB(\"develop\") # Branches: develop, test, master (develop is the default, test is the test branch, master is the production branch)"
   ]
  },
  {
   "cell_type": "markdown",
   "metadata": {},
   "source": [
    "# Lag Excel\n",
    "* Creates excel-document from downloaded sqlite database\n"
   ]
  },
  {
   "cell_type": "code",
   "execution_count": 1,
   "metadata": {},
   "outputs": [
    {
     "name": "stdout",
     "output_type": "stream",
     "text": [
      "Excel data skrevet til ut/nin3_0_20231211_223457.xlsx\n"
     ]
    }
   ],
   "source": [
    "from spreadsheet_functions import createExcel\n",
    "createExcel() "
   ]
  },
  {
   "cell_type": "markdown",
   "metadata": {},
   "source": [
    "# Type-fanen"
   ]
  },
  {
   "cell_type": "code",
   "execution_count": null,
   "metadata": {},
   "outputs": [],
   "source": [
    "from spreadsheet_functions import type_fane, getConn,closeConn\n",
    "display(type_fane(makecsv=True).head(3))\n",
    "closeConn()"
   ]
  },
  {
   "cell_type": "markdown",
   "metadata": {},
   "source": [
    "## Hovedtypegruppe-fanen"
   ]
  },
  {
   "cell_type": "code",
   "execution_count": null,
   "metadata": {},
   "outputs": [],
   "source": [
    "#HTG\n",
    "from spreadsheet_functions import hovedtypegruppe_fane,closeConn\n",
    "display(hovedtypegruppe_fane(makecsv=True).head(3))\n",
    "closeConn()"
   ]
  },
  {
   "cell_type": "markdown",
   "metadata": {},
   "source": [
    "## Hovedtype-fanen"
   ]
  },
  {
   "cell_type": "code",
   "execution_count": null,
   "metadata": {},
   "outputs": [],
   "source": [
    "from spreadsheet_functions import hovedtype_fane,closeConn\n",
    "display(hovedtype_fane(makecsv=True).head(3))\n",
    "closeConn()"
   ]
  },
  {
   "cell_type": "markdown",
   "metadata": {},
   "source": [
    "## Grunntype-fanen"
   ]
  },
  {
   "cell_type": "code",
   "execution_count": null,
   "metadata": {},
   "outputs": [],
   "source": [
    "from spreadsheet_functions import grunntype_fane,closeConn\n",
    "display(grunntype_fane(makecsv=True).head(3))\n",
    "closeConn() "
   ]
  },
  {
   "cell_type": "markdown",
   "metadata": {},
   "source": [
    "## Kartleggingsenheter M005"
   ]
  },
  {
   "cell_type": "code",
   "execution_count": null,
   "metadata": {},
   "outputs": [],
   "source": [
    "from spreadsheet_functions import kle_m005,closeConn\n",
    "display(kle_m005(makecsv=True).head(3))\n",
    "closeConn()"
   ]
  },
  {
   "cell_type": "markdown",
   "metadata": {},
   "source": [
    "## Kartleggingsenheter M020"
   ]
  },
  {
   "cell_type": "code",
   "execution_count": null,
   "metadata": {},
   "outputs": [],
   "source": [
    "from spreadsheet_functions import kle_m020,closeConn\n",
    "display(kle_m020(makecsv=True).head(3))\n",
    "closeConn()"
   ]
  },
  {
   "cell_type": "markdown",
   "metadata": {},
   "source": [
    "## Kartleggingsenheter M050"
   ]
  },
  {
   "cell_type": "code",
   "execution_count": null,
   "metadata": {},
   "outputs": [],
   "source": [
    "from spreadsheet_functions import kle_m050,closeConn\n",
    "display(kle_m050(makecsv=True).head(3))\n",
    "closeConn()"
   ]
  },
  {
   "cell_type": "markdown",
   "metadata": {},
   "source": [
    "## Hovedtype_KLE_M005"
   ]
  },
  {
   "cell_type": "code",
   "execution_count": null,
   "metadata": {},
   "outputs": [],
   "source": [
    "from spreadsheet_functions import ht_kle_m005,closeConn\n",
    "display(ht_kle_m005(makecsv=True).head(3))\n",
    "closeConn()"
   ]
  },
  {
   "cell_type": "markdown",
   "metadata": {},
   "source": [
    "## Hovedtype_KLE_M020"
   ]
  },
  {
   "cell_type": "code",
   "execution_count": null,
   "metadata": {},
   "outputs": [],
   "source": [
    "from spreadsheet_functions import ht_kle_m020,closeConn\n",
    "display(ht_kle_m020(makecsv=True).head(3))\n",
    "closeConn()"
   ]
  },
  {
   "cell_type": "markdown",
   "metadata": {},
   "source": [
    "## Hovedtype_KLE_M050"
   ]
  },
  {
   "cell_type": "code",
   "execution_count": null,
   "metadata": {},
   "outputs": [],
   "source": [
    "from spreadsheet_functions import ht_kle_m050,closeConn\n",
    "display(ht_kle_m050(makecsv=True).head(3))\n",
    "closeConn()"
   ]
  },
  {
   "cell_type": "markdown",
   "metadata": {},
   "source": [
    "## Grunntype_KLE_M005"
   ]
  },
  {
   "cell_type": "code",
   "execution_count": null,
   "metadata": {},
   "outputs": [],
   "source": [
    "from spreadsheet_functions import gt_kle_m005,closeConn\n",
    "display(gt_kle_m005(makecsv=True).head(3))\n",
    "closeConn()"
   ]
  },
  {
   "cell_type": "markdown",
   "metadata": {},
   "source": [
    "## Grunntype_KLE_M020"
   ]
  },
  {
   "cell_type": "code",
   "execution_count": null,
   "metadata": {},
   "outputs": [],
   "source": [
    "from spreadsheet_functions import gt_kle_m020,closeConn\n",
    "display(gt_kle_m020(makecsv=True).head(3))\n",
    "closeConn()"
   ]
  },
  {
   "cell_type": "markdown",
   "metadata": {},
   "source": [
    "## Grunntype_KLE_M050"
   ]
  },
  {
   "cell_type": "code",
   "execution_count": null,
   "metadata": {},
   "outputs": [],
   "source": [
    "from spreadsheet_functions import gt_kle_m050,closeConn\n",
    "display(gt_kle_m050(makecsv=True).head(3))\n",
    "closeConn()"
   ]
  },
  {
   "cell_type": "markdown",
   "metadata": {},
   "source": [
    "## Hovedtypegruppe_Hovedøkosystem"
   ]
  },
  {
   "cell_type": "code",
   "execution_count": null,
   "metadata": {},
   "outputs": [],
   "source": [
    "from spreadsheet_functions import htg_hoek,closeConn\n",
    "display(htg_hoek(makecsv=True).head(3))\n",
    "closeConn()"
   ]
  },
  {
   "cell_type": "markdown",
   "metadata": {},
   "source": [
    "## Variabel"
   ]
  },
  {
   "cell_type": "code",
   "execution_count": null,
   "metadata": {},
   "outputs": [],
   "source": [
    "from spreadsheet_functions import variabel_fane,closeConn\n",
    "display(variabel_fane(makecsv=True).head(3))\n",
    "closeConn()"
   ]
  },
  {
   "cell_type": "markdown",
   "metadata": {},
   "source": [
    "## Variabelnavn"
   ]
  },
  {
   "cell_type": "code",
   "execution_count": null,
   "metadata": {},
   "outputs": [],
   "source": [
    "from spreadsheet_functions import variabel_fane,closeConn\n",
    "display(variabel_fane(makecsv=True).head(3))\n",
    "closeConn()"
   ]
  },
  {
   "cell_type": "markdown",
   "metadata": {},
   "source": [
    "## Måleskala"
   ]
  },
  {
   "cell_type": "code",
   "execution_count": null,
   "metadata": {},
   "outputs": [],
   "source": [
    "from spreadsheet_functions import maaleskala_fane,closeConn\n",
    "display(maaleskala_fane(makecsv=True).head(3))\n",
    "closeConn()"
   ]
  },
  {
   "cell_type": "markdown",
   "metadata": {},
   "source": [
    "## Trinn"
   ]
  },
  {
   "cell_type": "code",
   "execution_count": null,
   "metadata": {},
   "outputs": [],
   "source": [
    "from spreadsheet_functions import trinn_fane,closeConn\n",
    "display(trinn_fane(makecsv=True).head(3))\n",
    "closeConn()"
   ]
  },
  {
   "cell_type": "markdown",
   "metadata": {},
   "source": [
    "## Variabelnavn_Måleskala"
   ]
  },
  {
   "cell_type": "code",
   "execution_count": null,
   "metadata": {},
   "outputs": [],
   "source": [
    "from spreadsheet_functions import variabelnavn_maaleskala,closeConn  \n",
    "display(variabelnavn_maaleskala(makecsv=True).head(3))\n",
    "closeConn()"
   ]
  },
  {
   "cell_type": "markdown",
   "metadata": {},
   "source": [
    "## Hovedtype_Variabeltrinn"
   ]
  },
  {
   "cell_type": "code",
   "execution_count": null,
   "metadata": {},
   "outputs": [],
   "source": [
    "from spreadsheet_functions import hovedtype_Variabeltrinn,closeConn\n",
    "display(hovedtype_Variabeltrinn(makecsv=True).head(3))\n",
    "closeConn()"
   ]
  },
  {
   "cell_type": "markdown",
   "metadata": {},
   "source": [
    "## Grunntype_Variabeltrinn"
   ]
  },
  {
   "cell_type": "code",
   "execution_count": null,
   "metadata": {},
   "outputs": [],
   "source": [
    "from spreadsheet_functions import grunntype_Variabeltrinn,closeConn\n",
    "display(grunntype_Variabeltrinn(makecsv=True).head(3))\n",
    "closeConn()"
   ]
  },
  {
   "cell_type": "markdown",
   "metadata": {},
   "source": [
    "## Hovedtypegruppe_konvertering"
   ]
  },
  {
   "cell_type": "code",
   "execution_count": null,
   "metadata": {},
   "outputs": [],
   "source": [
    "from spreadsheet_functions import htg_konvertering,closeConn\n",
    "display(htg_konvertering(makecsv=True).head(3))\n",
    "closeConn()"
   ]
  },
  {
   "cell_type": "markdown",
   "metadata": {},
   "source": [
    "## Hovedtype_konvertering"
   ]
  },
  {
   "cell_type": "code",
   "execution_count": null,
   "metadata": {},
   "outputs": [],
   "source": [
    "from spreadsheet_functions import ht_konvertering,closeConn\n",
    "display(ht_konvertering(makecsv=True).head(3))\n",
    "closeConn()"
   ]
  },
  {
   "cell_type": "markdown",
   "metadata": {},
   "source": [
    "## Grunntype_konvertering"
   ]
  },
  {
   "cell_type": "code",
   "execution_count": 1,
   "metadata": {},
   "outputs": [
    {
     "name": "stdout",
     "output_type": "stream",
     "text": [
      "written to 'ut/gt_konvertering_fane_20231211_223125.csv'\n"
     ]
    },
    {
     "data": {
      "text/html": [
       "<div>\n",
       "<style scoped>\n",
       "    .dataframe tbody tr th:only-of-type {\n",
       "        vertical-align: middle;\n",
       "    }\n",
       "\n",
       "    .dataframe tbody tr th {\n",
       "        vertical-align: top;\n",
       "    }\n",
       "\n",
       "    .dataframe thead th {\n",
       "        text-align: right;\n",
       "    }\n",
       "</style>\n",
       "<table border=\"1\" class=\"dataframe\">\n",
       "  <thead>\n",
       "    <tr style=\"text-align: right;\">\n",
       "      <th></th>\n",
       "      <th>Langkode</th>\n",
       "      <th>Kode</th>\n",
       "      <th>ForrigeKode</th>\n",
       "      <th>FP</th>\n",
       "      <th>SP</th>\n",
       "      <th>Url</th>\n",
       "    </tr>\n",
       "  </thead>\n",
       "  <tbody>\n",
       "    <tr>\n",
       "      <th>0</th>\n",
       "      <td>NIN-3.0-T-C-PE-NA-MB-M-A-02-11</td>\n",
       "      <td>M-A-02-11</td>\n",
       "      <td>NA M1-4</td>\n",
       "      <td>4</td>\n",
       "      <td>2</td>\n",
       "      <td>https://nin-kode-api.artsdatabanken.no/v2.3/ko...</td>\n",
       "    </tr>\n",
       "    <tr>\n",
       "      <th>1</th>\n",
       "      <td>NIN-3.0-T-C-PE-NA-MB-M-A-02-11</td>\n",
       "      <td>M-A-02-11</td>\n",
       "      <td>NA M1-6</td>\n",
       "      <td>4</td>\n",
       "      <td>2</td>\n",
       "      <td>https://nin-kode-api.artsdatabanken.no/v2.3/ko...</td>\n",
       "    </tr>\n",
       "    <tr>\n",
       "      <th>2</th>\n",
       "      <td>NIN-3.0-T-C-PE-NA-MB-M-A-03-01</td>\n",
       "      <td>M-A-03-01</td>\n",
       "      <td>NA M2-1</td>\n",
       "      <td>4</td>\n",
       "      <td>4</td>\n",
       "      <td>https://nin-kode-api.artsdatabanken.no/v2.3/ko...</td>\n",
       "    </tr>\n",
       "  </tbody>\n",
       "</table>\n",
       "</div>"
      ],
      "text/plain": [
       "                         Langkode       Kode ForrigeKode  FP  SP  \\\n",
       "0  NIN-3.0-T-C-PE-NA-MB-M-A-02-11  M-A-02-11     NA M1-4   4   2   \n",
       "1  NIN-3.0-T-C-PE-NA-MB-M-A-02-11  M-A-02-11     NA M1-6   4   2   \n",
       "2  NIN-3.0-T-C-PE-NA-MB-M-A-03-01  M-A-03-01     NA M2-1   4   4   \n",
       "\n",
       "                                                 Url  \n",
       "0  https://nin-kode-api.artsdatabanken.no/v2.3/ko...  \n",
       "1  https://nin-kode-api.artsdatabanken.no/v2.3/ko...  \n",
       "2  https://nin-kode-api.artsdatabanken.no/v2.3/ko...  "
      ]
     },
     "metadata": {},
     "output_type": "display_data"
    }
   ],
   "source": [
    "from spreadsheet_functions import gt_konvertering,closeConn\n",
    "display(gt_konvertering(makecsv=True).head(3))\n",
    "closeConn()"
   ]
  }
 ],
 "metadata": {
  "kernelspec": {
   "display_name": "base",
   "language": "python",
   "name": "python3"
  },
  "language_info": {
   "codemirror_mode": {
    "name": "ipython",
    "version": 3
   },
   "file_extension": ".py",
   "mimetype": "text/x-python",
   "name": "python",
   "nbconvert_exporter": "python",
   "pygments_lexer": "ipython3",
   "version": "3.11.5"
  }
 },
 "nbformat": 4,
 "nbformat_minor": 2
}
