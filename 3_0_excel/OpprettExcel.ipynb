{
 "cells": [
  {
   "cell_type": "markdown",
   "metadata": {},
   "source": [
    "# Henter type-fane\n",
    "Tips: https://www.geeksforgeeks.org/how-to-write-pandas-dataframes-to-multiple-excel-sheets/"
   ]
  },
  {
   "cell_type": "code",
   "execution_count": 1,
   "metadata": {},
   "outputs": [],
   "source": [
    "import pandas as pd\n",
    "import sqlite3\n",
    "# Connect to the SQLite database\n",
    "conn = sqlite3.connect(\"C:/Projects/nin3-kode-api/NiN3.WebApi/nin3kodeapi.db\")\n",
    "TypefaneQ = \"\"\"WITH eco AS (\n",
    "        SELECT Ordinal, Verdi, Beskrivelse \n",
    "        FROM Enumoppslag \n",
    "        WHERE Enumtype = 'EcosysnivaaEnum'\n",
    "    )\n",
    "    SELECT Langkode, Kode, type.Navn, eco.Verdi AS EcosystnivaaEnum\n",
    "    FROM type\n",
    "    LEFT JOIN eco ON type.Ecosystnivaa = eco.Ordinal\"\"\"  # Write your SQLite query\n",
    "df_type = pd.read_sql_query(TypefaneQ, conn)  # Execute the query and store the result in a DataFrame\n",
    "#Ecosystnivå\n",
    "EcoQ = \"Select Verdi, Beskrivelse from Enumoppslag where Enumtype = 'EcosysnivaaEnum'\"\n",
    "df_eco = pd.read_sql_query(EcoQ, conn)\n",
    "conn.close()"
   ]
  },
  {
   "cell_type": "code",
   "execution_count": 3,
   "metadata": {},
   "outputs": [],
   "source": [
    "## opprett excel\n",
    "with pd.ExcelWriter(\"nin3_0.xlsx\") as writer:\n",
    "   \n",
    "    # use to_excel function and specify the sheet_name and index \n",
    "    # to store the dataframe in specified sheet\n",
    "    df_type.to_excel(writer, sheet_name=\"Type\", index=False)\n",
    "    df_eco.to_excel(writer, sheet_name=\"Ecosystnivå\", index=False)\n",
    "    #data_frame3.to_excel(writer, sheet_name=\"Baked Items\", index=False)\n",
    "    "
   ]
  },
  {
   "cell_type": "code",
   "execution_count": 4,
   "metadata": {},
   "outputs": [
    {
     "name": "stdout",
     "output_type": "stream",
     "text": [
      "20231129_091209\n"
     ]
    }
   ],
   "source": [
    "from datetime import datetime\n",
    "import sqlite3\n",
    "from datetime import datetime\n",
    "\n",
    "current_time = datetime.now().strftime(\"%Y%m%d_%H%M%S\")\n",
    "print(current_time)\n",
    "\n",
    "\n",
    "# Connect to the SQLite database\n",
    "conn = sqlite3.connect(\"C:/Projects/nin3-kode-api/NiN3.WebApi/nin3kodeapi.db\")\n",
    "\n",
    "# Get the current timestamp\n",
    "current_time = datetime.now().strftime(\"%Y%m%d_%H%M%S\")\n",
    "\n",
    "# Insert the values into the db_info table\n",
    "insert_query = \"INSERT INTO db_info (Tittel, Verdi) VALUES (?, ?)\"\n",
    "conn.execute(insert_query, ('Opprettet', current_time))\n",
    "\n",
    "# Commit the changes and close the connection\n",
    "conn.commit()\n",
    "conn.close()\n",
    "# Connect to the SQLite database\n",
    "conn = sqlite3.connect(\"your_database.db\")\n",
    "\n",
    "# Get the current timestamp\n",
    "current_time = conn.execute(\"SELECT \").fetchone()[0]\n",
    "strftime('%Y%m%d_%H%M%S', 'now', 'localtime')\n",
    "# Print the current time\n",
    "print(current_time)\n",
    "\n",
    "# Close the connection\n",
    "conn.close()\n"
   ]
  },
  {
   "cell_type": "code",
   "execution_count": 2,
   "metadata": {},
   "outputs": [
    {
     "ename": "AttributeError",
     "evalue": "module 'os' has no attribute 'cwd'",
     "output_type": "error",
     "traceback": [
      "\u001b[1;31m---------------------------------------------------------------------------\u001b[0m",
      "\u001b[1;31mAttributeError\u001b[0m                            Traceback (most recent call last)",
      "\u001b[1;32mc:\\Projects\\nin3kodeapi_csvbuilder\\3_0_excel\\OpprettExcel.ipynb Cell 5\u001b[0m line \u001b[0;36m2\n\u001b[0;32m      <a href='vscode-notebook-cell:/c%3A/Projects/nin3kodeapi_csvbuilder/3_0_excel/OpprettExcel.ipynb#W4sZmlsZQ%3D%3D?line=0'>1</a>\u001b[0m \u001b[39mimport\u001b[39;00m \u001b[39mos\u001b[39;00m\n\u001b[1;32m----> <a href='vscode-notebook-cell:/c%3A/Projects/nin3kodeapi_csvbuilder/3_0_excel/OpprettExcel.ipynb#W4sZmlsZQ%3D%3D?line=1'>2</a>\u001b[0m os\u001b[39m.\u001b[39mcwd()\n",
      "\u001b[1;31mAttributeError\u001b[0m: module 'os' has no attribute 'cwd'"
     ]
    }
   ],
   "source": [
    "import os\n",
    "current_directory = os.getcwd()\n",
    "print(current_directory)\n"
   ]
  }
 ],
 "metadata": {
  "kernelspec": {
   "display_name": "base",
   "language": "python",
   "name": "python3"
  },
  "language_info": {
   "codemirror_mode": {
    "name": "ipython",
    "version": 3
   },
   "file_extension": ".py",
   "mimetype": "text/x-python",
   "name": "python",
   "nbconvert_exporter": "python",
   "pygments_lexer": "ipython3",
   "version": "3.11.5"
  }
 },
 "nbformat": 4,
 "nbformat_minor": 2
}
