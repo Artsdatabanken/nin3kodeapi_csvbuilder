{
 "cells": [
  {
   "cell_type": "markdown",
   "metadata": {},
   "source": [
    "## Hent 'fersk' Databasefil\n",
    "(Tips: https://www.geeksforgeeks.org/how-to-write-pandas-dataframes-to-multiple-excel-sheets/)"
   ]
  },
  {
   "cell_type": "code",
   "execution_count": 3,
   "metadata": {},
   "outputs": [
    {
     "name": "stdout",
     "output_type": "stream",
     "text": [
      "db-file downloaded to path 'db/nin3kodeapi.db'\n"
     ]
    }
   ],
   "source": [
    "from spreadsheet_functions import fetchDB\n",
    "fetchDB(\"develop\") # Branches: develop, test, master (develop is the default, test is the test branch, master is the production branch)"
   ]
  },
  {
   "cell_type": "markdown",
   "metadata": {},
   "source": [
    "# Lag Excel\n",
    "* Creates excel-document from downloaded sqlite database\n"
   ]
  },
  {
   "cell_type": "code",
   "execution_count": 1,
   "metadata": {},
   "outputs": [
    {
     "name": "stdout",
     "output_type": "stream",
     "text": [
      "Excel data skrevet til ut/nin3_0_20231211_214638.xlsx\n"
     ]
    }
   ],
   "source": [
    "from spreadsheet_functions import createExcel\n",
    "createExcel()"
   ]
  },
  {
   "cell_type": "markdown",
   "metadata": {},
   "source": [
    "# Type-fanen"
   ]
  },
  {
   "cell_type": "code",
   "execution_count": null,
   "metadata": {},
   "outputs": [],
   "source": [
    "from spreadsheet_functions import type_fane, getConn,closeConn\n",
    "display(type_fane(makecsv=True).head(3))\n",
    "closeConn()"
   ]
  },
  {
   "cell_type": "markdown",
   "metadata": {},
   "source": [
    "## Hovedtypegruppe-fanen"
   ]
  },
  {
   "cell_type": "code",
   "execution_count": null,
   "metadata": {},
   "outputs": [],
   "source": [
    "#HTG\n",
    "from spreadsheet_functions import hovedtypegruppe_fane,closeConn\n",
    "display(hovedtypegruppe_fane(makecsv=True).head(3))\n",
    "closeConn()"
   ]
  },
  {
   "cell_type": "markdown",
   "metadata": {},
   "source": [
    "## Hovedtype-fanen"
   ]
  },
  {
   "cell_type": "code",
   "execution_count": null,
   "metadata": {},
   "outputs": [],
   "source": [
    "from spreadsheet_functions import hovedtype_fane,closeConn\n",
    "display(hovedtype_fane(makecsv=True).head(3))\n",
    "closeConn()"
   ]
  },
  {
   "cell_type": "markdown",
   "metadata": {},
   "source": [
    "## Grunntype-fanen"
   ]
  },
  {
   "cell_type": "code",
   "execution_count": null,
   "metadata": {},
   "outputs": [],
   "source": [
    "from spreadsheet_functions import grunntype_fane,closeConn\n",
    "display(grunntype_fane(makecsv=True).head(3))\n",
    "closeConn() "
   ]
  },
  {
   "cell_type": "markdown",
   "metadata": {},
   "source": [
    "## Kartleggingsenheter M005"
   ]
  },
  {
   "cell_type": "code",
   "execution_count": null,
   "metadata": {},
   "outputs": [],
   "source": [
    "from spreadsheet_functions import kle_m005,closeConn\n",
    "display(kle_m005(makecsv=True).head(3))\n",
    "closeConn()"
   ]
  },
  {
   "cell_type": "markdown",
   "metadata": {},
   "source": [
    "## Kartleggingsenheter M020"
   ]
  },
  {
   "cell_type": "code",
   "execution_count": null,
   "metadata": {},
   "outputs": [],
   "source": [
    "from spreadsheet_functions import kle_m020,closeConn\n",
    "display(kle_m020(makecsv=True).head(3))\n",
    "closeConn()"
   ]
  },
  {
   "cell_type": "markdown",
   "metadata": {},
   "source": [
    "## Kartleggingsenheter M050"
   ]
  },
  {
   "cell_type": "code",
   "execution_count": null,
   "metadata": {},
   "outputs": [],
   "source": [
    "from spreadsheet_functions import kle_m050,closeConn\n",
    "display(kle_m050(makecsv=True).head(3))\n",
    "closeConn()"
   ]
  },
  {
   "cell_type": "markdown",
   "metadata": {},
   "source": [
    "## Hovedtype_KLE_M005"
   ]
  },
  {
   "cell_type": "code",
   "execution_count": null,
   "metadata": {},
   "outputs": [],
   "source": [
    "from spreadsheet_functions import ht_kle_m005,closeConn\n",
    "display(ht_kle_m005(makecsv=True).head(3))\n",
    "closeConn()"
   ]
  },
  {
   "cell_type": "markdown",
   "metadata": {},
   "source": [
    "## Hovedtype_KLE_M020"
   ]
  },
  {
   "cell_type": "code",
   "execution_count": null,
   "metadata": {},
   "outputs": [],
   "source": [
    "from spreadsheet_functions import ht_kle_m020,closeConn\n",
    "display(ht_kle_m020(makecsv=True).head(3))\n",
    "closeConn()"
   ]
  },
  {
   "cell_type": "markdown",
   "metadata": {},
   "source": [
    "## Hovedtype_KLE_M050"
   ]
  },
  {
   "cell_type": "code",
   "execution_count": null,
   "metadata": {},
   "outputs": [],
   "source": [
    "from spreadsheet_functions import ht_kle_m050,closeConn\n",
    "display(ht_kle_m050(makecsv=True).head(3))\n",
    "closeConn()"
   ]
  },
  {
   "cell_type": "markdown",
   "metadata": {},
   "source": [
    "## Grunntype_KLE_M005"
   ]
  },
  {
   "cell_type": "code",
   "execution_count": null,
   "metadata": {},
   "outputs": [],
   "source": [
    "from spreadsheet_functions import gt_kle_m005,closeConn\n",
    "display(gt_kle_m005(makecsv=True).head(3))\n",
    "closeConn()"
   ]
  },
  {
   "cell_type": "markdown",
   "metadata": {},
   "source": [
    "## Grunntype_KLE_M020"
   ]
  },
  {
   "cell_type": "code",
   "execution_count": null,
   "metadata": {},
   "outputs": [],
   "source": [
    "from spreadsheet_functions import gt_kle_m020,closeConn\n",
    "display(gt_kle_m020(makecsv=True).head(3))\n",
    "closeConn()"
   ]
  },
  {
   "cell_type": "markdown",
   "metadata": {},
   "source": [
    "## Grunntype_KLE_M050"
   ]
  },
  {
   "cell_type": "code",
   "execution_count": null,
   "metadata": {},
   "outputs": [],
   "source": [
    "from spreadsheet_functions import gt_kle_m050,closeConn\n",
    "display(gt_kle_m050(makecsv=True).head(3))\n",
    "closeConn()"
   ]
  },
  {
   "cell_type": "markdown",
   "metadata": {},
   "source": [
    "## Hovedtypegruppe_Hovedøkosystem"
   ]
  },
  {
   "cell_type": "code",
   "execution_count": null,
   "metadata": {},
   "outputs": [],
   "source": [
    "from spreadsheet_functions import htg_hoek,closeConn\n",
    "display(htg_hoek(makecsv=True).head(3))\n",
    "closeConn()"
   ]
  },
  {
   "cell_type": "markdown",
   "metadata": {},
   "source": [
    "## Variabel"
   ]
  },
  {
   "cell_type": "code",
   "execution_count": null,
   "metadata": {},
   "outputs": [],
   "source": [
    "from spreadsheet_functions import variabel_fane,closeConn\n",
    "display(variabel_fane(makecsv=True).head(3))\n",
    "closeConn()"
   ]
  },
  {
   "cell_type": "markdown",
   "metadata": {},
   "source": [
    "## Variabelnavn"
   ]
  },
  {
   "cell_type": "code",
   "execution_count": null,
   "metadata": {},
   "outputs": [],
   "source": [
    "from spreadsheet_functions import variabel_fane,closeConn\n",
    "display(variabel_fane(makecsv=True).head(3))\n",
    "closeConn()"
   ]
  },
  {
   "cell_type": "markdown",
   "metadata": {},
   "source": [
    "## Måleskala"
   ]
  },
  {
   "cell_type": "code",
   "execution_count": null,
   "metadata": {},
   "outputs": [],
   "source": [
    "from spreadsheet_functions import maaleskala_fane,closeConn\n",
    "display(maaleskala_fane(makecsv=True).head(3))\n",
    "closeConn()"
   ]
  },
  {
   "cell_type": "markdown",
   "metadata": {},
   "source": [
    "## Trinn"
   ]
  },
  {
   "cell_type": "code",
   "execution_count": 1,
   "metadata": {},
   "outputs": [
    {
     "name": "stdout",
     "output_type": "stream",
     "text": [
      "written to 'ut/trinn_fane_20231211_212630.csv'\n"
     ]
    },
    {
     "data": {
      "text/html": [
       "<div>\n",
       "<style scoped>\n",
       "    .dataframe tbody tr th:only-of-type {\n",
       "        vertical-align: middle;\n",
       "    }\n",
       "\n",
       "    .dataframe tbody tr th {\n",
       "        vertical-align: top;\n",
       "    }\n",
       "\n",
       "    .dataframe thead th {\n",
       "        text-align: right;\n",
       "    }\n",
       "</style>\n",
       "<table border=\"1\" class=\"dataframe\">\n",
       "  <thead>\n",
       "    <tr style=\"text-align: right;\">\n",
       "      <th></th>\n",
       "      <th>Verdi</th>\n",
       "      <th>Beskrivelse</th>\n",
       "      <th>MaaleskalaNavn</th>\n",
       "    </tr>\n",
       "  </thead>\n",
       "  <tbody>\n",
       "    <tr>\n",
       "      <th>0</th>\n",
       "      <td>nan_nan</td>\n",
       "      <td></td>\n",
       "      <td>nan-nan</td>\n",
       "    </tr>\n",
       "    <tr>\n",
       "      <th>1</th>\n",
       "      <td>KA_a</td>\n",
       "      <td>svært kalkfattig</td>\n",
       "      <td>KA-SO</td>\n",
       "    </tr>\n",
       "    <tr>\n",
       "      <th>2</th>\n",
       "      <td>HS_KB</td>\n",
       "      <td>plukkhogst</td>\n",
       "      <td>HS-SI</td>\n",
       "    </tr>\n",
       "  </tbody>\n",
       "</table>\n",
       "</div>"
      ],
      "text/plain": [
       "     Verdi       Beskrivelse MaaleskalaNavn\n",
       "0  nan_nan                          nan-nan\n",
       "1     KA_a  svært kalkfattig          KA-SO\n",
       "2    HS_KB        plukkhogst          HS-SI"
      ]
     },
     "metadata": {},
     "output_type": "display_data"
    }
   ],
   "source": [
    "from spreadsheet_functions import trinn_fane,closeConn\n",
    "display(trinn_fane(makecsv=True).head(3))\n",
    "closeConn()"
   ]
  },
  {
   "cell_type": "markdown",
   "metadata": {},
   "source": [
    "## Variabelnavn_Måleskala"
   ]
  },
  {
   "cell_type": "code",
   "execution_count": 3,
   "metadata": {},
   "outputs": [
    {
     "name": "stdout",
     "output_type": "stream",
     "text": [
      "written to 'ut/variabelnavn_maaleskala_fane_20231211_212515.csv'\n"
     ]
    },
    {
     "data": {
      "text/html": [
       "<div>\n",
       "<style scoped>\n",
       "    .dataframe tbody tr th:only-of-type {\n",
       "        vertical-align: middle;\n",
       "    }\n",
       "\n",
       "    .dataframe tbody tr th {\n",
       "        vertical-align: top;\n",
       "    }\n",
       "\n",
       "    .dataframe thead th {\n",
       "        text-align: right;\n",
       "    }\n",
       "</style>\n",
       "<table border=\"1\" class=\"dataframe\">\n",
       "  <thead>\n",
       "    <tr style=\"text-align: right;\">\n",
       "      <th></th>\n",
       "      <th>VariabelnavnKode</th>\n",
       "      <th>Variabelnavn</th>\n",
       "      <th>MaaleskalaNavn</th>\n",
       "    </tr>\n",
       "  </thead>\n",
       "  <tbody>\n",
       "    <tr>\n",
       "      <th>0</th>\n",
       "      <td>AD-FA</td>\n",
       "      <td>Fremmedartsantall</td>\n",
       "      <td>D0</td>\n",
       "    </tr>\n",
       "    <tr>\n",
       "      <th>1</th>\n",
       "      <td>AD-FD</td>\n",
       "      <td>Relativ fremmedartsdekning</td>\n",
       "      <td>P6b</td>\n",
       "    </tr>\n",
       "    <tr>\n",
       "      <th>2</th>\n",
       "      <td>AD-FR</td>\n",
       "      <td>Relativ fremmedartsandel</td>\n",
       "      <td>P6b</td>\n",
       "    </tr>\n",
       "  </tbody>\n",
       "</table>\n",
       "</div>"
      ],
      "text/plain": [
       "  VariabelnavnKode                Variabelnavn MaaleskalaNavn\n",
       "0            AD-FA           Fremmedartsantall             D0\n",
       "1            AD-FD  Relativ fremmedartsdekning            P6b\n",
       "2            AD-FR    Relativ fremmedartsandel            P6b"
      ]
     },
     "metadata": {},
     "output_type": "display_data"
    }
   ],
   "source": [
    "from spreadsheet_functions import variabelnavn_maaleskala,closeConn  \n",
    "display(variabelnavn_maaleskala(makecsv=True).head(3))\n",
    "closeConn()"
   ]
  },
  {
   "cell_type": "markdown",
   "metadata": {},
   "source": [
    "## Hovedtype_Variabeltrinn"
   ]
  },
  {
   "cell_type": "code",
   "execution_count": 1,
   "metadata": {},
   "outputs": [
    {
     "name": "stdout",
     "output_type": "stream",
     "text": [
      "written to 'ut/hovedtype_variabeltrinn_fane_20231211_212033.csv'\n"
     ]
    },
    {
     "data": {
      "text/html": [
       "<div>\n",
       "<style scoped>\n",
       "    .dataframe tbody tr th:only-of-type {\n",
       "        vertical-align: middle;\n",
       "    }\n",
       "\n",
       "    .dataframe tbody tr th {\n",
       "        vertical-align: top;\n",
       "    }\n",
       "\n",
       "    .dataframe thead th {\n",
       "        text-align: right;\n",
       "    }\n",
       "</style>\n",
       "<table border=\"1\" class=\"dataframe\">\n",
       "  <thead>\n",
       "    <tr style=\"text-align: right;\">\n",
       "      <th></th>\n",
       "      <th>GrunntypeKode</th>\n",
       "      <th>VariabelnavnKode</th>\n",
       "      <th>MaaleskalaNavn</th>\n",
       "      <th>TrinnVerdi</th>\n",
       "    </tr>\n",
       "  </thead>\n",
       "  <tbody>\n",
       "    <tr>\n",
       "      <th>0</th>\n",
       "      <td>NF-A-01</td>\n",
       "      <td>None</td>\n",
       "      <td>HY-SI</td>\n",
       "      <td>HY_A</td>\n",
       "    </tr>\n",
       "    <tr>\n",
       "      <th>1</th>\n",
       "      <td>NF-A-02</td>\n",
       "      <td>None</td>\n",
       "      <td>HY-SI</td>\n",
       "      <td>HY_B</td>\n",
       "    </tr>\n",
       "    <tr>\n",
       "      <th>2</th>\n",
       "      <td>NF-B-01</td>\n",
       "      <td>None</td>\n",
       "      <td>HY-SI</td>\n",
       "      <td>HY_A</td>\n",
       "    </tr>\n",
       "  </tbody>\n",
       "</table>\n",
       "</div>"
      ],
      "text/plain": [
       "  GrunntypeKode VariabelnavnKode MaaleskalaNavn TrinnVerdi\n",
       "0       NF-A-01             None          HY-SI       HY_A\n",
       "1       NF-A-02             None          HY-SI       HY_B\n",
       "2       NF-B-01             None          HY-SI       HY_A"
      ]
     },
     "metadata": {},
     "output_type": "display_data"
    }
   ],
   "source": [
    "from spreadsheet_functions import hovedtype_Variabeltrinn,closeConn\n",
    "display(hovedtype_Variabeltrinn(makecsv=True).head(3))\n",
    "closeConn()"
   ]
  },
  {
   "cell_type": "markdown",
   "metadata": {},
   "source": [
    "## Grunntype_Variabeltrinn"
   ]
  },
  {
   "cell_type": "code",
   "execution_count": 2,
   "metadata": {},
   "outputs": [
    {
     "name": "stdout",
     "output_type": "stream",
     "text": [
      "written to 'ut/grunntype_variabeltrinn_fane_20231211_212058.csv'\n"
     ]
    },
    {
     "data": {
      "text/html": [
       "<div>\n",
       "<style scoped>\n",
       "    .dataframe tbody tr th:only-of-type {\n",
       "        vertical-align: middle;\n",
       "    }\n",
       "\n",
       "    .dataframe tbody tr th {\n",
       "        vertical-align: top;\n",
       "    }\n",
       "\n",
       "    .dataframe thead th {\n",
       "        text-align: right;\n",
       "    }\n",
       "</style>\n",
       "<table border=\"1\" class=\"dataframe\">\n",
       "  <thead>\n",
       "    <tr style=\"text-align: right;\">\n",
       "      <th></th>\n",
       "      <th>GrunntypeKode</th>\n",
       "      <th>VariabelnavnKode</th>\n",
       "      <th>MaaleskalaNavn</th>\n",
       "      <th>TrinnVerdi</th>\n",
       "    </tr>\n",
       "  </thead>\n",
       "  <tbody>\n",
       "    <tr>\n",
       "      <th>0</th>\n",
       "      <td>F-A-01-01</td>\n",
       "      <td>LM-HU</td>\n",
       "      <td>HU-SO</td>\n",
       "      <td>HU_0</td>\n",
       "    </tr>\n",
       "    <tr>\n",
       "      <th>1</th>\n",
       "      <td>F-A-01-01</td>\n",
       "      <td>LM-HU</td>\n",
       "      <td>HU-SO</td>\n",
       "      <td>HU_a</td>\n",
       "    </tr>\n",
       "    <tr>\n",
       "      <th>2</th>\n",
       "      <td>F-A-01-01</td>\n",
       "      <td>LM-KA</td>\n",
       "      <td>KA-SO</td>\n",
       "      <td>KA_a</td>\n",
       "    </tr>\n",
       "  </tbody>\n",
       "</table>\n",
       "</div>"
      ],
      "text/plain": [
       "  GrunntypeKode VariabelnavnKode MaaleskalaNavn TrinnVerdi\n",
       "0     F-A-01-01            LM-HU          HU-SO       HU_0\n",
       "1     F-A-01-01            LM-HU          HU-SO       HU_a\n",
       "2     F-A-01-01            LM-KA          KA-SO       KA_a"
      ]
     },
     "metadata": {},
     "output_type": "display_data"
    }
   ],
   "source": [
    "from spreadsheet_functions import grunntype_Variabeltrinn,closeConn\n",
    "display(grunntype_Variabeltrinn(makecsv=True).head(3))\n",
    "closeConn()"
   ]
  }
 ],
 "metadata": {
  "kernelspec": {
   "display_name": "base",
   "language": "python",
   "name": "python3"
  },
  "language_info": {
   "codemirror_mode": {
    "name": "ipython",
    "version": 3
   },
   "file_extension": ".py",
   "mimetype": "text/x-python",
   "name": "python",
   "nbconvert_exporter": "python",
   "pygments_lexer": "ipython3",
   "version": "3.11.5"
  }
 },
 "nbformat": 4,
 "nbformat_minor": 2
}
