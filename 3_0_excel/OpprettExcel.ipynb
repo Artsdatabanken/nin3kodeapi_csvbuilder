{
 "cells": [
  {
   "cell_type": "markdown",
   "metadata": {},
   "source": [
    "# Koble til base\n",
    "Tips: https://www.geeksforgeeks.org/how-to-write-pandas-dataframes-to-multiple-excel-sheets/"
   ]
  },
  {
   "cell_type": "code",
   "execution_count": 5,
   "metadata": {},
   "outputs": [],
   "source": [
    "import pandas as pd\n",
    "import sqlite3\n",
    "# Connect to the SQLite database\n",
    "def getConn():\n",
    "    conn = sqlite3.connect(\"C:/Projects/nin3-kode-api/NiN3.WebApi/nin3kodeapi.db\")\n",
    "    return conn\n"
   ]
  },
  {
   "cell_type": "markdown",
   "metadata": {},
   "source": [
    "# Type-fanen"
   ]
  },
  {
   "cell_type": "code",
   "execution_count": 16,
   "metadata": {},
   "outputs": [],
   "source": [
    "conn = getConn()\n",
    "TypefaneQ = \"\"\"WITH eco AS (\n",
    "        SELECT Ordinal, Verdi, Beskrivelse \n",
    "        FROM Enumoppslag \n",
    "        WHERE Enumtype = 'EcosysnivaaEnum'\n",
    "    ),\n",
    "    tkat AS (\n",
    "        SELECT Ordinal, Verdi, Beskrivelse\n",
    "        FROM Enumoppslag\n",
    "        WHERE Enumtype = 'TypekategoriEnum'\n",
    "    ),\n",
    "    tkat2 AS ( \n",
    "        SELECT Ordinal, Verdi, Beskrivelse\n",
    "        FROM Enumoppslag\n",
    "        WHERE Enumtype = 'Typekategori2Enum'\n",
    "    )\n",
    "    SELECT Langkode, Kode, type.Navn, eco.Verdi AS EcosystnivaaEnum, tkat.Verdi AS Typekategori, tkat2.Verdi AS Typekategori2\n",
    "    FROM type\n",
    "    LEFT JOIN eco ON type.Ecosystnivaa = eco.Ordinal\n",
    "    LEFT JOIN tkat ON type.Typekategori = tkat.Ordinal\n",
    "    LEFT JOIN tkat2 ON type.Typekategori2 = tkat2.Ordinal\"\"\"  # Write your SQLite query\n",
    "df_type = pd.read_sql_query(TypefaneQ, conn)  # Execute the query and store the result in a DataFrame\n",
    "#Ecosystnivå\n",
    "EcoQ = \"Select Verdi, Beskrivelse from Enumoppslag where Enumtype = 'EcosysnivaaEnum'\"\n",
    "df_eco = pd.read_sql_query(EcoQ, conn)\n",
    "conn.close()"
   ]
  },
  {
   "cell_type": "markdown",
   "metadata": {},
   "source": [
    "## Hovedtypegruppe-fanen"
   ]
  },
  {
   "cell_type": "code",
   "execution_count": 23,
   "metadata": {},
   "outputs": [
    {
     "data": {
      "text/html": [
       "<div>\n",
       "<style scoped>\n",
       "    .dataframe tbody tr th:only-of-type {\n",
       "        vertical-align: middle;\n",
       "    }\n",
       "\n",
       "    .dataframe tbody tr th {\n",
       "        vertical-align: top;\n",
       "    }\n",
       "\n",
       "    .dataframe thead th {\n",
       "        text-align: right;\n",
       "    }\n",
       "</style>\n",
       "<table border=\"1\" class=\"dataframe\">\n",
       "  <thead>\n",
       "    <tr style=\"text-align: right;\">\n",
       "      <th></th>\n",
       "      <th>Langkode</th>\n",
       "      <th>Kode</th>\n",
       "      <th>Delkode</th>\n",
       "      <th>Navn</th>\n",
       "      <th>Typekategori2</th>\n",
       "      <th>Typekategori3</th>\n",
       "      <th>Typekode</th>\n",
       "    </tr>\n",
       "  </thead>\n",
       "  <tbody>\n",
       "    <tr>\n",
       "      <th>0</th>\n",
       "      <td>NIN-3.0-T-A-LV-FL-0-FL-A</td>\n",
       "      <td>FL-A</td>\n",
       "      <td>A</td>\n",
       "      <td>Breelvlandformer</td>\n",
       "      <td>FL</td>\n",
       "      <td>None</td>\n",
       "      <td>A-LV-FL</td>\n",
       "    </tr>\n",
       "    <tr>\n",
       "      <th>1</th>\n",
       "      <td>NIN-3.0-T-A-LV-FL-0-FL-B</td>\n",
       "      <td>FL-B</td>\n",
       "      <td>B</td>\n",
       "      <td>Biogene landformer</td>\n",
       "      <td>FL</td>\n",
       "      <td>None</td>\n",
       "      <td>A-LV-FL</td>\n",
       "    </tr>\n",
       "    <tr>\n",
       "      <th>2</th>\n",
       "      <td>NIN-3.0-T-A-LV-FL-0-FL-C</td>\n",
       "      <td>FL-C</td>\n",
       "      <td>C</td>\n",
       "      <td>Bresjølandformer</td>\n",
       "      <td>FL</td>\n",
       "      <td>None</td>\n",
       "      <td>A-LV-FL</td>\n",
       "    </tr>\n",
       "  </tbody>\n",
       "</table>\n",
       "</div>"
      ],
      "text/plain": [
       "                   Langkode  Kode Delkode                Navn Typekategori2  \\\n",
       "0  NIN-3.0-T-A-LV-FL-0-FL-A  FL-A       A    Breelvlandformer            FL   \n",
       "1  NIN-3.0-T-A-LV-FL-0-FL-B  FL-B       B  Biogene landformer            FL   \n",
       "2  NIN-3.0-T-A-LV-FL-0-FL-C  FL-C       C    Bresjølandformer            FL   \n",
       "\n",
       "  Typekategori3 Typekode  \n",
       "0          None  A-LV-FL  \n",
       "1          None  A-LV-FL  \n",
       "2          None  A-LV-FL  "
      ]
     },
     "metadata": {},
     "output_type": "display_data"
    }
   ],
   "source": [
    "#HTG\n",
    "conn = getConn()\n",
    "htgQ = \"\"\"WITH tkat2 AS ( \n",
    "        SELECT Ordinal, Verdi, Beskrivelse\n",
    "        FROM Enumoppslag\n",
    "        WHERE Enumtype = 'Typekategori2Enum'\n",
    "    ), tkat3 AS ( \n",
    "        SELECT Ordinal, Verdi, Beskrivelse\n",
    "        FROM Enumoppslag\n",
    "        WHERE Enumtype = 'Typekategori3Enum'\n",
    "    )\n",
    "    SELECT htg.Langkode, htg.Kode, htg.Delkode, htg.Navn, tkat2.Verdi AS Typekategori2, tkat3.Verdi AS Typekategori3, type.Kode AS Typekode\n",
    "    FROM hovedtypegruppe htg\n",
    "    LEFT JOIN tkat2 ON htg.Typekategori2 = tkat2.Ordinal\n",
    "    LEFT JOIN tkat3 ON htg.Typekategori3 = tkat3.Ordinal\n",
    "    LEFT JOIN type ON htg.TypeId = type.Id\"\"\"\n",
    "df_htg = pd.read_sql_query(htgQ, conn) \n",
    "display(df_htg.head(3))\n",
    "conn.close()"
   ]
  },
  {
   "cell_type": "markdown",
   "metadata": {},
   "source": [
    "## Hovedtype-fanen"
   ]
  },
  {
   "cell_type": "code",
   "execution_count": 29,
   "metadata": {},
   "outputs": [],
   "source": [
    "conn = getConn()\n",
    "htQ = \"\"\"WITH pk AS ( \n",
    "    SELECT Ordinal, Verdi, Beskrivelse\n",
    "    FROM Enumoppslag\n",
    "    WHERE Enumtype = 'ProsedyrekategoriEnum'\n",
    "    )\n",
    "    SELECT ht.Langkode, ht.Kode, ht.Delkode, ht.Navn, pk.Verdi AS Prosedyrekategori, hg.Kode AS Hovedtypegruppekode\n",
    "    FROM hovedtype ht\n",
    "    LEFT JOIN hovedtypegruppe hg ON hg.Id = ht.HovedtypegruppeId\n",
    "    LEFT JOIN pk ON ht.Prosedyrekategori = pk.Ordinal\"\"\"\n",
    "df_ht = pd.read_sql_query(htQ, conn)\n",
    "conn.close()"
   ]
  },
  {
   "cell_type": "markdown",
   "metadata": {},
   "source": [
    "## Grunntype-fanen"
   ]
  },
  {
   "cell_type": "code",
   "execution_count": 31,
   "metadata": {},
   "outputs": [],
   "source": [
    "conn = getConn()\n",
    "gtQ = \"\"\"WITH pk AS ( \n",
    "    SELECT Ordinal, Verdi, Beskrivelse\n",
    "    FROM Enumoppslag\n",
    "    WHERE Enumtype = 'ProsedyrekategoriEnum'\n",
    "    )\n",
    "    Select gt.Langkode, gt.Kode, gt.Delkode, gt.Navn, pk.Verdi AS Prosedyrekategori, ht.Kode AS Hovedtypekode\n",
    "    from grunntype gt\n",
    "    LEFT JOIN pk ON gt.Prosedyrekategori = pk.Ordinal\n",
    "    LEFT JOIN hovedtype ht ON gt.HovedtypeId = ht.Id\"\"\"\n",
    "df_gt = pd.read_sql_query(gtQ, conn)\n",
    "df_gt.head(3)\n",
    "conn.close()  "
   ]
  },
  {
   "cell_type": "code",
   "execution_count": 30,
   "metadata": {},
   "outputs": [
    {
     "data": {
      "text/html": [
       "<div>\n",
       "<style scoped>\n",
       "    .dataframe tbody tr th:only-of-type {\n",
       "        vertical-align: middle;\n",
       "    }\n",
       "\n",
       "    .dataframe tbody tr th {\n",
       "        vertical-align: top;\n",
       "    }\n",
       "\n",
       "    .dataframe thead th {\n",
       "        text-align: right;\n",
       "    }\n",
       "</style>\n",
       "<table border=\"1\" class=\"dataframe\">\n",
       "  <thead>\n",
       "    <tr style=\"text-align: right;\">\n",
       "      <th></th>\n",
       "      <th>Id</th>\n",
       "      <th>VersjonId</th>\n",
       "      <th>Langkode</th>\n",
       "      <th>Kode</th>\n",
       "      <th>Navn</th>\n",
       "      <th>Delkode</th>\n",
       "      <th>Prosedyrekategori</th>\n",
       "      <th>HovedtypeId</th>\n",
       "      <th>KartleggingsenhetId</th>\n",
       "    </tr>\n",
       "  </thead>\n",
       "  <tbody>\n",
       "    <tr>\n",
       "      <th>0</th>\n",
       "      <td>1</td>\n",
       "      <td>1</td>\n",
       "      <td>NIN-3.0-T-C-PE-LA-0-I-0-01-001</td>\n",
       "      <td>I-0-01-001</td>\n",
       "      <td>Dalformet lavlands-åslandskap</td>\n",
       "      <td>001</td>\n",
       "      <td>NaN</td>\n",
       "      <td>238</td>\n",
       "      <td>None</td>\n",
       "    </tr>\n",
       "    <tr>\n",
       "      <th>1</th>\n",
       "      <td>2</td>\n",
       "      <td>1</td>\n",
       "      <td>NIN-3.0-T-C-PE-LA-0-I-0-01-002</td>\n",
       "      <td>I-0-01-002</td>\n",
       "      <td>Dalformet lavlands-åslandskap med jordbruk</td>\n",
       "      <td>002</td>\n",
       "      <td>NaN</td>\n",
       "      <td>238</td>\n",
       "      <td>None</td>\n",
       "    </tr>\n",
       "    <tr>\n",
       "      <th>2</th>\n",
       "      <td>3</td>\n",
       "      <td>1</td>\n",
       "      <td>NIN-3.0-T-C-PE-LA-0-I-0-01-003</td>\n",
       "      <td>I-0-01-003</td>\n",
       "      <td>Dalformet lavlands-åslandskap med bygd/bebyggelse</td>\n",
       "      <td>003</td>\n",
       "      <td>NaN</td>\n",
       "      <td>238</td>\n",
       "      <td>None</td>\n",
       "    </tr>\n",
       "  </tbody>\n",
       "</table>\n",
       "</div>"
      ],
      "text/plain": [
       "   Id  VersjonId                        Langkode        Kode  \\\n",
       "0   1          1  NIN-3.0-T-C-PE-LA-0-I-0-01-001  I-0-01-001   \n",
       "1   2          1  NIN-3.0-T-C-PE-LA-0-I-0-01-002  I-0-01-002   \n",
       "2   3          1  NIN-3.0-T-C-PE-LA-0-I-0-01-003  I-0-01-003   \n",
       "\n",
       "                                                Navn Delkode  \\\n",
       "0                      Dalformet lavlands-åslandskap     001   \n",
       "1         Dalformet lavlands-åslandskap med jordbruk     002   \n",
       "2  Dalformet lavlands-åslandskap med bygd/bebyggelse     003   \n",
       "\n",
       "   Prosedyrekategori  HovedtypeId KartleggingsenhetId  \n",
       "0                NaN          238                None  \n",
       "1                NaN          238                None  \n",
       "2                NaN          238                None  "
      ]
     },
     "metadata": {},
     "output_type": "display_data"
    }
   ],
   "source": [
    "#quick view of table\n",
    "conn = getConn()\n",
    "tablename = 'Grunntype'\n",
    "query = \"select * from \" + tablename\n",
    "df = pd.read_sql_query(query, conn)\n",
    "display(df.head(3))\n",
    "conn.close()"
   ]
  },
  {
   "cell_type": "code",
   "execution_count": 3,
   "metadata": {},
   "outputs": [],
   "source": [
    "## opprett excel\n",
    "with pd.ExcelWriter(\"nin3_0.xlsx\") as writer:\n",
    "   \n",
    "    # use to_excel function and specify the sheet_name and index \n",
    "    # to store the dataframe in specified sheet\n",
    "    df_type.to_excel(writer, sheet_name=\"Type\", index=False)\n",
    "    df_htg.to_excel(writer, sheet_name=\"Hovedtypegruppe\", index=False)\n",
    "    df_ht.to_excel(writer, sheet_name=\"Hovedtype\", index=False)\n",
    "    df_gt.to_excel(writer, sheet_name=\"Grunntype\", index=False)\n",
    "    df_eco.to_excel(writer, sheet_name=\"Ecosystnivå\", index=False)\n",
    "    #data_frame3.to_excel(writer, sheet_name=\"Baked Items\", index=False)\n",
    "    "
   ]
  },
  {
   "cell_type": "code",
   "execution_count": 4,
   "metadata": {},
   "outputs": [
    {
     "name": "stdout",
     "output_type": "stream",
     "text": [
      "20231129_091209\n"
     ]
    }
   ],
   "source": [
    "from datetime import datetime\n",
    "import sqlite3\n",
    "from datetime import datetime\n",
    "\n",
    "current_time = datetime.now().strftime(\"%Y%m%d_%H%M%S\")\n",
    "print(current_time)\n",
    "\n",
    "\n",
    "# Connect to the SQLite database\n",
    "conn = sqlite3.connect(\"C:/Projects/nin3-kode-api/NiN3.WebApi/nin3kodeapi.db\")\n",
    "\n",
    "# Get the current timestamp\n",
    "current_time = datetime.now().strftime(\"%Y%m%d_%H%M%S\")\n",
    "\n",
    "# Insert the values into the db_info table\n",
    "insert_query = \"INSERT INTO db_info (Tittel, Verdi) VALUES (?, ?)\"\n",
    "conn.execute(insert_query, ('Opprettet', current_time))\n",
    "\n",
    "# Commit the changes and close the connection\n",
    "conn.commit()\n",
    "conn.close()\n",
    "# Connect to the SQLite database\n",
    "conn = sqlite3.connect(\"your_database.db\")\n",
    "\n",
    "# Get the current timestamp\n",
    "current_time = conn.execute(\"SELECT \").fetchone()[0]\n",
    "strftime('%Y%m%d_%H%M%S', 'now', 'localtime')\n",
    "# Print the current time\n",
    "print(current_time)\n",
    "\n",
    "# Close the connection\n",
    "conn.close()\n"
   ]
  },
  {
   "cell_type": "code",
   "execution_count": 2,
   "metadata": {},
   "outputs": [
    {
     "ename": "AttributeError",
     "evalue": "module 'os' has no attribute 'cwd'",
     "output_type": "error",
     "traceback": [
      "\u001b[1;31m---------------------------------------------------------------------------\u001b[0m",
      "\u001b[1;31mAttributeError\u001b[0m                            Traceback (most recent call last)",
      "\u001b[1;32mc:\\Projects\\nin3kodeapi_csvbuilder\\3_0_excel\\OpprettExcel.ipynb Cell 5\u001b[0m line \u001b[0;36m2\n\u001b[0;32m      <a href='vscode-notebook-cell:/c%3A/Projects/nin3kodeapi_csvbuilder/3_0_excel/OpprettExcel.ipynb#W4sZmlsZQ%3D%3D?line=0'>1</a>\u001b[0m \u001b[39mimport\u001b[39;00m \u001b[39mos\u001b[39;00m\n\u001b[1;32m----> <a href='vscode-notebook-cell:/c%3A/Projects/nin3kodeapi_csvbuilder/3_0_excel/OpprettExcel.ipynb#W4sZmlsZQ%3D%3D?line=1'>2</a>\u001b[0m os\u001b[39m.\u001b[39mcwd()\n",
      "\u001b[1;31mAttributeError\u001b[0m: module 'os' has no attribute 'cwd'"
     ]
    }
   ],
   "source": [
    "import os\n",
    "current_directory = os.getcwd()\n",
    "print(current_directory)\n"
   ]
  }
 ],
 "metadata": {
  "kernelspec": {
   "display_name": "base",
   "language": "python",
   "name": "python3"
  },
  "language_info": {
   "codemirror_mode": {
    "name": "ipython",
    "version": 3
   },
   "file_extension": ".py",
   "mimetype": "text/x-python",
   "name": "python",
   "nbconvert_exporter": "python",
   "pygments_lexer": "ipython3",
   "version": "3.11.5"
  }
 },
 "nbformat": 4,
 "nbformat_minor": 2
}
