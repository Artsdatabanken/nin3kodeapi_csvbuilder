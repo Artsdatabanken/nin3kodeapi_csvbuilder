{
 "cells": [
  {
   "attachments": {
    "image-2.png": {
     "image/png": "[encoded data removed]"
    }
   },
   "cell_type": "markdown",
   "metadata": {},
   "source": [
    "# Opplagsverk\n",
    "Databasediagram: 2 deler Type og Variabel\n",
    "\n",
    "[Type-diagrammet](https://viewer.diagrams.net/?tags=%7B%7D&highlight=0000ff&edit=_blank&layers=1&nav=1&title=NiN3.0%20ERDiagram_type#Uhttps%3A%2F%2Fdrive.google.com%2Fuc%3Fid%3D1Hx1bMcy3zW6ZlVHqJHPZwPD8MX5akZtx%26export%3Ddownload)\n",
    "\n",
    "[Variabel-diagrammet](https://viewer.diagrams.net/?tags=%7B%7D&highlight=0000ff&edit=_blank&layers=1&nav=1&title=NIN3.0%20ERDiagram_Variabel.drawio#Uhttps%3A%2F%2Fdrive.google.com%2Fuc%3Fid%3D1WNfl-vzjXFJBpdCK23OiGLlbc-S2yIhP%26export%3Ddownload)\n",
    "\n",
    "## Apier\n",
    "\n",
    "[2.3 API](https://nin-kode-api.artsdatabanken.no/swagger/index.html)\n",
    "\n",
    "3.0 APiER :\n",
    "\n",
    "[Develop](https://nin3webapi20230627120155.azurewebsites.net/) \n",
    "\n",
    "[Test](https://nin3kodeapi.test.artsdatabanken.no)\n",
    "\n",
    "## Bruk:\n",
    "Trykk i ønsket kode-blokk og trykk run-knappen, følg så med på statusmelding under kodeboksen.\n",
    "\n",
    "![image-2.png](attachment:image-2.png)\n"
   ]
  },
  {
   "cell_type": "markdown",
   "metadata": {},
   "source": [
    "# Excel-fil: Lag Excel av nin3-databasen\n",
    "* Creates excel-document from downloaded sqlite database\n"
   ]
  },
  {
   "cell_type": "code",
   "execution_count": 1,
   "metadata": {},
   "outputs": [
    {
     "name": "stdout",
     "output_type": "stream",
     "text": [
      "db-file connected from local path 'C:/temp/nin3kodeapi.db'\n",
      "\n",
      "\n",
      "Excel data skrevet til ut/nin3_0_20240221_125028.xlsx\n",
      "adjusting column width in: ut/new/nin3_0_redigering.xlsx\n",
      "Completed adjustments for nin3_0_redigering.xlsx\n",
      "db-file connected from local path 'C:/temp/nin3kodeapi.db'\n",
      "\n",
      "\n",
      "Excel data skrevet til ut/nin3_0_20240221_125035.xlsx\n",
      "adjusting column width in: ut/api/nin3_0.xlsx\n",
      "Completed adjustments for nin3_0.xlsx\n"
     ]
    }
   ],
   "source": [
    "from spreadsheet_functions import createExcel\n",
    "createExcel(dbfromlocal=True) #File for editing\n",
    "createExcel(dbfromlocal=True, forEdit=False) #API file\n",
    "#createExcel(dbfromlocal=False, branch='master') # choices: develop, test, master "
   ]
  },
  {
   "cell_type": "markdown",
   "metadata": {},
   "source": [
    "# Excel-fil: Lag Grunntype-målestokk-variabelnavn -oversikt"
   ]
  },
  {
   "cell_type": "code",
   "execution_count": null,
   "metadata": {},
   "outputs": [],
   "source": [
    "from spreadsheet_functions import createGrunntypeMaalestokkVariabelOversikt\n",
    "createGrunntypeMaalestokkVariabelOversikt()"
   ]
  },
  {
   "cell_type": "markdown",
   "metadata": {},
   "source": [
    "## Excel-fil: Trinn under SO og SI -måleskalaer med ant. forekomst"
   ]
  },
  {
   "cell_type": "code",
   "execution_count": null,
   "metadata": {},
   "outputs": [],
   "source": [
    "from spreadsheet_functions import create_so_si_trinn_unihet\n",
    "create_so_si_trinn_unihet()"
   ]
  },
  {
   "cell_type": "markdown",
   "metadata": {},
   "source": [
    "## Grunntype-kartleggingsenhet-variabelnavn"
   ]
  },
  {
   "cell_type": "code",
   "execution_count": null,
   "metadata": {},
   "outputs": [],
   "source": [
    "# hm husker ikke hva dette skulle være (10/1) ?#from spreadsheet_functions import "
   ]
  },
  {
   "cell_type": "markdown",
   "metadata": {},
   "source": [
    "# Type-fanen"
   ]
  },
  {
   "cell_type": "code",
   "execution_count": null,
   "metadata": {},
   "outputs": [],
   "source": [
    "from spreadsheet_functions import type_fane, getConn,closeConn\n",
    "display(type_fane(makecsv=True).head(3))\n",
    "closeConn()"
   ]
  },
  {
   "cell_type": "markdown",
   "metadata": {},
   "source": [
    "## Hovedtypegruppe-fanen"
   ]
  },
  {
   "cell_type": "code",
   "execution_count": null,
   "metadata": {},
   "outputs": [],
   "source": [
    "#HTG\n",
    "from spreadsheet_functions import hovedtypegruppe_fane,closeConn\n",
    "display(hovedtypegruppe_fane(makecsv=True).head(3))\n",
    "closeConn()"
   ]
  },
  {
   "cell_type": "markdown",
   "metadata": {},
   "source": [
    "## Hovedtype-fanen"
   ]
  },
  {
   "cell_type": "code",
   "execution_count": null,
   "metadata": {},
   "outputs": [],
   "source": [
    "from spreadsheet_functions import hovedtype_fane,closeConn\n",
    "display(hovedtype_fane(makecsv=True).head(3))\n",
    "closeConn()"
   ]
  },
  {
   "cell_type": "markdown",
   "metadata": {},
   "source": [
    "## Grunntype-fanen"
   ]
  },
  {
   "cell_type": "code",
   "execution_count": null,
   "metadata": {},
   "outputs": [],
   "source": [
    "from spreadsheet_functions import grunntype_fane,closeConn\n",
    "display(grunntype_fane(makecsv=True).head(3))\n",
    "closeConn() "
   ]
  },
  {
   "cell_type": "markdown",
   "metadata": {},
   "source": [
    "## Kartleggingsenheter M005"
   ]
  },
  {
   "cell_type": "code",
   "execution_count": null,
   "metadata": {},
   "outputs": [],
   "source": [
    "from spreadsheet_functions import kle_m005,closeConn\n",
    "display(kle_m005(makecsv=True).head(3))\n",
    "closeConn()"
   ]
  },
  {
   "cell_type": "markdown",
   "metadata": {},
   "source": [
    "## Kartleggingsenheter M020"
   ]
  },
  {
   "cell_type": "code",
   "execution_count": null,
   "metadata": {},
   "outputs": [],
   "source": [
    "from spreadsheet_functions import kle_m020,closeConn\n",
    "display(kle_m020(makecsv=True).head(3))\n",
    "closeConn()"
   ]
  },
  {
   "cell_type": "markdown",
   "metadata": {},
   "source": [
    "## Kartleggingsenheter M050"
   ]
  },
  {
   "cell_type": "code",
   "execution_count": null,
   "metadata": {},
   "outputs": [],
   "source": [
    "from spreadsheet_functions import kle_m050,closeConn\n",
    "display(kle_m050(makecsv=True).head(3))\n",
    "closeConn()"
   ]
  },
  {
   "cell_type": "markdown",
   "metadata": {},
   "source": [
    "## Hovedtype_KLE_M005"
   ]
  },
  {
   "cell_type": "code",
   "execution_count": null,
   "metadata": {},
   "outputs": [],
   "source": [
    "from spreadsheet_functions import ht_kle_m005,closeConn\n",
    "display(ht_kle_m005(makecsv=True).head(3))\n",
    "closeConn()"
   ]
  },
  {
   "cell_type": "markdown",
   "metadata": {},
   "source": [
    "## Hovedtype_KLE_M020"
   ]
  },
  {
   "cell_type": "code",
   "execution_count": null,
   "metadata": {},
   "outputs": [],
   "source": [
    "from spreadsheet_functions import ht_kle_m020,closeConn\n",
    "display(ht_kle_m020(makecsv=True).head(3))\n",
    "closeConn()"
   ]
  },
  {
   "cell_type": "markdown",
   "metadata": {},
   "source": [
    "## Hovedtype_KLE_M050"
   ]
  },
  {
   "cell_type": "code",
   "execution_count": null,
   "metadata": {},
   "outputs": [],
   "source": [
    "from spreadsheet_functions import ht_kle_m050,closeConn\n",
    "display(ht_kle_m050(makecsv=True).head(3))\n",
    "closeConn()"
   ]
  },
  {
   "cell_type": "markdown",
   "metadata": {},
   "source": [
    "## Grunntype_KLE_M005"
   ]
  },
  {
   "cell_type": "code",
   "execution_count": null,
   "metadata": {},
   "outputs": [],
   "source": [
    "from spreadsheet_functions import gt_kle_m005,closeConn\n",
    "display(gt_kle_m005(makecsv=True).head(3))\n",
    "closeConn()"
   ]
  },
  {
   "cell_type": "markdown",
   "metadata": {},
   "source": [
    "## Grunntype_KLE_M020"
   ]
  },
  {
   "cell_type": "code",
   "execution_count": null,
   "metadata": {},
   "outputs": [],
   "source": [
    "from spreadsheet_functions import gt_kle_m020,closeConn\n",
    "display(gt_kle_m020(makecsv=True).head(3))\n",
    "closeConn()"
   ]
  },
  {
   "cell_type": "markdown",
   "metadata": {},
   "source": [
    "## Grunntype_KLE_M050"
   ]
  },
  {
   "cell_type": "code",
   "execution_count": null,
   "metadata": {},
   "outputs": [],
   "source": [
    "from spreadsheet_functions import gt_kle_m050,closeConn\n",
    "display(gt_kle_m050(makecsv=True).head(3))\n",
    "closeConn()"
   ]
  },
  {
   "cell_type": "markdown",
   "metadata": {},
   "source": [
    "## Hovedtypegruppe_Hovedøkosystem"
   ]
  },
  {
   "cell_type": "code",
   "execution_count": null,
   "metadata": {},
   "outputs": [],
   "source": [
    "from spreadsheet_functions import htg_hoek,closeConn\n",
    "display(htg_hoek(makecsv=True).head(3))\n",
    "closeConn()"
   ]
  },
  {
   "cell_type": "markdown",
   "metadata": {},
   "source": [
    "## Variabel"
   ]
  },
  {
   "cell_type": "code",
   "execution_count": null,
   "metadata": {},
   "outputs": [],
   "source": [
    "from spreadsheet_functions import variabel_fane,closeConn\n",
    "display(variabel_fane(makecsv=True).head(3))\n",
    "closeConn()"
   ]
  },
  {
   "cell_type": "markdown",
   "metadata": {},
   "source": [
    "## Variabelnavn"
   ]
  },
  {
   "cell_type": "code",
   "execution_count": null,
   "metadata": {},
   "outputs": [],
   "source": [
    "from spreadsheet_functions import variabel_fane,closeConn\n",
    "display(variabel_fane(makecsv=True).head(3))\n",
    "closeConn()"
   ]
  },
  {
   "cell_type": "markdown",
   "metadata": {},
   "source": [
    "## Måleskala"
   ]
  },
  {
   "cell_type": "code",
   "execution_count": null,
   "metadata": {},
   "outputs": [],
   "source": [
    "from spreadsheet_functions import maaleskala_fane,closeConn\n",
    "display(maaleskala_fane(makecsv=True).head(3))\n",
    "closeConn()"
   ]
  },
  {
   "cell_type": "markdown",
   "metadata": {},
   "source": [
    "## Trinn"
   ]
  },
  {
   "cell_type": "code",
   "execution_count": null,
   "metadata": {},
   "outputs": [],
   "source": [
    "from spreadsheet_functions import trinn_fane,closeConn\n",
    "display(trinn_fane(makecsv=True).head(3))\n",
    "closeConn()"
   ]
  },
  {
   "cell_type": "markdown",
   "metadata": {},
   "source": [
    "## Variabelnavn_Måleskala"
   ]
  },
  {
   "cell_type": "code",
   "execution_count": null,
   "metadata": {},
   "outputs": [],
   "source": [
    "from spreadsheet_functions import variabelnavn_maaleskala,closeConn  \n",
    "display(variabelnavn_maaleskala(makecsv=True).head(3))\n",
    "closeConn()"
   ]
  },
  {
   "cell_type": "markdown",
   "metadata": {},
   "source": [
    "## Hovedtype_Variabeltrinn"
   ]
  },
  {
   "cell_type": "code",
   "execution_count": null,
   "metadata": {},
   "outputs": [],
   "source": [
    "from spreadsheet_functions import hovedtype_Variabeltrinn,closeConn\n",
    "display(hovedtype_Variabeltrinn(makecsv=True).head(3))\n",
    "closeConn()"
   ]
  },
  {
   "cell_type": "markdown",
   "metadata": {},
   "source": [
    "## Grunntype_Variabeltrinn"
   ]
  },
  {
   "cell_type": "code",
   "execution_count": null,
   "metadata": {},
   "outputs": [],
   "source": [
    "from spreadsheet_functions import grunntype_Variabeltrinn,closeConn\n",
    "display(grunntype_Variabeltrinn(makecsv=True).head(3))\n",
    "closeConn()"
   ]
  },
  {
   "cell_type": "markdown",
   "metadata": {},
   "source": [
    "## Hovedtypegruppe_konvertering"
   ]
  },
  {
   "cell_type": "code",
   "execution_count": null,
   "metadata": {},
   "outputs": [],
   "source": [
    "from spreadsheet_functions import htg_konvertering,closeConn\n",
    "display(htg_konvertering(makecsv=True).head(3))\n",
    "closeConn()"
   ]
  },
  {
   "cell_type": "markdown",
   "metadata": {},
   "source": [
    "## Hovedtype_konvertering"
   ]
  },
  {
   "cell_type": "code",
   "execution_count": null,
   "metadata": {},
   "outputs": [],
   "source": [
    "from spreadsheet_functions import ht_konvertering,closeConn\n",
    "display(ht_konvertering(makecsv=True).head(3))\n",
    "closeConn()"
   ]
  },
  {
   "cell_type": "markdown",
   "metadata": {},
   "source": [
    "## Grunntype_konvertering"
   ]
  },
  {
   "cell_type": "code",
   "execution_count": null,
   "metadata": {},
   "outputs": [],
   "source": [
    "from spreadsheet_functions import gt_konvertering,closeConn\n",
    "display(gt_konvertering(makecsv=True).head(3))\n",
    "closeConn()"
   ]
  },
  {
   "cell_type": "markdown",
   "metadata": {},
   "source": [
    "## Enums"
   ]
  },
  {
   "cell_type": "code",
   "execution_count": null,
   "metadata": {},
   "outputs": [],
   "source": [
    "from spreadsheet_functions import enums,closeConn\n",
    "display(enums(makecsv=True).head(3))\n",
    "closeConn()"
   ]
  }
 ],
 "metadata": {
  "kernelspec": {
   "display_name": "base",
   "language": "python",
   "name": "python3"
  },
  "language_info": {
   "codemirror_mode": {
    "name": "ipython",
    "version": 3
   },
   "file_extension": ".py",
   "mimetype": "text/x-python",
   "name": "python",
   "nbconvert_exporter": "python",
   "pygments_lexer": "ipython3",
   "version": "3.11.5"
  }
 },
 "nbformat": 4,
 "nbformat_minor": 2
}
