{
 "cells": [
  {
   "cell_type": "markdown",
   "metadata": {},
   "source": [
    "# Summary\n",
    "This notebook takes objects*(kodeoversikt*.csv) from nin3 code api and checks if they get a match in cms api (the adb-api in front of drupal cms)\n",
    "\n",
    "(* : Type, Hovedtypegruppe, Hovedtype, Grunntype etc.)"
   ]
  },
  {
   "cell_type": "markdown",
   "metadata": {},
   "source": [
    "# Load kodeoversikt.csv to a dataframe"
   ]
  },
  {
   "cell_type": "code",
   "execution_count": null,
   "metadata": {},
   "outputs": [],
   "source": [
    "import pandas as pd\n",
    "\n",
    "# Read the CSV file into a dataframe\n",
    "def read_csv(file):\n",
    "    df = pd.read_csv(file, sep=\";\")\n",
    "    return df\n",
    "df = read_csv(\"kodeoversikt_chunk.csv\") # kodeoversikt_chunk.csv: minimal subset of kodeoversikt.csv. (5 of each object type)\n",
    "                                        # ..Kodeoversikt.csv can be used to scan cms for all codes for nin3. (slow)\n",
    "df.info()\n",
    "# Display the dataframe"
   ]
  },
  {
   "cell_type": "markdown",
   "metadata": {},
   "source": [
    "# Create sample csv, a chunk of original"
   ]
  },
  {
   "cell_type": "code",
   "execution_count": null,
   "metadata": {},
   "outputs": [],
   "source": [
    "new_dfs = []\n",
    "for klasse in df['Klasse'].unique():\n",
    "    new_df = df[df['Klasse'] == klasse].head(5)\n",
    "    new_dfs.append(new_df)\n",
    "\n",
    "# Concatenate all the new dataframes into a single dataframe\n",
    "new_df = pd.concat(new_dfs)\n",
    "\n",
    "# Write the new dataframe to a CSV file\n",
    "new_df.to_csv('kodeoversikt_chunk.csv', index=False, sep=\";\")\n"
   ]
  },
  {
   "cell_type": "code",
   "execution_count": null,
   "metadata": {},
   "outputs": [],
   "source": [
    "def lookup_code(code):\n",
    "    import requests\n",
    "    url_code_lookup_base = \"https://artsdatabanken.no/api/nin/v3?code=\"\n",
    "    url = url_code_lookup_base + code\n",
    "    return requests.get(url)\n"
   ]
  },
  {
   "cell_type": "markdown",
   "metadata": {},
   "source": [
    "## for each row in DataFrame - query cms-api with ['Langkode']\n",
    "* uses current dataframe with nin3 langkode's to query cms-api and fetches http-status(200OK, 404NOTFound) and part of json-content\n",
    "* output: csv report with results that tell if a langkode exist in cms-api and if it has data.\n"
   ]
  },
  {
   "cell_type": "code",
   "execution_count": null,
   "metadata": {},
   "outputs": [],
   "source": [
    "from IPython.display import clear_output\n",
    "progress_intervall = 5\n",
    "df[\"status_code\"] = \"\"\n",
    "df[\"in_drupal\"] = \"\"\n",
    "df[\"content_preview\"] = \"\"\n",
    "for index, row in df.iterrows():\n",
    "    code = row['Langkode']\n",
    "    response = lookup_code(code)\n",
    "    if response.status_code == 200:\n",
    "        df.at[index, 'in_drupal'] = 'True'\n",
    "        df.at[index, 'content_preview'] = response.json()[:50]\n",
    "    else:\n",
    "        df.at[index, 'in_drupal'] = 'False'\n",
    "    df.at[index, 'status_code'] = response.status_code\n",
    "    if index % progress_intervall == 0:\n",
    "        clear_output(wait=True)\n",
    "        display(f\"Number of rows iterated: {index+1}\")\n",
    "        #display(df)\n",
    "df.to_csv('output_kodeoversikt.csv', index=False, sep=\";\")\n",
    "print(\"Done! Look at output_kodeoversikt.csv\")"
   ]
  }
 ],
 "metadata": {
  "kernelspec": {
   "display_name": "base",
   "language": "python",
   "name": "python3"
  },
  "language_info": {
   "codemirror_mode": {
    "name": "ipython",
    "version": 3
   },
   "file_extension": ".py",
   "mimetype": "text/x-python",
   "name": "python",
   "nbconvert_exporter": "python",
   "pygments_lexer": "ipython3",
   "version": "3.11.5"
  }
 },
 "nbformat": 4,
 "nbformat_minor": 2
}
