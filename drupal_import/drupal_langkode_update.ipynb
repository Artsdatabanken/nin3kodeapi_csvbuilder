{
 "cells": [
  {
   "cell_type": "markdown",
   "metadata": {},
   "source": [
    "# Summary\n",
    "This notebook takes kodeoversikt.csv fetched from nin3-kode-api and merges with guids from drupal 'Bok1.xlsx'  \n",
    "It merges these two into a dataframe that is then exported  \n",
    "as csv to be imported into drupal update of langkode (out/gt_output_file.csv)."
   ]
  },
  {
   "cell_type": "markdown",
   "metadata": {},
   "source": [
    "# Fetch kodeoversikt.csv into 2 dataframes, 1 for hovetype and one for grunntype"
   ]
  },
  {
   "cell_type": "code",
   "execution_count": null,
   "metadata": {},
   "outputs": [],
   "source": [
    "import pandas as pd\n",
    "\n",
    "# Read the CSV file into a dataframe\n",
    "nin3koder = pd.read_csv('inndata/kodeoversikt.csv', sep=';')\n",
    "\n",
    "# Display the dataframe\n",
    "df_ht = nin3koder[nin3koder['Klasse'].isin(['Hovedtype'])]\n",
    "df_gt = nin3koder[nin3koder['Klasse'].isin(['Grunntype'])]\n",
    "print(\"Hovedtyper numrows:\")\n",
    "display(df_ht.info())\n",
    "print(\"Grunntyper numrows:\")\n",
    "display(df_gt.info())\n",
    "\n"
   ]
  },
  {
   "cell_type": "markdown",
   "metadata": {},
   "source": [
    "# Fetch data from drupal with the guids"
   ]
  },
  {
   "cell_type": "code",
   "execution_count": null,
   "metadata": {},
   "outputs": [],
   "source": [
    "import pandas as pd\n",
    "\n",
    "\"\"\"Bok1.xlsx is an export from the drupal database. \n",
    "It contains nin3 objects from drupal, guid, title and more\"\"\"\n",
    "dp_df = pd.read_excel('inndata/Bok1.xlsx') #NiN Data from drupal-query\n",
    "dp_df.dropna(subset=['feeds_item_guid'], inplace=True)# Remove rows with no feeds_item_guid\n",
    "dp_df = dp_df[~dp_df['feeds_item_guid'].str.contains('-M005-|-M020-|-M050-')]# Remove rows that is 'kartleggingsenheter'\n",
    "dp_df.head(3)"
   ]
  },
  {
   "cell_type": "markdown",
   "metadata": {},
   "source": [
    "## Merging hovedtype with drupal guid"
   ]
  },
  {
   "cell_type": "code",
   "execution_count": null,
   "metadata": {},
   "outputs": [],
   "source": [
    "# Left join the two dataframes on the 'Navn' column, left dataframe is df_ht(hovedtype from NiNcode API)\n",
    "merged_ht = pd.merge(df_ht, dp_df, left_on='Navn', right_on='node_title', how='left')\n",
    "merged_ht_unique = merged_ht.sort_values(by='nid', ascending=False).drop_duplicates(subset='Langkode', keep='first')\n",
    "merged_ht_sorted = merged_ht_unique.sort_values(by='Langkode')\n",
    "display(merged_ht_sorted.head(10))\n",
    "# Save the dataframe to a CSV file that shows the relation between drupal<>nin3 (mapping of drupal-guid against NiN-code)\n",
    "merged_ht_sorted.to_csv('out/merged_ht.csv', index=False, sep=';')\n"
   ]
  },
  {
   "cell_type": "markdown",
   "metadata": {},
   "source": [
    "# Merging grunntype with drupal guid"
   ]
  },
  {
   "cell_type": "code",
   "execution_count": null,
   "metadata": {},
   "outputs": [],
   "source": [
    "merged_gt = pd.merge(df_gt, dp_df, left_on='Navn', right_on='node_title', how='left')\n",
    "merged_gt_unique = merged_gt.sort_values(by='nid', ascending=False).drop_duplicates(subset='Langkode', keep='first')\n",
    "merged_gt_sorted = merged_gt_unique.sort_values(by='Langkode')\n",
    "display(merged_gt_sorted.head(10))\n",
    "# Save the dataframe to a CSV file that shows the relation between drupal<>nin3 (mapping of drupal-guid against NiN-code)\n",
    "merged_gt_sorted.to_csv('out/merged_gt.csv', index=False, sep=';')"
   ]
  },
  {
   "cell_type": "markdown",
   "metadata": {},
   "source": [
    "# Importfile (langkodeupdate) for hovedtype\n",
    "- creates a importer file for drupal to update langkode on klassetype:Hovedtype, so that\n",
    "langkode in drupal match with langkode in 'nin3kodeapi'."
   ]
  },
  {
   "cell_type": "code",
   "execution_count": null,
   "metadata": {},
   "outputs": [],
   "source": [
    "new_df = merged_ht_sorted[['Navn', 'feeds_item_guid', 'Langkode']].copy()\n",
    "#new_df.columns = ['Title', 'GUID', 'Tags', 'LiteralValue']\n",
    "new_df['Tags'] = 'NiN|NIN3|Hovedtype'\n",
    "new_df['LiteralTags'] = 'Code'\n",
    "new_df.rename(columns={'Navn': 'Title', 'feeds_item_guid': 'GUID', 'Langkode': 'LiteralValue'}, inplace=True)\n",
    "\n",
    "# Set LiteralValue as the last column\n",
    "literal_value = new_df.pop('LiteralValue')\n",
    "new_df.insert(len(new_df.columns), 'LiteralValue', literal_value)\n",
    "display(new_df.head(10))\n",
    "new_df.to_csv('out/ht_output_file.csv', sep='\\t', index=False)\n",
    "\n"
   ]
  },
  {
   "cell_type": "markdown",
   "metadata": {},
   "source": [
    "# Importfile (langkodeupdate) for grunntype\n",
    "- creates a importer file for drupal to update langkode on klassetype:Grunntype, so that\n",
    "langkode in drupal match with langkode in 'nin3kodeapi'."
   ]
  },
  {
   "cell_type": "code",
   "execution_count": null,
   "metadata": {},
   "outputs": [],
   "source": [
    "new_gt_df = merged_gt_sorted[['Navn', 'feeds_item_guid', 'Langkode']].copy()\n",
    "#new_df.columns = ['Title', 'GUID', 'Tags', 'LiteralValue']\n",
    "new_gt_df['Tags'] = 'NiN|NIN3|Grunntype'\n",
    "new_gt_df['LiteralTags'] = 'Code'\n",
    "new_gt_df.rename(columns={'Navn': 'Title', 'feeds_item_guid': 'GUID', 'Langkode': 'LiteralValue'}, inplace=True)\n",
    "\n",
    "\n",
    "# Set LiteralValue as the last column\n",
    "literal_value = new_gt_df.pop('LiteralValue')\n",
    "new_gt_df.insert(len(new_gt_df.columns), 'LiteralValue', literal_value)\n",
    "display(new_gt_df.head(10))\n",
    "new_gt_df.to_csv('out/gt_output_file.csv', sep='\\t', index=False)"
   ]
  }
 ],
 "metadata": {
  "kernelspec": {
   "display_name": "base",
   "language": "python",
   "name": "python3"
  },
  "language_info": {
   "codemirror_mode": {
    "name": "ipython",
    "version": 3
   },
   "file_extension": ".py",
   "mimetype": "text/x-python",
   "name": "python",
   "nbconvert_exporter": "python",
   "pygments_lexer": "ipython3",
   "version": "3.11.5"
  }
 },
 "nbformat": 4,
 "nbformat_minor": 2
}
