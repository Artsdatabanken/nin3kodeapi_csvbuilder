{
 "cells": [
  {
   "cell_type": "markdown",
   "id": "b7520643-44d4-494c-8497-d2310a8c3e76",
   "metadata": {},
   "source": [
    "# Hent fersk databasefil fra github (branch develop) og lag connection"
   ]
  },
  {
   "cell_type": "code",
   "execution_count": 1,
   "id": "c56f9e8e-ca5a-4e2d-9629-f7021e8388f6",
   "metadata": {},
   "outputs": [
    {
     "ename": "FileNotFoundError",
     "evalue": "[Errno 2] No such file or directory: 'Database/inn_data/nin3kodeapi.db'",
     "output_type": "error",
     "traceback": [
      "\u001b[1;31m---------------------------------------------------------------------------\u001b[0m",
      "\u001b[1;31mFileNotFoundError\u001b[0m                         Traceback (most recent call last)",
      "\u001b[1;32mc:\\Projects\\nin3kodeapi_csvbuilder\\Database\\Database.ipynb Cell 2\u001b[0m line \u001b[0;36m8\n\u001b[0;32m      <a href='vscode-notebook-cell:/c%3A/Projects/nin3kodeapi_csvbuilder/Database/Database.ipynb#W1sZmlsZQ%3D%3D?line=5'>6</a>\u001b[0m url \u001b[39m=\u001b[39m \u001b[39m\"\u001b[39m\u001b[39mhttps://raw.githubusercontent.com/Artsdatabanken/nin3-kode-api/develop/NiN3.WebApi/nin3kodeapi.db\u001b[39m\u001b[39m\"\u001b[39m \u001b[39m# Henter nin3 database fra nin3 repo branch:develop\u001b[39;00m\n\u001b[0;32m      <a href='vscode-notebook-cell:/c%3A/Projects/nin3kodeapi_csvbuilder/Database/Database.ipynb#W1sZmlsZQ%3D%3D?line=6'>7</a>\u001b[0m response \u001b[39m=\u001b[39m requests\u001b[39m.\u001b[39mget(url)\n\u001b[1;32m----> <a href='vscode-notebook-cell:/c%3A/Projects/nin3kodeapi_csvbuilder/Database/Database.ipynb#W1sZmlsZQ%3D%3D?line=7'>8</a>\u001b[0m \u001b[39mwith\u001b[39;00m \u001b[39mopen\u001b[39m(\u001b[39m\"\u001b[39m\u001b[39mDatabase/inn_data/nin3kodeapi.db\u001b[39m\u001b[39m\"\u001b[39m, \u001b[39m\"\u001b[39m\u001b[39mwb\u001b[39m\u001b[39m\"\u001b[39m) \u001b[39mas\u001b[39;00m f:\n\u001b[0;32m      <a href='vscode-notebook-cell:/c%3A/Projects/nin3kodeapi_csvbuilder/Database/Database.ipynb#W1sZmlsZQ%3D%3D?line=8'>9</a>\u001b[0m     f\u001b[39m.\u001b[39mwrite(response\u001b[39m.\u001b[39mcontent)\n\u001b[0;32m     <a href='vscode-notebook-cell:/c%3A/Projects/nin3kodeapi_csvbuilder/Database/Database.ipynb#W1sZmlsZQ%3D%3D?line=10'>11</a>\u001b[0m \u001b[39m# query nin3kodeapi.db with pandas\u001b[39;00m\n",
      "File \u001b[1;32mc:\\Users\\sto\\AppData\\Local\\anaconda3\\Lib\\site-packages\\IPython\\core\\interactiveshell.py:286\u001b[0m, in \u001b[0;36m_modified_open\u001b[1;34m(file, *args, **kwargs)\u001b[0m\n\u001b[0;32m    279\u001b[0m \u001b[39mif\u001b[39;00m file \u001b[39min\u001b[39;00m {\u001b[39m0\u001b[39m, \u001b[39m1\u001b[39m, \u001b[39m2\u001b[39m}:\n\u001b[0;32m    280\u001b[0m     \u001b[39mraise\u001b[39;00m \u001b[39mValueError\u001b[39;00m(\n\u001b[0;32m    281\u001b[0m         \u001b[39mf\u001b[39m\u001b[39m\"\u001b[39m\u001b[39mIPython won\u001b[39m\u001b[39m'\u001b[39m\u001b[39mt let you open fd=\u001b[39m\u001b[39m{\u001b[39;00mfile\u001b[39m}\u001b[39;00m\u001b[39m by default \u001b[39m\u001b[39m\"\u001b[39m\n\u001b[0;32m    282\u001b[0m         \u001b[39m\"\u001b[39m\u001b[39mas it is likely to crash IPython. If you know what you are doing, \u001b[39m\u001b[39m\"\u001b[39m\n\u001b[0;32m    283\u001b[0m         \u001b[39m\"\u001b[39m\u001b[39myou can use builtins\u001b[39m\u001b[39m'\u001b[39m\u001b[39m open.\u001b[39m\u001b[39m\"\u001b[39m\n\u001b[0;32m    284\u001b[0m     )\n\u001b[1;32m--> 286\u001b[0m \u001b[39mreturn\u001b[39;00m io_open(file, \u001b[39m*\u001b[39margs, \u001b[39m*\u001b[39m\u001b[39m*\u001b[39mkwargs)\n",
      "\u001b[1;31mFileNotFoundError\u001b[0m: [Errno 2] No such file or directory: 'Database/inn_data/nin3kodeapi.db'"
     ]
    }
   ],
   "source": [
    "# Download databasefile for stage branch\n",
    "import os\n",
    "import requests\n",
    "import pandas as pd\n",
    "\n",
    "url = \"https://raw.githubusercontent.com/Artsdatabanken/nin3-kode-api/develop/NiN3.WebApi/nin3kodeapi.db\" # Henter nin3 database fra nin3 repo branch:develop\n",
    "response = requests.get(url)\n",
    "with open(\"Database/inn_data/nin3kodeapi.db\", \"wb\") as f:\n",
    "    f.write(response.content)\n",
    "    \n",
    "# query nin3kodeapi.db with pandas\n",
    "import pandas as pd\n",
    "import sqlite3\n",
    "\n",
    "conn = sqlite3.connect(\"Database/inn_data/nin3kodeapi.db\")"
   ]
  },
  {
   "cell_type": "code",
   "execution_count": 2,
   "metadata": {},
   "outputs": [
    {
     "name": "stdout",
     "output_type": "stream",
     "text": [
      "c:\\Projects\\nin3kodeapi_csvbuilder\\Database\n"
     ]
    }
   ],
   "source": [
    "import os \n",
    "print(os.getcwd())"
   ]
  },
  {
   "cell_type": "markdown",
   "id": "f10256a3-c33a-4703-8f2a-74edd3684737",
   "metadata": {},
   "source": [
    "## Skriv en tabell til CSV\n",
    "Du kan liste ut alle views og tabeller som kan spørres mot i boksen \"Vis alle tabeller/views og antall rader\""
   ]
  },
  {
   "cell_type": "code",
   "execution_count": null,
   "id": "9113f19e-299a-459c-8975-e05b3b42f6f4",
   "metadata": {},
   "outputs": [],
   "source": [
    "conn = sqlite3.connect(\"Database/inn_data/nin3kodeapi.db\")\n",
    "from datetime import datetime\n",
    "# Skriv inn ønsket tabell\n",
    "tabell = \"DuplikateLangkoderView\" # 'Versjon', 'Hovedtypegruppe', 'Hovedtype', 'Grunntype', 'Kartleggingsenhet', 'Variabel', 'Variabelnavn', \n",
    "\n",
    "df = pd.read_sql_query(f\"SELECT * FROM {tabell}\", conn)\n",
    "\n",
    "display(f\"Ant. rader {df.shape[0]}\")\n",
    "print(\"Preview: første 3 rader:\")\n",
    "display(df.head(3))\n",
    "\n",
    "# Skrive resultat til CSV\n",
    "filename = f\"Database/rapporter/{tabell}_{datetime.now().strftime('%Y%m%d_%H%M%S')}.csv\"\n",
    "df.to_csv(filename, index=False)\n",
    "print(f\"\\nResultat er skrevet til: {filename}\")\n",
    "conn.close()"
   ]
  },
  {
   "cell_type": "markdown",
   "id": "0b18fc31-946b-4694-8166-e97293109420",
   "metadata": {},
   "source": [
    "## Vis alle tabeller/views og antall rader"
   ]
  },
  {
   "cell_type": "code",
   "execution_count": null,
   "id": "9602b6a5-c5bd-4893-9e6f-8150e006705f",
   "metadata": {},
   "outputs": [],
   "source": [
    "conn = sqlite3.connect(\"inn_data/nin3kodeapi.db\")#Åpner kobling til databasefil\n",
    "df_tables = pd.read_sql_query(\"SELECT name FROM sqlite_master WHERE type='table'\", conn)\n",
    "df_views = pd.read_sql_query(\"SELECT name FROM sqlite_master WHERE type='view'\", conn)\n",
    "print(\"** Tabeller:\")\n",
    "for table in df_tables['name']:\n",
    "    count = pd.read_sql_query(f\"SELECT COUNT(*) FROM {table}\", conn)\n",
    "    display(f\"{table}: {count.iloc[0][0]} rows\")\n",
    "print(\"\\n** Views:\")\n",
    "for view in df_views['name']:\n",
    "    count = pd.read_sql_query(f\"SELECT COUNT(*) FROM {view}\", conn)\n",
    "    display(f\"{view}: {count.iloc[0][0]} rows\")\n",
    "conn.close()"
   ]
  }
 ],
 "metadata": {
  "kernelspec": {
   "display_name": "Python 3 (ipykernel)",
   "language": "python",
   "name": "python3"
  },
  "language_info": {
   "codemirror_mode": {
    "name": "ipython",
    "version": 3
   },
   "file_extension": ".py",
   "mimetype": "text/x-python",
   "name": "python",
   "nbconvert_exporter": "python",
   "pygments_lexer": "ipython3",
   "version": "3.11.5"
  }
 },
 "nbformat": 4,
 "nbformat_minor": 5
}
