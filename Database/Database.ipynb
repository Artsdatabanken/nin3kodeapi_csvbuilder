{
 "cells": [
  {
   "cell_type": "markdown",
   "metadata": {},
   "source": [
    "# Hent db-fil og gjør tilkobling"
   ]
  },
  {
   "cell_type": "code",
   "execution_count": 1,
   "metadata": {},
   "outputs": [],
   "source": [
    "# Download databasefile for stage branch\n",
    "import os\n",
    "import requests\n",
    "import pandas as pd\n",
    "# set desired branch to get dbfile from here:\n",
    "branch = 'develop' # usually 'develop','test' or 'master'\n",
    "\n",
    "url = f\"https://raw.githubusercontent.com/Artsdatabanken/nin3-kode-api/{branch}/NiN3.WebApi/nin3kodeapi.db\" # Henter nin3 database fra nin3 repo branch:develop\n",
    "response = requests.get(url)\n",
    "with open(\"inn_data/nin3kodeapi.db\", \"wb\") as f:\n",
    "    f.write(response.content)\n",
    "    \n",
    "# query nin3kodeapi.db with pandas\n",
    "import pandas as pd\n",
    "import sqlite3\n",
    "\n",
    "conn = sqlite3.connect(\"inn_data/nin3kodeapi.db\")"
   ]
  },
  {
   "cell_type": "markdown",
   "metadata": {},
   "source": [
    "## Skriv en tabell til CSV\n",
    "Du kan liste ut alle views og tabeller som kan spørres mot i boksen \"Vis alle tabeller/views og antall rader\""
   ]
  },
  {
   "cell_type": "code",
   "execution_count": 3,
   "metadata": {},
   "outputs": [
    {
     "data": {
      "text/plain": [
       "'Ant. rader 126'"
      ]
     },
     "metadata": {},
     "output_type": "display_data"
    },
    {
     "name": "stdout",
     "output_type": "stream",
     "text": [
      "Preview: første 3 rader:\n"
     ]
    },
    {
     "data": {
      "text/html": [
       "<div>\n",
       "<style scoped>\n",
       "    .dataframe tbody tr th:only-of-type {\n",
       "        vertical-align: middle;\n",
       "    }\n",
       "\n",
       "    .dataframe tbody tr th {\n",
       "        vertical-align: top;\n",
       "    }\n",
       "\n",
       "    .dataframe thead th {\n",
       "        text-align: right;\n",
       "    }\n",
       "</style>\n",
       "<table border=\"1\" class=\"dataframe\">\n",
       "  <thead>\n",
       "    <tr style=\"text-align: right;\">\n",
       "      <th></th>\n",
       "      <th>Id</th>\n",
       "      <th>VersjonId</th>\n",
       "      <th>Ordinal</th>\n",
       "      <th>Verdi</th>\n",
       "      <th>Beskrivelse</th>\n",
       "      <th>Enumtype</th>\n",
       "    </tr>\n",
       "  </thead>\n",
       "  <tbody>\n",
       "    <tr>\n",
       "      <th>0</th>\n",
       "      <td>1</td>\n",
       "      <td>1</td>\n",
       "      <td>0</td>\n",
       "      <td>A</td>\n",
       "      <td>Abiotisk</td>\n",
       "      <td>EcosysnivaaEnum</td>\n",
       "    </tr>\n",
       "    <tr>\n",
       "      <th>1</th>\n",
       "      <td>2</td>\n",
       "      <td>1</td>\n",
       "      <td>1</td>\n",
       "      <td>B</td>\n",
       "      <td>Biotisk</td>\n",
       "      <td>EcosysnivaaEnum</td>\n",
       "    </tr>\n",
       "    <tr>\n",
       "      <th>2</th>\n",
       "      <td>3</td>\n",
       "      <td>1</td>\n",
       "      <td>2</td>\n",
       "      <td>C</td>\n",
       "      <td>Økodiversitet</td>\n",
       "      <td>EcosysnivaaEnum</td>\n",
       "    </tr>\n",
       "  </tbody>\n",
       "</table>\n",
       "</div>"
      ],
      "text/plain": [
       "   Id  VersjonId  Ordinal Verdi    Beskrivelse         Enumtype\n",
       "0   1          1        0     A       Abiotisk  EcosysnivaaEnum\n",
       "1   2          1        1     B        Biotisk  EcosysnivaaEnum\n",
       "2   3          1        2     C  Økodiversitet  EcosysnivaaEnum"
      ]
     },
     "metadata": {},
     "output_type": "display_data"
    },
    {
     "name": "stdout",
     "output_type": "stream",
     "text": [
      "\n",
      "Resultat er skrevet til: rapporter/Enumoppslag_20231206_125135.csv\n"
     ]
    }
   ],
   "source": [
    "conn = sqlite3.connect(\"inn_data/nin3kodeapi.db\")\n",
    "from datetime import datetime\n",
    "# Skriv inn ønsket tabell\n",
    "tabell = \"Enumoppslag\" # 'Versjon', 'Hovedtypegruppe', 'Hovedtype', 'Grunntype', 'Kartleggingsenhet', 'Variabel', 'Variabelnavn', \n",
    "filter_kolonne = None # Kolonnenavn i valgt tabell\n",
    "filter_verdi = None # Verdi i valgt kolonne\n",
    "\n",
    "\n",
    "df = pd.read_sql_query(f\"SELECT * FROM {tabell}\", conn)\n",
    "if(filter_kolonne):\n",
    "    df = df[df[filter_kolonne] == filter_verdi]\n",
    "display(f\"Ant. rader {df.shape[0]}\")\n",
    "print(\"Preview: første 3 rader:\")\n",
    "display(df.head(3))\n",
    "\n",
    "# Skrive resultat til CSV\n",
    "filename = f\"rapporter/{tabell}_{datetime.now().strftime('%Y%m%d_%H%M%S')}.csv\"\n",
    "df.to_csv(filename, index=False)\n",
    "print(f\"\\nResultat er skrevet til: {filename}\")\n",
    "conn.close()"
   ]
  },
  {
   "cell_type": "markdown",
   "metadata": {},
   "source": [
    "## Vis alle tabeller/views og antall rader"
   ]
  },
  {
   "cell_type": "code",
   "execution_count": 2,
   "metadata": {},
   "outputs": [
    {
     "name": "stdout",
     "output_type": "stream",
     "text": [
      "** Tabeller:\n"
     ]
    },
    {
     "data": {
      "text/plain": [
       "'Maaleskala: 158 rows'"
      ]
     },
     "metadata": {},
     "output_type": "display_data"
    },
    {
     "data": {
      "text/plain": [
       "'sqlite_sequence: 19 rows'"
      ]
     },
     "metadata": {},
     "output_type": "display_data"
    },
    {
     "data": {
      "text/plain": [
       "'Versjon: 2 rows'"
      ]
     },
     "metadata": {},
     "output_type": "display_data"
    },
    {
     "data": {
      "text/plain": [
       "'Trinn: 1053 rows'"
      ]
     },
     "metadata": {},
     "output_type": "display_data"
    },
    {
     "data": {
      "text/plain": [
       "'AlleKortkoder: 3570 rows'"
      ]
     },
     "metadata": {},
     "output_type": "display_data"
    },
    {
     "data": {
      "text/plain": [
       "'Enumoppslag: 126 rows'"
      ]
     },
     "metadata": {},
     "output_type": "display_data"
    },
    {
     "data": {
      "text/plain": [
       "'Kartleggingsenhet: 1284 rows'"
      ]
     },
     "metadata": {},
     "output_type": "display_data"
    },
    {
     "data": {
      "text/plain": [
       "'Type: 10 rows'"
      ]
     },
     "metadata": {},
     "output_type": "display_data"
    },
    {
     "data": {
      "text/plain": [
       "'Variabel: 5 rows'"
      ]
     },
     "metadata": {},
     "output_type": "display_data"
    },
    {
     "data": {
      "text/plain": [
       "'Hovedtypegruppe: 69 rows'"
      ]
     },
     "metadata": {},
     "output_type": "display_data"
    },
    {
     "data": {
      "text/plain": [
       "'Variabelnavn: 370 rows'"
      ]
     },
     "metadata": {},
     "output_type": "display_data"
    },
    {
     "data": {
      "text/plain": [
       "'Hovedtype: 431 rows'"
      ]
     },
     "metadata": {},
     "output_type": "display_data"
    },
    {
     "data": {
      "text/plain": [
       "'Hovedtypegruppe_Hovedoekosystem: 31 rows'"
      ]
     },
     "metadata": {},
     "output_type": "display_data"
    },
    {
     "data": {
      "text/plain": [
       "'VariabelnavnMaaleskala: 527 rows'"
      ]
     },
     "metadata": {},
     "output_type": "display_data"
    },
    {
     "data": {
      "text/plain": [
       "'Grunntype: 1401 rows'"
      ]
     },
     "metadata": {},
     "output_type": "display_data"
    },
    {
     "data": {
      "text/plain": [
       "'Hovedtype_Kartleggingsenhet: 1284 rows'"
      ]
     },
     "metadata": {},
     "output_type": "display_data"
    },
    {
     "data": {
      "text/plain": [
       "'HovedtypeVariabeltrinn: 184 rows'"
      ]
     },
     "metadata": {},
     "output_type": "display_data"
    },
    {
     "data": {
      "text/plain": [
       "'GrunntypeVariabeltrinn: 12814 rows'"
      ]
     },
     "metadata": {},
     "output_type": "display_data"
    },
    {
     "data": {
      "text/plain": [
       "'Kartleggingsenhet_Grunntype: 2584 rows'"
      ]
     },
     "metadata": {},
     "output_type": "display_data"
    },
    {
     "data": {
      "text/plain": [
       "'Konvertering: 489 rows'"
      ]
     },
     "metadata": {},
     "output_type": "display_data"
    },
    {
     "data": {
      "text/plain": [
       "'db_info: 1 rows'"
      ]
     },
     "metadata": {},
     "output_type": "display_data"
    },
    {
     "name": "stdout",
     "output_type": "stream",
     "text": [
      "\n",
      "** Views:\n"
     ]
    },
    {
     "data": {
      "text/plain": [
       "'MaaleskalaView: 152 rows'"
      ]
     },
     "metadata": {},
     "output_type": "display_data"
    },
    {
     "data": {
      "text/plain": [
       "'GrunntypeVariabeltrinnView: 12653 rows'"
      ]
     },
     "metadata": {},
     "output_type": "display_data"
    },
    {
     "data": {
      "text/plain": [
       "'HovedtypeVariabeltrinnView: 184 rows'"
      ]
     },
     "metadata": {},
     "output_type": "display_data"
    },
    {
     "data": {
      "text/plain": [
       "'SjekkUnikeHovedklasserView: 6 rows'"
      ]
     },
     "metadata": {},
     "output_type": "display_data"
    },
    {
     "data": {
      "text/plain": [
       "'HovedtypeKleView: 1284 rows'"
      ]
     },
     "metadata": {},
     "output_type": "display_data"
    },
    {
     "data": {
      "text/plain": [
       "'AlleLangkoderView: 3570 rows'"
      ]
     },
     "metadata": {},
     "output_type": "display_data"
    },
    {
     "data": {
      "text/plain": [
       "'DuplikateLangkoderView: 4 rows'"
      ]
     },
     "metadata": {},
     "output_type": "display_data"
    }
   ],
   "source": [
    "conn = sqlite3.connect(\"inn_data/nin3kodeapi.db\")#Åpner kobling til databasefil\n",
    "df_tables = pd.read_sql_query(\"SELECT name FROM sqlite_master WHERE type='table'\", conn)\n",
    "df_views = pd.read_sql_query(\"SELECT name FROM sqlite_master WHERE type='view'\", conn)\n",
    "print(\"** Tabeller:\")\n",
    "for table in df_tables['name']:\n",
    "    count = pd.read_sql_query(f\"SELECT COUNT(*) FROM {table}\", conn)\n",
    "    display(f\"{table}: {count.iloc[0][0]} rows\")\n",
    "print(\"\\n** Views:\")\n",
    "for view in df_views['name']:\n",
    "    count = pd.read_sql_query(f\"SELECT COUNT(*) FROM {view}\", conn)\n",
    "    display(f\"{view}: {count.iloc[0][0]} rows\")\n",
    "conn.close()"
   ]
  }
 ],
 "metadata": {
  "kernelspec": {
   "display_name": "base",
   "language": "python",
   "name": "python3"
  },
  "language_info": {
   "codemirror_mode": {
    "name": "ipython",
    "version": 3
   },
   "file_extension": ".py",
   "mimetype": "text/x-python",
   "name": "python",
   "nbconvert_exporter": "python",
   "pygments_lexer": "ipython3",
   "version": "3.11.5"
  }
 },
 "nbformat": 4,
 "nbformat_minor": 2
}
