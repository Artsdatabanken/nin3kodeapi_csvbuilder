{
 "cells": [
  {
   "cell_type": "markdown",
   "metadata": {},
   "source": [
    "# Hent db-fil og gjør tilkobling"
   ]
  },
  {
   "cell_type": "code",
   "execution_count": null,
   "metadata": {},
   "outputs": [],
   "source": [
    "# Download databasefile for stage branch\n",
    "import os\n",
    "import requests\n",
    "import pandas as pd\n",
    "# set desired branch to get dbfile from here:\n",
    "branch = 'develop' # usually 'develop','test' or 'master'\n",
    "\n",
    "url = f\"https://raw.githubusercontent.com/Artsdatabanken/nin3-kode-api/{branch}/NiN3.WebApi/nin3kodeapi.db\" # Henter nin3 database fra nin3 repo branch:develop\n",
    "response = requests.get(url)\n",
    "with open(\"inn_data/nin3kodeapi.db\", \"wb\") as f:\n",
    "    f.write(response.content)\n",
    "    \n",
    "# query nin3kodeapi.db with pandas\n",
    "import pandas as pd\n",
    "import sqlite3\n",
    "\n",
    "conn = sqlite3.connect(\"inn_data/nin3kodeapi.db\")"
   ]
  },
  {
   "cell_type": "markdown",
   "metadata": {},
   "source": [
    "## Skriv en tabell til CSV\n",
    "Du kan liste ut alle views og tabeller som kan spørres mot i boksen \"Vis alle tabeller/views og antall rader\""
   ]
  },
  {
   "cell_type": "code",
   "execution_count": null,
   "metadata": {},
   "outputs": [],
   "source": [
    "conn = sqlite3.connect(\"inn_data/nin3kodeapi.db\")\n",
    "from datetime import datetime\n",
    "# Skriv inn ønsket tabell\n",
    "tabell = \"DuplikateLangkoderView\" # 'Versjon', 'Hovedtypegruppe', 'Hovedtype', 'Grunntype', 'Kartleggingsenhet', 'Variabel', 'Variabelnavn', \n",
    "\n",
    "df = pd.read_sql_query(f\"SELECT * FROM {tabell}\", conn)\n",
    "\n",
    "display(f\"Ant. rader {df.shape[0]}\")\n",
    "print(\"Preview: første 3 rader:\")\n",
    "display(df.head(3))\n",
    "\n",
    "# Skrive resultat til CSV\n",
    "filename = f\"rapporter/{tabell}_{datetime.now().strftime('%Y%m%d_%H%M%S')}.csv\"\n",
    "df.to_csv(filename, index=False)\n",
    "print(f\"\\nResultat er skrevet til: {filename}\")\n",
    "conn.close()"
   ]
  },
  {
   "cell_type": "markdown",
   "metadata": {},
   "source": [
    "## Vis alle tabeller/views og antall rader"
   ]
  },
  {
   "cell_type": "code",
   "execution_count": null,
   "metadata": {},
   "outputs": [],
   "source": [
    "conn = sqlite3.connect(\"inn_data/nin3kodeapi.db\")#Åpner kobling til databasefil\n",
    "df_tables = pd.read_sql_query(\"SELECT name FROM sqlite_master WHERE type='table'\", conn)\n",
    "df_views = pd.read_sql_query(\"SELECT name FROM sqlite_master WHERE type='view'\", conn)\n",
    "print(\"** Tabeller:\")\n",
    "for table in df_tables['name']:\n",
    "    count = pd.read_sql_query(f\"SELECT COUNT(*) FROM {table}\", conn)\n",
    "    display(f\"{table}: {count.iloc[0][0]} rows\")\n",
    "print(\"\\n** Views:\")\n",
    "for view in df_views['name']:\n",
    "    count = pd.read_sql_query(f\"SELECT COUNT(*) FROM {view}\", conn)\n",
    "    display(f\"{view}: {count.iloc[0][0]} rows\")\n",
    "conn.close()"
   ]
  }
 ],
 "metadata": {
  "kernelspec": {
   "display_name": "base",
   "language": "python",
   "name": "python3"
  },
  "language_info": {
   "codemirror_mode": {
    "name": "ipython",
    "version": 3
   },
   "file_extension": ".py",
   "mimetype": "text/x-python",
   "name": "python",
   "nbconvert_exporter": "python",
   "pygments_lexer": "ipython3",
   "version": "3.11.5"
  }
 },
 "nbformat": 4,
 "nbformat_minor": 2
}
