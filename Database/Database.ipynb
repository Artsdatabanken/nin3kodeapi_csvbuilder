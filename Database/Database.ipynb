{
 "cells": [
  {
   "cell_type": "markdown",
   "metadata": {},
   "source": [
    "# Hent database-fil \n",
    "Henter databasefil fra nin-kode-api sitt repo for ønsket branch"
   ]
  },
  {
   "cell_type": "code",
   "execution_count": 8,
   "metadata": {},
   "outputs": [
    {
     "name": "stdout",
     "output_type": "stream",
     "text": [
      "File size: 2527232 bytes fetched\n"
     ]
    }
   ],
   "source": [
    "# Download databasefile for selected branch\n",
    "from database_functions import fetch_database\n",
    "# set desired branch to get dbfile from here:\n",
    "branch = 'staging' # usually 'staging' or 'master'\n",
    "fetch_database(branch)"
   ]
  },
  {
   "cell_type": "markdown",
   "metadata": {},
   "source": [
    "## Vis alle tabeller/views og antall rader"
   ]
  },
  {
   "cell_type": "code",
   "execution_count": null,
   "metadata": {},
   "outputs": [],
   "source": [
    "from database_functions import listTablesAndViews\n",
    "listTablesAndViews()"
   ]
  },
  {
   "cell_type": "markdown",
   "metadata": {},
   "source": [
    "## Skriv en tabell til CSV\n",
    "Du kan liste ut alle views og tabeller som kan spørres mot i boksen \"Vis alle tabeller/views og antall rader\""
   ]
  },
  {
   "cell_type": "code",
   "execution_count": null,
   "metadata": {},
   "outputs": [],
   "source": [
    "from database_functions import tableToCsv\n",
    "tableToCsv(\"DuplikateLangkoderView\")"
   ]
  },
  {
   "cell_type": "markdown",
   "metadata": {},
   "source": [
    "## Variabeltrinn : ant trinn pr variabelnavn\n",
    "( ! Variabelnavn får sine trinn via Maaleskala )"
   ]
  },
  {
   "cell_type": "code",
   "execution_count": 2,
   "metadata": {},
   "outputs": [
    {
     "name": "stdout",
     "output_type": "stream",
     "text": [
      "First 10 rows:\n",
      "    Kode         Variabelnavn  NumberOfTrinn\n",
      "0  LM-EH      Elveløpshelning              0\n",
      "1  RS-BT          Bretykkelse              1\n",
      "2  TF-EK  Eksponeringsretning              1\n",
      "3  RS-FI           Figurareal              1\n",
      "4  RS-FK    Figurkompleksitet              1\n",
      "5  RS-LL    Linjeobjektlengde              1\n",
      "6  RS-NE  Nedbørfeltstørrelse              1\n",
      "7  TF-RR     Relativt relieff              1\n",
      "8  TF-TH       Terrenghelning              1\n",
      "9  TF-TK      Terrengposisjon              1\n",
      "\n",
      "Resultat er skrevet til: rapporter/variabelnavn_numOfTrinn_20240325_135933.csv\n"
     ]
    }
   ],
   "source": [
    "from database_functions import variabelnavn_numOfTrinn\n",
    "variabelnavn_numOfTrinn(display_rows=10)"
   ]
  },
  {
   "cell_type": "markdown",
   "metadata": {},
   "source": [
    "## Trinn : ant trinn pr Maaleskala"
   ]
  },
  {
   "cell_type": "code",
   "execution_count": 1,
   "metadata": {},
   "outputs": [
    {
     "name": "stdout",
     "output_type": "stream",
     "text": [
      "First 10 rows:\n",
      "  MaaleskalaNavn  TrinnCount\n",
      "0        nan-nan           0\n",
      "1              K           1\n",
      "2         nan-SI           1\n",
      "3              B           2\n",
      "4          IB-SO           2\n",
      "5          IS-SI           2\n",
      "6          IT-SI           2\n",
      "7          KT-SI           2\n",
      "8          NE-SO           2\n",
      "9          NH-SI           2\n",
      "\n",
      "Resultat er skrevet til: rapporter/maaleskala_numOfTrinn_20240325_135555.csv\n"
     ]
    }
   ],
   "source": [
    "from database_functions import maaleskala_numOfTrinn\n",
    "maaleskala_numOfTrinn(display_rows=10)"
   ]
  },
  {
   "cell_type": "markdown",
   "metadata": {},
   "source": [
    "## VN<>Måleskala: vis måleskala for gitt Variabelnavn "
   ]
  },
  {
   "cell_type": "code",
   "execution_count": 1,
   "metadata": {},
   "outputs": [
    {
     "name": "stdout",
     "output_type": "stream",
     "text": [
      "Maaleskala(er) for variabelnavn: VS-SS_W\n",
      "      Kode MaaleskalaNavn\n",
      "0  VS-SS_W          SS-SO\n",
      "\n",
      "Resultat er skrevet til: rapporter/maaleskalaForVariabelnavn_VS-SS_W_20240325_135504.csv\n"
     ]
    }
   ],
   "source": [
    "from database_functions import showMaaleskalaForVariabelnavn\n",
    "kode = \"VS-SS_W\"\n",
    "showMaaleskalaForVariabelnavn(kode)"
   ]
  }
 ],
 "metadata": {
  "kernelspec": {
   "display_name": "base",
   "language": "python",
   "name": "python3"
  },
  "language_info": {
   "codemirror_mode": {
    "name": "ipython",
    "version": 3
   },
   "file_extension": ".py",
   "mimetype": "text/x-python",
   "name": "python",
   "nbconvert_exporter": "python",
   "pygments_lexer": "ipython3",
   "version": "3.11.5"
  }
 },
 "nbformat": 4,
 "nbformat_minor": 2
}
