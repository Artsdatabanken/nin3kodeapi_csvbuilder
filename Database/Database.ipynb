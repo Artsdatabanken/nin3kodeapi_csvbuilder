{
 "cells": [
  {
   "cell_type": "markdown",
   "metadata": {},
   "source": [
    "# Hent database-fil \n",
    "Henter databasefil fra nin-kode-api sitt repo for ønsket branch  \n",
    "En kan også legge ved ønsket databasefil manuelt ved å legge den i undermappen /inn_data (da kan du hoppe over dette trinnet) "
   ]
  },
  {
   "cell_type": "code",
   "execution_count": null,
   "metadata": {},
   "outputs": [],
   "source": [
    "# Download databasefile for selected branch\n",
    "from database_functions import fetch_database\n",
    "# set desired branch to get dbfile from here:\n",
    "branch = 'staging' # usually 'staging' or 'master'\n",
    "fetch_database(branch)"
   ]
  },
  {
   "cell_type": "markdown",
   "metadata": {},
   "source": [
    "## Vis alle tabeller/views og antall rader"
   ]
  },
  {
   "cell_type": "code",
   "execution_count": null,
   "metadata": {},
   "outputs": [],
   "source": [
    "from database_functions import listTablesAndViews\n",
    "listTablesAndViews()"
   ]
  },
  {
   "cell_type": "markdown",
   "metadata": {},
   "source": [
    "## Skriv en tabell til CSV\n",
    "Du kan liste ut alle views og tabeller som kan spørres mot i boksen \"Vis alle tabeller/views og antall rader\""
   ]
  },
  {
   "cell_type": "code",
   "execution_count": null,
   "metadata": {},
   "outputs": [],
   "source": [
    "from database_functions import tableToCsv\n",
    "tableToCsv(\"DuplikateLangkoderView\")"
   ]
  },
  {
   "cell_type": "markdown",
   "metadata": {},
   "source": [
    "## Variabeltrinn : ant trinn pr variabelnavn\n",
    "( ! Variabelnavn får sine trinn via Maaleskala )"
   ]
  },
  {
   "cell_type": "code",
   "execution_count": null,
   "metadata": {},
   "outputs": [],
   "source": [
    "from database_functions import variabelnavn_numOfTrinn\n",
    "variabelnavn_numOfTrinn(display_rows=10)"
   ]
  },
  {
   "cell_type": "markdown",
   "metadata": {},
   "source": [
    "## Variabelnavn: ant maaleskala og trinn"
   ]
  },
  {
   "cell_type": "code",
   "execution_count": null,
   "metadata": {},
   "outputs": [],
   "source": [
    "from database_functions import variabelnavn_numOfMaaleskalaAndTrinn\n",
    "variabelnavn_numOfMaaleskalaAndTrinn()"
   ]
  },
  {
   "cell_type": "markdown",
   "metadata": {},
   "source": [
    "## Variabelnavn_maaleskala_trinn"
   ]
  },
  {
   "cell_type": "code",
   "execution_count": null,
   "metadata": {},
   "outputs": [],
   "source": [
    "from database_functions import variabelnavn_maaleskala_trinn\n",
    "variabelnavn_maaleskala_trinn()"
   ]
  },
  {
   "cell_type": "markdown",
   "metadata": {},
   "source": [
    "## Trinn : ant trinn pr Maaleskala"
   ]
  },
  {
   "cell_type": "code",
   "execution_count": null,
   "metadata": {},
   "outputs": [],
   "source": [
    "from database_functions import maaleskala_numOfTrinn\n",
    "maaleskala_numOfTrinn(display_rows=10)"
   ]
  },
  {
   "cell_type": "markdown",
   "metadata": {},
   "source": [
    "## VN<>Måleskala: vis måleskala for gitt Variabelnavn "
   ]
  },
  {
   "cell_type": "code",
   "execution_count": null,
   "metadata": {},
   "outputs": [],
   "source": [
    "from database_functions import showMaaleskalaForVariabelnavn\n",
    "kode = \"KM-FY\"\n",
    "showMaaleskalaForVariabelnavn(kode)"
   ]
  }
 ],
 "metadata": {
  "kernelspec": {
   "display_name": "base",
   "language": "python",
   "name": "python3"
  },
  "language_info": {
   "codemirror_mode": {
    "name": "ipython",
    "version": 3
   },
   "file_extension": ".py",
   "mimetype": "text/x-python",
   "name": "python",
   "nbconvert_exporter": "python",
   "pygments_lexer": "ipython3",
   "version": "3.11.5"
  }
 },
 "nbformat": 4,
 "nbformat_minor": 2
}
