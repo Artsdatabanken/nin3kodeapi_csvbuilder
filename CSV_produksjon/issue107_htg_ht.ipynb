{
 "cells": [
  {
   "cell_type": "code",
   "execution_count": 9,
   "metadata": {},
   "outputs": [],
   "source": [
    "#prepping\n",
    "from csv_prod_functions import load_nin3_typer_sheet, adjust_nin3_typer_col_names, create_kortkoder_for_nin3_typer\n",
    "import numpy as np\n",
    "import pandas as pd\n",
    "\n",
    "nin3_typer = load_nin3_typer_sheet()\n",
    "nin3_typer = nin3_typer.astype(str)\n",
    "nin3_typer = adjust_nin3_typer_col_names(nin3_typer)\n",
    "#nin3_typer_orig = nin3_typer_orig.astype(str)\n",
    "create_kortkoder_for_nin3_typer(nin3_typer)\n",
    "\n",
    "# htg-ht combos\n",
    "htg_ht_combos = nin3_typer[['HTGKode', 'HTKode']].drop_duplicates()\n",
    "htg_ht_combos.to_csv('tmp/htg_ht_combos.csv', index=False, sep=\";\")"
   ]
  },
  {
   "cell_type": "code",
   "execution_count": 12,
   "metadata": {},
   "outputs": [],
   "source": [
    "hovedtypegrupper = nin3_typer[['HTGKode','Typekategori','Typekategori2','Hovedtypegruppe', 'Hovedtypegruppenavn', 'Typekategori3', 'Hovedtype']]\n",
    "hovedtypegrupper = hovedtypegrupper.applymap(lambda x: x.strip() if isinstance(x, str) else x) #Setter alle kolonner til string\n",
    "hovedtypegrupper['Typekategori3'] = hovedtypegrupper['Typekategori3'].replace('', '0').fillna('0') # BYTTER UT tomme verdier med 0 på Typekategori3\n",
    "\n",
    "# Convert all columns to string type for consistency\n",
    "hovedtypegrupper = hovedtypegrupper.astype(str)\n",
    "\n",
    "# Replace NaN values with a consistent value\n",
    "hovedtypegrupper = hovedtypegrupper.fillna('0')\n",
    "hovedtypegrupper = hovedtypegrupper[hovedtypegrupper['Hovedtypegruppenavn'] != '0']\n",
    "hovedtypegrupper2 = hovedtypegrupper.loc[:, ['Typekategori2', 'Hovedtypegruppe', 'Hovedtypegruppenavn', 'Typekategori3', 'HTGKode']]\n",
    "\n",
    "hovedtypegrupper2 = hovedtypegrupper2.drop_duplicates()\n",
    "hovedtypegrupper2 = hovedtypegrupper2.sort_values(by=['HTGKode'])\n",
    "hovedtypegrupper2.to_csv('tmp/hovedtypegrupper.csv', index=False, sep=\";\")"
   ]
  }
 ],
 "metadata": {
  "kernelspec": {
   "display_name": "base",
   "language": "python",
   "name": "python3"
  },
  "language_info": {
   "codemirror_mode": {
    "name": "ipython",
    "version": 3
   },
   "file_extension": ".py",
   "mimetype": "text/x-python",
   "name": "python",
   "nbconvert_exporter": "python",
   "pygments_lexer": "ipython3",
   "version": "3.11.5"
  }
 },
 "nbformat": 4,
 "nbformat_minor": 2
}
