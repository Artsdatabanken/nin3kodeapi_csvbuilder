{
 "cells": [
  {
   "cell_type": "markdown",
   "metadata": {},
   "source": [
    "# Opprett csv filer"
   ]
  },
  {
   "cell_type": "code",
   "execution_count": 1,
   "metadata": {},
   "outputs": [
    {
     "name": "stdout",
     "output_type": "stream",
     "text": [
      "*** Backing up and removing previous csv files\n",
      "\tCSV files zipped successfully. Zip file name: csv_files_20240415115537.zip\n",
      "*** Fetching data from Excel file: inn_data/NiN3.0_Tot_e15_20231123_import_kodebase_NKfix.xlsx\n",
      "*** Saving nin3_typer as tmp/nin3_typer.xlsx\n",
      "*** Creating typer.csv\n",
      "*** Creating hovedtypegrupper.csv\n",
      "\tIngen duplikater i kolonnen Kode\n",
      "*** Creating type_htg_mapping.csv\n",
      "*** Creating hovedtype.csv\n",
      "\tIngen duplikater i kolonnen HTKode\n",
      "*** Hovedtypegruppe_hovedtype_mapping.csv\n",
      "\tIngen duplikater i kolonnen HTKode\n",
      "*** Creating grunntyper.csv\n",
      "\tIngen duplikater i kolonnen GTKode\n",
      "*** Creating hovedtype_grunntype_mapping.csv\n",
      "*** Creating M005.csv\n",
      "\tFant følgende duplikater i kolonnen {kolonne}:\n",
      "\n",
      "\n",
      "                         M005-langkode  count\n",
      "82   NiN-3.0-T-C-PE-NA-MB-MA01-M005-01      2\n",
      "83   NiN-3.0-T-C-PE-NA-MB-MA01-M005-02      2\n",
      "133  NiN-3.0-T-C-PE-NA-MB-MA05-M005-12      2\n",
      "*** Creating m005_grunntype_mapping.csv\n",
      "*** Creating m005_hovedtype_mapping.csv\n",
      "*** Creating m020.csv\n",
      "\tIngen duplikater i kolonnen M020-langkode\n",
      "*** Creating m020_grunntype_mapping.csv\n",
      "*** Creating m020_hovedtype_mapping.csv\n",
      "*** Creating m050.csv\n",
      "*** Creating m050_grunntype_mapping.csv\n",
      "*** Creating m050_hovedtype_mapping.csv\n",
      "*** Creating variabelnavnkode_varkode2.csv\n",
      "*** Creating grunntype_variabeltrinn_mapping.csv\n",
      "*** Creating hovedtype_variabeltrinn_mapping.csv\n",
      "*** Creating preperation_for 3.0 to 23 convertions\n",
      "*** Creating htg_konv.csv\n",
      "File written to ut_data/konvertering_htg_v30.csv\n",
      "*** Creating ht_konv.csv\n",
      "\t\tFant ikke url for NiN2kode:T17-27\n",
      "\t\tFant ikke url for NiN2kode:T17-28\n",
      "\t\tFant ikke url for NiN2kode:T17-29\n",
      "\t\tFant ikke url for NiN2kode:I2\n",
      "File written to ut_data/konvertering_ht_v30.csv\n",
      "*** Creating gt_konv.csv\n",
      "\t\tFant ikke url for NiN2kode:32\n",
      "\t\tFant ikke url for NiN2kode:39\n",
      "\t\tFant ikke url for NiN2kode:41\n",
      "\t\tFant ikke url for NiN2kode:T38-1\n",
      "\t\tFant ikke url for NiN2kode:T38-1\n",
      "\t\tFant ikke url for NiN2kode:T38-1\n",
      "\t\tFant ikke url for NiN2kode:T38-1\n",
      "File written to ut_data/konvertering_gt_v30.csv\n",
      "*** Creating variabel.csv\n",
      "*** Creating variabelnavn_variabel_mapping.csv\n",
      "*** Creating maaleskala_enhet.csv\n",
      "*** Creating maaleskala_trinn.csv\n",
      "   Trinn                          Trinnverdi MåleskalaNavn\n",
      "1   KA_a                    Svært kalkfattig         KA-SO\n",
      "2  HS_KB                          Plukkhogst         HS-SI\n",
      "3   HS_U  Uspesifisert lukket selektiv hogst         HS-SI\n",
      "*** Creating variabelnavn_maaleskala_mapping.csv\n",
      "*** Creating variabelnavn_konvertering.csv\n",
      "Done!\n"
     ]
    }
   ],
   "source": [
    "\n",
    "from csv_prod_functions import create_csv_files\n",
    "create_csv_files()"
   ]
  }
 ],
 "metadata": {
  "kernelspec": {
   "display_name": "base",
   "language": "python",
   "name": "python3"
  },
  "language_info": {
   "codemirror_mode": {
    "name": "ipython",
    "version": 3
   },
   "file_extension": ".py",
   "mimetype": "text/x-python",
   "name": "python",
   "nbconvert_exporter": "python",
   "pygments_lexer": "ipython3",
   "version": "3.11.5"
  }
 },
 "nbformat": 4,
 "nbformat_minor": 2
}
