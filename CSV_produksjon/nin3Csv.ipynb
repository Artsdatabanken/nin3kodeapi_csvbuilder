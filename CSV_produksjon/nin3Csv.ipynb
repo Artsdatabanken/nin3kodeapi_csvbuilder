{
 "cells": [
  {
   "cell_type": "markdown",
   "metadata": {},
   "source": [
    "# Opprett csv filer"
   ]
  },
  {
   "cell_type": "code",
   "execution_count": null,
   "metadata": {},
   "outputs": [],
   "source": [
    "from csv_prod_functions import create_csv_files\n",
    "create_csv_files()"
   ]
  },
  {
   "cell_type": "markdown",
   "metadata": {},
   "source": [
    "# Feilsjekk: semikolon i data?"
   ]
  },
  {
   "cell_type": "code",
   "execution_count": null,
   "metadata": {},
   "outputs": [],
   "source": [
    "import csv_prod_functions as csvf\n",
    "nin3_typer = csvf.load_nin3_typer_sheet()\n",
    "nin3_variabler = csvf.load_nin3_variabler_sheet()\n",
    "csvf.find_rows_with_semicolon(nin3_typer, 'Langkode')\n",
    "print(\"\\n\\n\")\n",
    "csvf.find_rows_with_semicolon(nin3_variabler, 'Langkode')"
   ]
  }
 ],
 "metadata": {
  "kernelspec": {
   "display_name": "base",
   "language": "python",
   "name": "python3"
  },
  "language_info": {
   "codemirror_mode": {
    "name": "ipython",
    "version": 3
   },
   "file_extension": ".py",
   "mimetype": "text/x-python",
   "name": "python",
   "nbconvert_exporter": "python",
   "pygments_lexer": "ipython3",
   "version": "3.11.5"
  }
 },
 "nbformat": 4,
 "nbformat_minor": 2
}
