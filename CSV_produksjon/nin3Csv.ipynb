{
 "cells": [
  {
   "cell_type": "markdown",
   "metadata": {},
   "source": [
    "# Opprett csv filer"
   ]
  },
  {
   "cell_type": "code",
   "execution_count": null,
   "metadata": {},
   "outputs": [],
   "source": [
    "\n",
    "from csv_prod_functions import create_csv_files\n",
    "create_csv_files()"
   ]
  },
  {
   "cell_type": "markdown",
   "metadata": {},
   "source": [
    "## Testing av M020csv fix issue 252"
   ]
  },
  {
   "cell_type": "code",
   "execution_count": null,
   "metadata": {},
   "outputs": [],
   "source": [
    "import conf\n",
    "from csv_prod_functions import sjekk_unikhet\n",
    "regnearkfil = conf.regnearkfil\n",
    "import pandas as pd\n",
    "# Set display options for pandas\n",
    "pd.set_option('display.max_rows', 500)\n",
    "pd.set_option('display.max_columns', 500)\n",
    "pd.set_option('display.width', 1000)\n",
    "\n",
    "# Disable chained assignment warning\n",
    "pd.options.mode.chained_assignment = None\n",
    "\n",
    "# Read the Excel file into a DataFrame\n",
    "nin3_typer = pd.read_excel(regnearkfil, \n",
    "                            sheet_name='Typer', \n",
    "                            #sheet_name='HT_trinntest',\n",
    "                            na_filter=False,\n",
    "                            dtype={'9 HT': str,'11 GT': str}  # Specify the data type of column [11 GT] as string\n",
    "                            )\n",
    "# Remove leading and trailing whitespaces from string columns\n",
    "nin3_m020 = nin3_typer[['M020-kode', 'M020-navn']]\n",
    "nin3_m020.to_csv('tmp/m020raw.csv',index=False, sep=\";\")\n",
    "#n3t_m020 = nin3_m020.drop_duplicates(subset=['M020-kode']) # Drop duplicate rows in 'M020-kode' column\n",
    "nin3_m020['M020-kortkode'] = nin3_m020['M020-kode'].str.extract(r'([A-Z]{2}\\d+-M020-\\d+)')\n",
    "nin3_m020_filtered = nin3_m020[nin3_m020['M020-navn'].str.len() > 1]\n",
    "#order by M020-kode\n",
    "m020_sorted = nin3_m020_filtered.astype({'M020-kode': str}).sort_values('M020-kode') \n",
    "m020_sorted.to_csv('ut_data/m020.csv', index=False, sep=\";\")\n",
    "#sjekk_unikhet(n3t_m020, 'M020-kode')\n",
    "sjekk_unikhet(m020_sorted, 'M020-kode')\n",
    "m020_sorted.info()\n"
   ]
  },
  {
   "cell_type": "markdown",
   "metadata": {},
   "source": [
    "# Feilsjekk: semikolon i data?"
   ]
  },
  {
   "cell_type": "code",
   "execution_count": null,
   "metadata": {},
   "outputs": [],
   "source": [
    "import csv_prod_functions as csvf\n",
    "nin3_typer = csvf.load_nin3_typer_sheet()\n",
    "nin3_variabler = csvf.load_nin3_variabler_sheet()\n",
    "csvf.find_rows_with_semicolon(nin3_typer, 'Langkode')\n",
    "print(\"\\n\\n\")\n",
    "csvf.find_rows_with_semicolon(nin3_variabler, 'Langkode')"
   ]
  }
 ],
 "metadata": {
  "kernelspec": {
   "display_name": "base",
   "language": "python",
   "name": "python3"
  },
  "language_info": {
   "codemirror_mode": {
    "name": "ipython",
    "version": 3
   },
   "file_extension": ".py",
   "mimetype": "text/x-python",
   "name": "python",
   "nbconvert_exporter": "python",
   "pygments_lexer": "ipython3",
   "version": "3.11.5"
  }
 },
 "nbformat": 4,
 "nbformat_minor": 2
}
