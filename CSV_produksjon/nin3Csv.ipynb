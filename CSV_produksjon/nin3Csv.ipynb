{
 "cells": [
  {
   "cell_type": "markdown",
   "metadata": {},
   "source": [
    "# Opprett csv filer"
   ]
  },
  {
   "cell_type": "code",
   "execution_count": 1,
   "metadata": {},
   "outputs": [
    {
     "name": "stdout",
     "output_type": "stream",
     "text": [
      "*** Backing up and removing previous csv files\n",
      "\tCSV files zipped successfully. Zip file name: archive/csv_files_20240530191351.zip\n",
      "*** Fetching endringslog.csv\n",
      "*** Fetching data from Excel file: inn_data/NiN3.0_Tot_e15_20230901_import_kodebase.xlsx\n",
      "*** Saving nin3_typer as tmp/nin3_typer.xlsx\n",
      "*** Creating lookup-file: tmp/vnkode_vk2_trinn.csv\n",
      "*** Creating typer.csv\n",
      "*** Creating hovedtypegrupper.csv\n",
      "\tNo duplicates in column HTGKode\n",
      "*** Creating type_htg_mapping.csv\n",
      "*** Creating hovedtype.csv\n",
      "\tNo duplicates in column HTKode\n",
      "*** Hovedtypegruppe_hovedtype_mapping.csv\n",
      "\tNo duplicates in column HTKode\n",
      "*** Creating grunntyper.csv\n",
      "\tNo duplicates in column GTKode\n",
      "*** Creating hovedtype_grunntype_mapping.csv\n",
      "*** Creating M005.csv\n",
      "\tLast joint of langkode and number are not the same: NiN-3.0-T-C-PE-NA-MB-LM03-M005-01, 2 attempting fix of langkode\n",
      "\tLast joint of langkode and number are not the same: NiN-3.0-T-C-PE-NA-MB-TB01-M005-04, 7 attempting fix of langkode\n",
      "\tLast joint of langkode and number are not the same: NiN-3.0-T-C-PE-NA-MB-TB01-M005-05, 8 attempting fix of langkode\n",
      "\tLast joint of langkode and number are not the same: NiN-3.0-T-C-PE-NA-MB-TB01-M005-06, 9 attempting fix of langkode\n",
      "\tLast joint of langkode and number are not the same: NiN-3.0-T-C-PE-NA-MB-VC01-M005-02, 4 attempting fix of langkode\n",
      "\tNo duplicates in column M005-langkode\n",
      "*** Creating m005_grunntype_mapping.csv\n",
      "*** Creating m005_hovedtype_mapping.csv\n",
      "*** Creating m020.csv\n",
      "\tLast joint of langkode and number are not the same: NiN-3.0-T-C-PE-NA-MB-MC04-M020-01, 5 attempting fix of langkode\n",
      "\tLast joint of langkode and number are not the same: NiN-3.0-T-C-PE-NA-MB-MC04-M020-02, 6 attempting fix of langkode\n",
      "\tLast joint of langkode and number are not the same: NiN-3.0-T-C-PE-NA-MB-MC04-M020-05, 7 attempting fix of langkode\n",
      "\tLast joint of langkode and number are not the same: NiN-3.0-T-C-PE-NA-MB-MC04-M020-06, 8 attempting fix of langkode\n",
      "\tLast joint of langkode and number are not the same: NiN-3.0-T-C-PE-NA-MB-LM03-M020-01, 2 attempting fix of langkode\n",
      "\tLast joint of langkode and number are not the same: NiN-3.0-T-C-PE-NA-MB-TM03-M020-03, 4 attempting fix of langkode\n",
      "\tLast joint of langkode and number are not the same: NiN-3.0-T-C-PE-NA-MB-TM03-M020-03, 5 attempting fix of langkode\n",
      "\tLast joint of langkode and number are not the same: NiN-3.0-T-C-PE-NA-MB-TM03-M020-04, 6 attempting fix of langkode\n",
      "\tLast joint of langkode and number are not the same: NiN-3.0-T-C-PE-NA-MB-TM03-M020-05, 7 attempting fix of langkode\n",
      "\tLast joint of langkode and number are not the same: NiN-3.0-T-C-PE-NA-MB-TM03-M020-06, 8 attempting fix of langkode\n",
      "\tLast joint of langkode and number are not the same: NiN-3.0-T-C-PE-NA-MB-VC01-M020-01, 2 attempting fix of langkode\n",
      "\tNo duplicates in column M020-langkode\n",
      "*** Creating m020_grunntype_mapping.csv\n",
      "*** Creating m020_hovedtype_mapping.csv\n",
      "*** Creating m050.csv\n",
      "*** Creating m050_grunntype_mapping.csv\n",
      "*** Creating m050_hovedtype_mapping.csv\n",
      "*** Creating grunntype_variabeltrinn_mapping.csv\n",
      "Warning: Rows without match (20):\n",
      " written to tmp/gt_vt_trinn_no_matches.csv\n",
      "*** Creating hovedtype_variabeltrinn_mapping.csv\n",
      "Warning: Rows without match (272) \n",
      " written to tmp/ht_vt_trinn_no_matches.csv\n",
      "*** Creating preperation_for 3.0 to 23 convertions\n",
      "*** Creating htg_konv.csv\n",
      "File written to ut_data/konvertering_htg_v30.csv\n",
      "*** Creating ht_konv.csv\n",
      "\t\tFant ikke url for NiN2kode:T17-27\n",
      "\t\tFant ikke url for NiN2kode:T17-28\n",
      "\t\tFant ikke url for NiN2kode:T17-29\n",
      "\t\tFant ikke url for NiN2kode:I2\n",
      "File written to ut_data/konvertering_ht_v30.csv\n",
      "*** Creating gt_konv.csv\n",
      "\t\tFant ikke url for NiN2kode:32\n",
      "\t\tFant ikke url for NiN2kode:39\n",
      "\t\tFant ikke url for NiN2kode:41\n",
      "\t\tFant ikke url for NiN2kode:T38-1\n",
      "\t\tFant ikke url for NiN2kode:T38-1\n",
      "\t\tFant ikke url for NiN2kode:T38-1\n",
      "\t\tFant ikke url for NiN2kode:T38-1\n",
      "File written to ut_data/konvertering_gt_v30.csv\n",
      "*** Creating variabel.csv\n",
      "*** Creating variabelnavn_variabel_mapping.csv\n",
      "*** Creating maaleskala_enhet.csv\n",
      "*** Creating maaleskala_trinn.csv\n",
      "*** Creating variabelnavn_maaleskala_mapping.csv\n",
      "*** Creating variabelnavn_konvertering.csv\n",
      "*** Creating trinn_konvertering.csv\n",
      "Done!\n"
     ]
    }
   ],
   "source": [
    "from csv_prod_functions import create_csv_files\n",
    "create_csv_files()"
   ]
  }
 ],
 "metadata": {
  "kernelspec": {
   "display_name": "base",
   "language": "python",
   "name": "python3"
  },
  "language_info": {
   "codemirror_mode": {
    "name": "ipython",
    "version": 3
   },
   "file_extension": ".py",
   "mimetype": "text/x-python",
   "name": "python",
   "nbconvert_exporter": "python",
   "pygments_lexer": "ipython3",
   "version": "3.11.5"
  }
 },
 "nbformat": 4,
 "nbformat_minor": 2
}
