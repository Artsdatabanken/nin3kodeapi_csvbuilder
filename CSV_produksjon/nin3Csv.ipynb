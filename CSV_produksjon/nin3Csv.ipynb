{
 "cells": [
  {
   "cell_type": "markdown",
   "metadata": {},
   "source": [
    "# Opprett csv filer"
   ]
  },
  {
   "cell_type": "code",
   "execution_count": 5,
   "metadata": {},
   "outputs": [
    {
     "name": "stdout",
     "output_type": "stream",
     "text": [
      "*** Backing up and removing previous csv files\n"
     ]
    },
    {
     "name": "stdout",
     "output_type": "stream",
     "text": [
      "\tCSV files zipped successfully. Zip file name: archive/csv_files_20241122122818.zip\n",
      "*** Fetching endringslog.csv\n",
      "*** Fetching data from Excel file: inn_data/NiN3.0_Tot_e15_20230901_import_kodebase.xlsx\n"
     ]
    },
    {
     "name": "stderr",
     "output_type": "stream",
     "text": [
      "c:\\gitrepos\\nin3kodeapi_csvbuilder\\CSV_produksjon\\csv_prod_functions.py:114: FutureWarning: DataFrame.applymap has been deprecated. Use DataFrame.map instead.\n",
      "  nin3_typer = nin3_typer.applymap(lambda x: x.strip() if isinstance(x, str) else x)\n"
     ]
    },
    {
     "name": "stdout",
     "output_type": "stream",
     "text": [
      "*** Saving nin3_typer as tmp/nin3_typer.xlsx\n"
     ]
    },
    {
     "name": "stderr",
     "output_type": "stream",
     "text": [
      "c:\\gitrepos\\nin3kodeapi_csvbuilder\\CSV_produksjon\\csv_prod_functions.py:91: FutureWarning: DataFrame.applymap has been deprecated. Use DataFrame.map instead.\n",
      "  nin3_variabler = nin3_variabler.applymap(lambda x: x.strip() if isinstance(x, str) else x) # removing whitespace\n",
      "c:\\gitrepos\\nin3kodeapi_csvbuilder\\CSV_produksjon\\csv_prod_functions.py:151: FutureWarning: DataFrame.applymap has been deprecated. Use DataFrame.map instead.\n",
      "  hovedtypegrupper = hovedtypegrupper.applymap(lambda x: x.strip() if isinstance(x, str) else x) #Setter alle kolonner til string\n",
      "c:\\gitrepos\\nin3kodeapi_csvbuilder\\CSV_produksjon\\csv_prod_functions.py:174: FutureWarning: DataFrame.applymap has been deprecated. Use DataFrame.map instead.\n",
      "  typer_htg_0 = typer_htg_0.applymap(lambda x: x.strip() if isinstance(x, str) else x)\n"
     ]
    },
    {
     "name": "stdout",
     "output_type": "stream",
     "text": [
      "*** Creating lookup-file: tmp/vnkode_vk2_trinn.csv\n",
      "*** Creating typer.csv\n",
      "*** Creating hovedtypegrupper.csv\n",
      "\tNo duplicates in column HTGKode\n",
      "*** Creating type_htg_mapping.csv\n",
      "*** Creating hovedtype.csv\n",
      "\tNo duplicates in column HTKode\n",
      "*** Hovedtypegruppe_hovedtype_mapping.csv\n",
      "\tNo duplicates in column HTKode\n",
      "*** Creating grunntyper.csv\n",
      "\tNo duplicates in column GTKode\n",
      "*** Creating hovedtype_grunntype_mapping.csv\n",
      "*** Creating M005.csv\n",
      "Error: Last joint '16' is not a valid integer.\n",
      "Error: Last joint '17' is not a valid integer.\n",
      "Error: Last joint '18' is not a valid integer.\n",
      "\tNo duplicates in column M005-langkode\n",
      "*** Creating m005_grunntype_mapping.csv\n",
      "*** Creating m005_hovedtype_mapping.csv\n",
      "*** Creating m020.csv\n",
      "\tNo duplicates in column M020-langkode\n",
      "*** Creating m020_grunntype_mapping.csv\n",
      "*** Creating m020_hovedtype_mapping.csv\n",
      "*** Creating m050.csv\n",
      "*** Creating m050_grunntype_mapping.csv\n",
      "*** Creating m050_hovedtype_mapping.csv\n",
      "*** Creating grunntype_variabeltrinn_mapping.csv\n",
      "Warning: Rows without match (17):\n",
      " written to tmp/gt_vt_trinn_no_matches.csv\n",
      "*** Creating hovedtype_variabeltrinn_mapping.csv\n",
      "Warning: Rows without match (272) \n",
      " written to tmp/ht_vt_trinn_no_matches.csv\n",
      "*** Creating preperation_for 3.0 to 23 convertions\n",
      "*** Creating htg_konv.csv\n",
      "File written to ut_data/konvertering_htg_v30.csv\n",
      "*** Creating ht_konv.csv\n",
      "\t\tFant ikke url for NiN2kode:T17-27\n",
      "\t\tFant ikke url for NiN2kode:T17-28\n",
      "\t\tFant ikke url for NiN2kode:T17-29\n",
      "\t\tFant ikke url for NiN2kode:I2\n",
      "File written to ut_data/konvertering_ht_v30.csv\n",
      "*** Creating gt_konv.csv\n",
      "\t\tFant ikke url for NiN2kode:32\n",
      "\t\tFant ikke url for NiN2kode:39\n",
      "\t\tFant ikke url for NiN2kode:41\n",
      "\t\tFant ikke url for NiN2kode:T38-1\n",
      "\t\tFant ikke url for NiN2kode:T38-1\n",
      "\t\tFant ikke url for NiN2kode:T38-1\n",
      "\t\tFant ikke url for NiN2kode:T38-1\n",
      "File written to ut_data/konvertering_gt_v30.csv\n",
      "*** Creating variabel.csv\n",
      "*** Creating variabelnavn_variabel_mapping.csv\n",
      "*** Creating maaleskala_enhet.csv\n",
      "*** Creating maaleskala_trinn.csv\n",
      "*** Creating variabelnavn_maaleskala_mapping.csv\n"
     ]
    },
    {
     "name": "stderr",
     "output_type": "stream",
     "text": [
      "c:\\gitrepos\\nin3kodeapi_csvbuilder\\CSV_produksjon\\csv_prod_functions.py:501: FutureWarning: DataFrame.applymap has been deprecated. Use DataFrame.map instead.\n",
      "  htg0 = htg0.applymap(lambda x: x.strip() if isinstance(x, str) else x)\n",
      "c:\\gitrepos\\nin3kodeapi_csvbuilder\\CSV_produksjon\\csv_prod_functions.py:555: FutureWarning: DataFrame.applymap has been deprecated. Use DataFrame.map instead.\n",
      "  ht0 = nin3_typer_orig.applymap(lambda x: x.strip() if isinstance(x, str) else x)\n",
      "c:\\gitrepos\\nin3kodeapi_csvbuilder\\CSV_produksjon\\csv_prod_functions.py:622: FutureWarning: DataFrame.applymap has been deprecated. Use DataFrame.map instead.\n",
      "  gt0 = nin3_typer_orig.applymap(lambda x: x.strip() if isinstance(x, str) else x)\n"
     ]
    },
    {
     "name": "stdout",
     "output_type": "stream",
     "text": [
      "*** Creating variabelnavn_konvertering.csv\n",
      "*** Creating trinn_konvertering.csv\n",
      "Done!\n"
     ]
    }
   ],
   "source": [
    "from csv_prod_functions import create_csv_files\n",
    "create_csv_files()"
   ]
  }
 ],
 "metadata": {
  "kernelspec": {
   "display_name": "Python 3",
   "language": "python",
   "name": "python3"
  },
  "language_info": {
   "codemirror_mode": {
    "name": "ipython",
    "version": 3
   },
   "file_extension": ".py",
   "mimetype": "text/x-python",
   "name": "python",
   "nbconvert_exporter": "python",
   "pygments_lexer": "ipython3",
   "version": "3.12.6"
  }
 },
 "nbformat": 4,
 "nbformat_minor": 2
}
