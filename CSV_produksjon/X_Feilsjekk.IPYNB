{
 "cells": [
  {
   "cell_type": "markdown",
   "metadata": {},
   "source": [
    "# "
   ]
  },
  {
   "cell_type": "markdown",
   "metadata": {},
   "source": [
    "## KLE sjekk \n",
    "Sjekker om det mangler rader i KLE-fanene"
   ]
  },
  {
   "cell_type": "code",
   "execution_count": null,
   "metadata": {},
   "outputs": [
    {
     "ename": "",
     "evalue": "",
     "output_type": "error",
     "traceback": [
      "\u001b[1;31mThe Kernel crashed while executing code in the current cell or a previous cell. \n",
      "\u001b[1;31mPlease review the code in the cell(s) to identify a possible cause of the failure. \n",
      "\u001b[1;31mClick <a href='https://aka.ms/vscodeJupyterKernelCrash'>here</a> for more info. \n",
      "\u001b[1;31mView Jupyter <a href='command:jupyter.viewOutput'>log</a> for further details."
     ]
    }
   ],
   "source": [
    "from errorcheck_functions import main_kle\n",
    "main_kle()"
   ]
  },
  {
   "cell_type": "markdown",
   "metadata": {},
   "source": [
    "## CSV antall status\n",
    "Sammenligner linjeantall i nåværende og forrige csv-produksjon\n"
   ]
  },
  {
   "cell_type": "code",
   "execution_count": null,
   "metadata": {},
   "outputs": [],
   "source": [
    "import os\n",
    "from errorcheck_functions import check_csv_folder\n",
    "from conf import csv_folder_path\n",
    "import pandas as pd\n",
    "arr_new = check_csv_folder(\"ut_data\")\n",
    "arr_old = check_csv_folder(\"C:\\\\temp\\\\backup csvfiles\\\\20240129\")\n",
    "df_new = pd.DataFrame(arr_new)\n",
    "df_new.rename(columns={'num_lines': 'num_lines_new'}, inplace=True)\n",
    "df_old = pd.DataFrame(arr_old)\n",
    "merged_df = pd.merge(df_new, df_old[['file_name', 'num_lines']], on='file_name', how='inner')\n",
    "merged_df"
   ]
  }
 ],
 "metadata": {
  "kernelspec": {
   "display_name": "base",
   "language": "python",
   "name": "python3"
  },
  "language_info": {
   "codemirror_mode": {
    "name": "ipython",
    "version": 3
   },
   "file_extension": ".py",
   "mimetype": "text/x-python",
   "name": "python",
   "nbconvert_exporter": "python",
   "pygments_lexer": "ipython3",
   "version": "3.11.5"
  }
 },
 "nbformat": 4,
 "nbformat_minor": 2
}
