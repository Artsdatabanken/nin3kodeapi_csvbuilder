{
 "cells": [
  {
   "cell_type": "markdown",
   "metadata": {},
   "source": [
    "# "
   ]
  },
  {
   "cell_type": "markdown",
   "metadata": {},
   "source": [
    "## Feilsjekk: semikolon i data?"
   ]
  },
  {
   "cell_type": "code",
   "execution_count": null,
   "metadata": {},
   "outputs": [
    {
     "ename": "",
     "evalue": "",
     "output_type": "error",
     "traceback": [
      "\u001b[1;31mThe Kernel crashed while executing code in the current cell or a previous cell. \n",
      "\u001b[1;31mPlease review the code in the cell(s) to identify a possible cause of the failure. \n",
      "\u001b[1;31mClick <a href='https://aka.ms/vscodeJupyterKernelCrash'>here</a> for more info. \n",
      "\u001b[1;31mView Jupyter <a href='command:jupyter.viewOutput'>log</a> for further details."
     ]
    }
   ],
   "source": [
    "import csv_prod_functions as csvf\n",
    "nin3_typer = csvf.load_nin3_typer_sheet()\n",
    "nin3_variabler = csvf.load_nin3_variabler_sheet()\n",
    "csvf.find_rows_with_semicolon(nin3_typer, 'Langkode')\n",
    "print(\"\\n\\n\")\n",
    "csvf.find_rows_with_semicolon(nin3_variabler, 'Langkode')",

    "from errorcheck_functions import main_kle\n",
    "main_kle()"
   ]
  },
  {
   "cell_type": "markdown",
   "metadata": {},
   "source": [
    "## CSV antall status\n",
    "Sammenligner linjeantall i nåværende og forrige csv-produksjon\n"
   ]
  },
  {
   "cell_type": "code",
   "execution_count": null,
   "metadata": {},
   "outputs": [],
   "source": [
    "import os\n",
    "from errorcheck_functions import check_csv_folder\n",
    "from conf import csv_folder_path\n",
    "import pandas as pd\n",
    "arr_new = check_csv_folder(\"ut_data\")\n",
    "arr_old = check_csv_folder(\"C:\\\\temp\\\\backup csvfiles\\\\20240129\")\n",
    "df_new = pd.DataFrame(arr_new)\n",
    "df_new.rename(columns={'num_lines': 'num_lines_new'}, inplace=True)\n",
    "df_old = pd.DataFrame(arr_old)\n",
    "merged_df = pd.merge(df_new, df_old[['file_name', 'num_lines']], on='file_name', how='inner')\n",
    "merged_df"
   ]
  },
  {
   "cell_type": "markdown",
   "metadata": {},
   "source": [
    "## Testing av M020csv fix issue 252"
   ]
  },
  {
   "cell_type": "code",
   "execution_count": null,
   "metadata": {},
   "outputs": [],
   "source": [
    "import conf\n",
    "from csv_prod_functions import sjekk_unikhet\n",
    "regnearkfil = conf.regnearkfil\n",
    "import pandas as pd\n",
    "# Set display options for pandas\n",
    "pd.set_option('display.max_rows', 500)\n",
    "pd.set_option('display.max_columns', 500)\n",
    "pd.set_option('display.width', 1000)\n",
    "\n",
    "# Disable chained assignment warning\n",
    "pd.options.mode.chained_assignment = None\n",
    "\n",
    "# Read the Excel file into a DataFrame\n",
    "nin3_typer = pd.read_excel(regnearkfil, \n",
    "                            sheet_name='Typer', \n",
    "                            #sheet_name='HT_trinntest',\n",
    "                            na_filter=False,\n",
    "                            dtype={'9 HT': str,'11 GT': str}  # Specify the data type of column [11 GT] as string\n",
    "                            )\n",
    "# Remove leading and trailing whitespaces from string columns\n",
    "nin3_m020 = nin3_typer[['M020-kode', 'M020-navn']]\n",
    "nin3_m020.to_csv('tmp/m020raw.csv',index=False, sep=\";\")\n",
    "\n",
    "\"\"\" Explanation of the regular expression:\n",
    "    [A-Z]{2} : matches any two uppercase letters.\n",
    "    \\d+      : matches one or more digits.\n",
    "    -M020-   : matches the literal string \"-M020-\".\n",
    "    \\d+      : matches one or more digits again.\"\"\"\n",
    "nin3_m020['M020-kortkode'] = nin3_m020['M020-kode'].str.extract(r'([A-Z]{2}\\d+-M020-\\d+)')\n",
    "nin3_m020_filtered = nin3_m020[nin3_m020['M020-navn'].str.len() > 1]\n",
    "#order by M020-kode\n",
    "m020_sorted = nin3_m020_filtered.astype({'M020-kode': str}).sort_values('M020-kode') \n",
    "m020_sorted.to_csv('ut_data/m020.csv', index=False, sep=\";\")\n",
    "#sjekk_unikhet(n3t_m020, 'M020-kode')\n",
    "sjekk_unikhet(m020_sorted, 'M020-kode')\n",
    "m020_sorted.info()\n"
   ]
  }
 ],
 "metadata": {
  "kernelspec": {
   "display_name": "base",
   "language": "python",
   "name": "python3"
  },
  "language_info": {
   "codemirror_mode": {
    "name": "ipython",
    "version": 3
   },
   "file_extension": ".py",
   "mimetype": "text/x-python",
   "name": "python",
   "nbconvert_exporter": "python",
   "pygments_lexer": "ipython3",
   "version": "3.11.5"
  }
 },
 "nbformat": 4,
 "nbformat_minor": 2
}
