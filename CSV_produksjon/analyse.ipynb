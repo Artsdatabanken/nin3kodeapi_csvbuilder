{
 "cells": [
  {
   "cell_type": "markdown",
   "metadata": {},
   "source": [
    "# Konvertering\n",
    "Forsøk på å sjekke nin2 koder som mangler konvertering"
   ]
  },
  {
   "cell_type": "code",
   "execution_count": null,
   "metadata": {},
   "outputs": [],
   "source": [
    "# dataframe med alle 2.3 koder\n",
    "    # henter fra nin2 database\n",
    "# dataframe med alle konverteringer, fra nin3 sqlite\n",
    "import pandas as pd\n",
    "import sqlite3\n",
    "conn_nin3 = sqlite3.connect('../3_0_excel/db/nin3kodeapi.db')\n",
    "conn_nin2 = sqlite3.connect('nin2prod.db')\n",
    "Koder_nin2_konv_query = \"\"\"\n",
    "    SELECT ForrigeKode, Klasse \n",
    "    FROM Konvertering \n",
    "    where VersjonId in (select id from Versjon where Navn like '3.0')\"\"\"\n",
    "df_2_3_konverteringer = pd.read_sql_query(Koder_nin2_konv_query, conn_nin3)\n",
    "Koder_nin2_query = \"\"\"\n",
    "SELECT KodeName\n",
    "From Kode where Discriminator in ('HovedtypeKode', 'GrunntypeKode') and versionId in (Select Id from NiNVersion where Navn ='2.3')\"\"\"\n",
    "pd.read_sql_query(\"Select * from Kode where versionId in (Select Id from NiNVersion where Navn ='2.3')\", conn_nin2).to_csv(\"tmp/alle_2_3_koder.csv\",index=False) #Oversikt alle nin2 koder\n",
    "df_2_3_alle_koder = pd.read_sql_query(Koder_nin2_query, conn_nin2)\n",
    "df_2_3_alle_koder\n",
    "df_ikke_konvertert = df_2_3_alle_koder[~df_2_3_alle_koder['KodeName'].isin(df_2_3_konverteringer['ForrigeKode'])]\n",
    "df_konvertert = df_2_3_alle_koder[df_2_3_alle_koder['KodeName'].isin(df_2_3_konverteringer['ForrigeKode'])]\n",
    "df_konvertert.to_csv('tmp/konverterte_koder.csv', index=False)\n",
    "df_ikke_konvertert.to_csv('tmp/ikke_konverterte_koder.csv', index=False)\n",
    "df_ikke_konvertert.info()"
   ]
  }
 ],
 "metadata": {
  "kernelspec": {
   "display_name": "base",
   "language": "python",
   "name": "python3"
  },
  "language_info": {
   "codemirror_mode": {
    "name": "ipython",
    "version": 3
   },
   "file_extension": ".py",
   "mimetype": "text/x-python",
   "name": "python",
   "nbconvert_exporter": "python",
   "pygments_lexer": "ipython3",
   "version": "3.11.5"
  }
 },
 "nbformat": 4,
 "nbformat_minor": 2
}
