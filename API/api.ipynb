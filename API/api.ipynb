{
 "cells": [
  {
   "cell_type": "markdown",
   "metadata": {},
   "source": [
    "# API sjekk"
   ]
  },
  {
   "cell_type": "code",
   "execution_count": null,
   "metadata": {},
   "outputs": [],
   "source": [
    "# var to set root url to run tests on\n",
    "# use request\n",
    "# get all codes from db either from github or from local db\n",
    "#for each endpoint loop through all codes and kall endpoint with that code\n",
    "# log responses where statuscode is not 200 and the kode that was used in that request in addition to the endpoint that was called.\n"
   ]
  }
 ],
 "metadata": {
  "kernelspec": {
   "display_name": "base",
   "language": "python",
   "name": "python3"
  },
  "language_info": {
   "name": "python",
   "version": "3.11.5"
  }
 },
 "nbformat": 4,
 "nbformat_minor": 2
}
